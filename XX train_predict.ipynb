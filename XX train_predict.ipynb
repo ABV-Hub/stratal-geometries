{
 "cells": [
  {
   "cell_type": "code",
   "execution_count": 1,
   "metadata": {},
   "outputs": [],
   "source": [
    "from sklearn.model_selection import train_test_split\n",
    "from sklearn.neighbors import KNeighborsClassifier\n",
    "from sklearn.model_selection import GridSearchCV\n",
    "from geopandas import GeoDataFrame\n",
    "from scipy.spatial.distance import pdist, squareform\n",
    "from shapely.geometry import Point\n",
    "import pandas as pd\n",
    "import numpy as np\n",
    "import matplotlib.pyplot as plt\n",
    "import scikitplot as skplt\n",
    "\n",
    "\n",
    "%matplotlib inline"
   ]
  },
  {
   "cell_type": "code",
   "execution_count": 2,
   "metadata": {},
   "outputs": [],
   "source": [
    "no_of_neighbors = 25\n",
    "\n",
    "dataset = pd.read_csv(\n",
    "    r\"F:/Geology/WSGS/Projects/jupyter/0\"\n",
    "    + str(no_of_neighbors)\n",
    "    + \"neighbors.csv\",\n",
    "    index_col=[0],\n",
    ")\n",
    "\n",
    "\n",
    "# next let's split our toy data into training and test sets, choose how much with test_size of the data becomes the test set\n",
    "X_train, X_test, y_train, y_test = train_test_split(\n",
    "    dataset.iloc[0:, 0:-1].values,\n",
    "    dataset.iloc[0:, -1].values,\n",
    "    test_size=0.5,\n",
    "    random_state=86,\n",
    ")\n",
    "tops_api = pd.read_csv(\n",
    "    r\"F:\\Geology\\WSGS\\Projects\\Unconformity or onlap\\Python\\ftunion.csv\"\n",
    ").fillna(\n",
    "    0\n",
    ")  # this file is available in the unconformity or onlap folder in the repo\n",
    "\n",
    "iterable = [\"Kfh\", \"Klz\", \"Kll\", \"Klr\", \"Kl\", \"Tfc\", \"Tfb\", \"Tfob\", \"Tfu\"]\n",
    "topcombos = list(zip(iterable, iterable[1:]))\n",
    "topcombos.append((\"Kfh\", \"Kl\"))\n",
    "topcombos.append((\"Kl\", \"Tfu\"))"
   ]
  },
  {
   "cell_type": "code",
   "execution_count": 3,
   "metadata": {},
   "outputs": [
    {
     "data": {
      "text/plain": [
       "KNeighborsClassifier(algorithm='auto', leaf_size=30, metric='minkowski',\n",
       "                     metric_params=None, n_jobs=None, n_neighbors=10, p=2,\n",
       "                     weights='uniform')"
      ]
     },
     "execution_count": 3,
     "metadata": {},
     "output_type": "execute_result"
    }
   ],
   "source": [
    "neigh = KNeighborsClassifier(n_neighbors=10)\n",
    "neigh.fit(X_train, y_train)"
   ]
  },
  {
   "cell_type": "code",
   "execution_count": 10,
   "metadata": {},
   "outputs": [
    {
     "name": "stdout",
     "output_type": "stream",
     "text": [
      "Fitting 10 folds for each of 324 candidates, totalling 3240 fits\n"
     ]
    },
    {
     "name": "stderr",
     "output_type": "stream",
     "text": [
      "[Parallel(n_jobs=6)]: Using backend LokyBackend with 6 concurrent workers.\n",
      "[Parallel(n_jobs=6)]: Done   6 tasks      | elapsed:    3.0s\n",
      "[Parallel(n_jobs=6)]: Done  29 tasks      | elapsed:    7.6s\n",
      "[Parallel(n_jobs=6)]: Done  60 tasks      | elapsed:   13.1s\n",
      "[Parallel(n_jobs=6)]: Done 101 tasks      | elapsed:   20.6s\n",
      "[Parallel(n_jobs=6)]: Done 150 tasks      | elapsed:   30.8s\n",
      "[Parallel(n_jobs=6)]: Done 209 tasks      | elapsed:   43.8s\n",
      "[Parallel(n_jobs=6)]: Done 276 tasks      | elapsed:   54.9s\n",
      "[Parallel(n_jobs=6)]: Done 353 tasks      | elapsed:  1.2min\n",
      "[Parallel(n_jobs=6)]: Done 438 tasks      | elapsed:  1.4min\n",
      "[Parallel(n_jobs=6)]: Done 533 tasks      | elapsed:  1.7min\n",
      "[Parallel(n_jobs=6)]: Done 636 tasks      | elapsed:  2.0min\n",
      "[Parallel(n_jobs=6)]: Done 749 tasks      | elapsed:  2.3min\n",
      "[Parallel(n_jobs=6)]: Done 870 tasks      | elapsed:  2.8min\n",
      "[Parallel(n_jobs=6)]: Done 1001 tasks      | elapsed:  3.2min\n",
      "[Parallel(n_jobs=6)]: Done 1140 tasks      | elapsed:  3.6min\n",
      "[Parallel(n_jobs=6)]: Done 1289 tasks      | elapsed:  4.1min\n",
      "[Parallel(n_jobs=6)]: Done 1446 tasks      | elapsed:  4.6min\n",
      "[Parallel(n_jobs=6)]: Done 1613 tasks      | elapsed:  5.2min\n",
      "[Parallel(n_jobs=6)]: Done 1788 tasks      | elapsed:  5.7min\n",
      "[Parallel(n_jobs=6)]: Done 1973 tasks      | elapsed:  6.2min\n",
      "[Parallel(n_jobs=6)]: Done 2166 tasks      | elapsed:  6.8min\n",
      "[Parallel(n_jobs=6)]: Done 2369 tasks      | elapsed:  6.9min\n",
      "[Parallel(n_jobs=6)]: Done 2580 tasks      | elapsed:  7.3min\n",
      "[Parallel(n_jobs=6)]: Done 2801 tasks      | elapsed:  7.6min\n",
      "[Parallel(n_jobs=6)]: Done 3030 tasks      | elapsed:  7.8min\n",
      "[Parallel(n_jobs=6)]: Done 3240 out of 3240 | elapsed:  8.3min finished\n"
     ]
    }
   ],
   "source": [
    "grid_params = {\n",
    "    \"n_neighbors\": [5,10,15,20,30,40,50,80,100],\n",
    "    \"weights\": [\"uniform\", \"distance\"],\n",
    "    \"metric\": [\"euclidean\", \"manhattan\"],\n",
    "    \"algorithm\": [\"ball_tree\", 'kd_tree', 'brute'],\n",
    "    \"leaf_size\": [10,20,30],\n",
    "}\n",
    "\n",
    "gs = GridSearchCV(\n",
    "    KNeighborsClassifier(), grid_params, verbose=8, cv=10, n_jobs=6\n",
    ")\n",
    "gs_results = gs.fit(X_train, y_train)"
   ]
  },
  {
   "cell_type": "code",
   "execution_count": 11,
   "metadata": {},
   "outputs": [
    {
     "data": {
      "text/plain": [
       "0.9394444444444444"
      ]
     },
     "execution_count": 11,
     "metadata": {},
     "output_type": "execute_result"
    }
   ],
   "source": [
    "gs_results.best_score_"
   ]
  },
  {
   "cell_type": "code",
   "execution_count": 6,
   "metadata": {},
   "outputs": [
    {
     "data": {
      "text/plain": [
       "KNeighborsClassifier(algorithm='ball_tree', leaf_size=10, metric='manhattan',\n",
       "                     metric_params=None, n_jobs=None, n_neighbors=5, p=2,\n",
       "                     weights='distance')"
      ]
     },
     "execution_count": 6,
     "metadata": {},
     "output_type": "execute_result"
    }
   ],
   "source": [
    "gs_results.best_estimator_"
   ]
  },
  {
   "cell_type": "code",
   "execution_count": 7,
   "metadata": {},
   "outputs": [
    {
     "data": {
      "text/plain": [
       "{'algorithm': 'ball_tree',\n",
       " 'leaf_size': 10,\n",
       " 'metric': 'manhattan',\n",
       " 'n_neighbors': 5,\n",
       " 'weights': 'distance'}"
      ]
     },
     "execution_count": 7,
     "metadata": {},
     "output_type": "execute_result"
    }
   ],
   "source": [
    "gs_results.best_params_"
   ]
  },
  {
   "cell_type": "code",
   "execution_count": 8,
   "metadata": {},
   "outputs": [
    {
     "data": {
      "text/plain": [
       "KNeighborsClassifier(algorithm='ball_tree', leaf_size=10, metric='manhattan',\n",
       "                     metric_params=None, n_jobs=None, n_neighbors=5, p=2,\n",
       "                     weights='distance')"
      ]
     },
     "execution_count": 8,
     "metadata": {},
     "output_type": "execute_result"
    }
   ],
   "source": [
    "neigh = KNeighborsClassifier(**gs.best_params_)\n",
    "neigh.fit(X_train, y_train)"
   ]
  },
  {
   "cell_type": "code",
   "execution_count": 12,
   "metadata": {
    "lines_to_next_cell": 2
   },
   "outputs": [],
   "source": [
    "y_pred = neigh.predict(X_test)"
   ]
  },
  {
   "cell_type": "code",
   "execution_count": 13,
   "metadata": {},
   "outputs": [
    {
     "data": {
      "image/png": "[encoded data removed]",
      "text/plain": [
       "<Figure size 432x288 with 2 Axes>"
      ]
     },
     "metadata": {
      "needs_background": "light"
     },
     "output_type": "display_data"
    }
   ],
   "source": [
    "skplt.metrics.plot_confusion_matrix(y_test, y_pred, normalize=True)\n",
    "plt.savefig('confusion matrix figure.pdf')"
   ]
  },
  {
   "cell_type": "code",
   "execution_count": null,
   "metadata": {},
   "outputs": [],
   "source": []
  }
 ],
 "metadata": {
  "jupytext": {
   "formats": "ipynb,py:light"
  },
  "kernelspec": {
   "display_name": "Python 3",
   "language": "python",
   "name": "python3"
  },
  "language_info": {
   "codemirror_mode": {
    "name": "ipython",
    "version": 3
   },
   "file_extension": ".py",
   "mimetype": "text/x-python",
   "name": "python",
   "nbconvert_exporter": "python",
   "pygments_lexer": "ipython3",
   "version": "3.6.7"
  }
 },
 "nbformat": 4,
 "nbformat_minor": 4
}
