{
 "cells": [
  {
   "cell_type": "code",
   "execution_count": 3,
   "metadata": {},
   "outputs": [],
   "source": [
    "import numpy as np\n",
    "import pandas as pd\n",
    "import glob\n",
    "import matplotlib.pyplot as plt\n",
    "%matplotlib inline\n",
    "import time\n",
    "from tqdm import tqdm\n",
    "import seaborn as sns\n",
    "from IPython import display\n",
    "import geopandas as gpd"
   ]
  },
  {
   "cell_type": "code",
   "execution_count": null,
   "metadata": {},
   "outputs": [],
   "source": [
    "ts1w = pd.read_csv(r'C:\\Users\\jesse.pisel\\Downloads\\TTL_Prod041018\\timeseries\\1to5ts_water.csv', index_col=[0])\n",
    "ts2w = pd.read_csv(r'C:\\Users\\jesse.pisel\\Downloads\\TTL_Prod041018\\timeseries\\7to17ts_water.csv', index_col=[0])\n",
    "ts3w = pd.read_csv(r'C:\\Users\\jesse.pisel\\Downloads\\TTL_Prod041018\\timeseries\\19to33ts_water.csv', index_col=[0])\n",
    "ts4w = pd.read_csv(r'C:\\Users\\jesse.pisel\\Downloads\\TTL_Prod041018\\timeseries\\35to45ts_water.csv', index_col=[0])\n",
    "bigTSwater = pd.concat([ts1w, ts2w, ts3w, ts4w], axis=1)\n",
    "bigTSwaterOG = pd.concat([ts1w, ts2w, ts3w, ts4w], axis=1)"
   ]
  },
  {
   "cell_type": "code",
   "execution_count": null,
   "metadata": {},
   "outputs": [],
   "source": [
    "#apino = bigTSwater.columns.values[0:500]\n",
    "apino = bigTSwater.max().sort_values(ascending=False).index.values\n",
    "for well in tqdm(apino):\n",
    "    if bigTSwater[well].max() > 0:\n",
    "        mean = bigTSwater[well].mean()\n",
    "        q = bigTSwater[well].quantile(0.9999)+1\n",
    "        bigTSwater.loc[bigTSwater[well]>q, well] = np.nan\n",
    "        bigTSwater.fillna(mean)\n",
    "    else:\n",
    "        pass"
   ]
  },
  {
   "cell_type": "code",
   "execution_count": null,
   "metadata": {},
   "outputs": [],
   "source": [
    "bigTSwater.plot(legend=False)"
   ]
  },
  {
   "cell_type": "code",
   "execution_count": null,
   "metadata": {},
   "outputs": [],
   "source": [
    "bigTSwater.to_csv(r'C:\\Users\\jesse.pisel\\Downloads\\TTL_Prod041018\\timeseries\\water.csv')"
   ]
  },
  {
   "cell_type": "code",
   "execution_count": null,
   "metadata": {},
   "outputs": [],
   "source": [
    "bigTSwater['1705735'].max()"
   ]
  },
  {
   "cell_type": "markdown",
   "metadata": {},
   "source": [
    "# now let's clean up the gas data"
   ]
  },
  {
   "cell_type": "code",
   "execution_count": null,
   "metadata": {},
   "outputs": [],
   "source": [
    "ts1g = pd.read_csv(r'C:\\Users\\jesse.pisel\\Downloads\\TTL_Prod041018\\timeseries\\1to5ts_gas.csv', index_col=[0])\n",
    "ts2g = pd.read_csv(r'C:\\Users\\jesse.pisel\\Downloads\\TTL_Prod041018\\timeseries\\7to17ts_gas.csv', index_col=[0])\n",
    "ts3g = pd.read_csv(r'C:\\Users\\jesse.pisel\\Downloads\\TTL_Prod041018\\timeseries\\19to33ts_gas.csv', index_col=[0])\n",
    "ts4g = pd.read_csv(r'C:\\Users\\jesse.pisel\\Downloads\\TTL_Prod041018\\timeseries\\35to45ts_gas.csv', index_col=[0])\n",
    "bigTSgas = pd.concat([ts1g, ts2g, ts3g, ts4g], axis=1)"
   ]
  },
  {
   "cell_type": "code",
   "execution_count": null,
   "metadata": {},
   "outputs": [],
   "source": [
    "apino = bigTSgas.max().sort_values(ascending=True).index.values\n",
    "for well in tqdm(apino):\n",
    "    if bigTSgas[well].max() > 0:\n",
    "        mean = bigTSgas[well].mean()\n",
    "        q = bigTSgas[well].quantile(0.9999)+1\n",
    "        bigTSgas.loc[bigTSgas[well]>q, well] = np.nan\n",
    "        bigTSgas.fillna(mean)\n",
    "    else:\n",
    "        pass"
   ]
  },
  {
   "cell_type": "code",
   "execution_count": null,
   "metadata": {},
   "outputs": [],
   "source": [
    "bigTSgas.plot(legend=False)"
   ]
  },
  {
   "cell_type": "code",
   "execution_count": null,
   "metadata": {},
   "outputs": [],
   "source": [
    "bigTSgas.to_csv(r'C:\\Users\\jesse.pisel\\Downloads\\TTL_Prod041018\\timeseries\\gas.csv')"
   ]
  },
  {
   "cell_type": "markdown",
   "metadata": {},
   "source": [
    "# and the oil data"
   ]
  },
  {
   "cell_type": "code",
   "execution_count": null,
   "metadata": {},
   "outputs": [],
   "source": [
    "ts1 = pd.read_csv(r'C:\\Users\\jesse.pisel\\Downloads\\TTL_Prod041018\\timeseries\\1to5ts.csv', index_col=[0])\n",
    "ts2 = pd.read_csv(r'C:\\Users\\jesse.pisel\\Downloads\\TTL_Prod041018\\timeseries\\7to17ts.csv', index_col=[0])\n",
    "ts3 = pd.read_csv(r'C:\\Users\\jesse.pisel\\Downloads\\TTL_Prod041018\\timeseries\\19to33ts.csv', index_col=[0])\n",
    "ts4 = pd.read_csv(r'C:\\Users\\jesse.pisel\\Downloads\\TTL_Prod041018\\timeseries\\35to45ts.csv', index_col=[0])\n",
    "bigTSoil = pd.concat([ts1, ts2, ts3, ts4], axis=1)"
   ]
  },
  {
   "cell_type": "code",
   "execution_count": null,
   "metadata": {},
   "outputs": [
    {
     "name": "stderr",
     "output_type": "stream",
     "text": [
      " 99%|█████████████████████████████████████████████████████████████████████████▍| 76314/76953 [3:43:43<01:52,  5.69it/s]"
     ]
    }
   ],
   "source": [
    "apino = bigTSoil.max().sort_values(ascending=True).index.values\n",
    "for well in tqdm(apino):\n",
    "    if bigTSoil[well].max() > 0:\n",
    "        mean = bigTSoil[well].mean()\n",
    "        q = bigTSoil[well].quantile(0.9999)+1\n",
    "        bigTSoil.loc[bigTSoil[well]>q, well] = np.nan\n",
    "        bigTSoil.fillna(mean)\n",
    "    else:\n",
    "        pass"
   ]
  },
  {
   "cell_type": "code",
   "execution_count": null,
   "metadata": {},
   "outputs": [],
   "source": [
    "bigTSoil.plot(legend=False)"
   ]
  },
  {
   "cell_type": "code",
   "execution_count": null,
   "metadata": {},
   "outputs": [],
   "source": [
    "bigTSoil.to_csv(r'C:\\Users\\jesse.pisel\\Downloads\\TTL_Prod041018\\timeseries\\oil.csv')"
   ]
  },
  {
   "cell_type": "code",
   "execution_count": null,
   "metadata": {},
   "outputs": [],
   "source": []
  }
 ],
 "metadata": {
  "kernelspec": {
   "display_name": "Python 3",
   "language": "python",
   "name": "python3"
  },
  "language_info": {
   "codemirror_mode": {
    "name": "ipython",
    "version": 3
   },
   "file_extension": ".py",
   "mimetype": "text/x-python",
   "name": "python",
   "nbconvert_exporter": "python",
   "pygments_lexer": "ipython3",
   "version": "3.6.4"
  }
 },
 "nbformat": 4,
 "nbformat_minor": 2
}
