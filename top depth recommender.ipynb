{
 "cells": [
  {
   "cell_type": "code",
   "execution_count": 1,
   "metadata": {},
   "outputs": [],
   "source": [
    "import pandas as pd\n",
    "import numpy as np\n",
    "import matplotlib.pyplot as plt\n",
    "import geopandas as gp\n",
    "from sklearn.preprocessing import normalize\n",
    "from scipy.sparse import coo_matrix, csr_matrix\n",
    "\n",
    "\n",
    "%matplotlib inline"
   ]
  },
  {
   "cell_type": "code",
   "execution_count": 2,
   "metadata": {},
   "outputs": [],
   "source": [
    "tops=pd.read_csv(r'D:\\prbtops_inhouse.csv')\n",
    "small=tops.head()"
   ]
  },
  {
   "cell_type": "code",
   "execution_count": 3,
   "metadata": {},
   "outputs": [
    {
     "data": {
      "text/html": [
       "<div>\n",
       "<style scoped>\n",
       "    .dataframe tbody tr th:only-of-type {\n",
       "        vertical-align: middle;\n",
       "    }\n",
       "\n",
       "    .dataframe tbody tr th {\n",
       "        vertical-align: top;\n",
       "    }\n",
       "\n",
       "    .dataframe thead th {\n",
       "        text-align: right;\n",
       "    }\n",
       "</style>\n",
       "<table border=\"1\" class=\"dataframe\">\n",
       "  <thead>\n",
       "    <tr style=\"text-align: right;\">\n",
       "      <th></th>\n",
       "      <th>api</th>\n",
       "      <th>formation</th>\n",
       "      <th>source</th>\n",
       "      <th>depth</th>\n",
       "    </tr>\n",
       "  </thead>\n",
       "  <tbody>\n",
       "    <tr>\n",
       "      <th>0</th>\n",
       "      <td>4902706165</td>\n",
       "      <td>NIOBRARA</td>\n",
       "      <td>RL</td>\n",
       "      <td>238.13464</td>\n",
       "    </tr>\n",
       "    <tr>\n",
       "      <th>1</th>\n",
       "      <td>4902706165</td>\n",
       "      <td>POOL_CREEK</td>\n",
       "      <td>RL</td>\n",
       "      <td>821.76333</td>\n",
       "    </tr>\n",
       "    <tr>\n",
       "      <th>2</th>\n",
       "      <td>4902706165</td>\n",
       "      <td>GREENHORN</td>\n",
       "      <td>RL</td>\n",
       "      <td>977.24422</td>\n",
       "    </tr>\n",
       "    <tr>\n",
       "      <th>3</th>\n",
       "      <td>4902706165</td>\n",
       "      <td>BELLE_FOURCHE</td>\n",
       "      <td>RL</td>\n",
       "      <td>1110.03337</td>\n",
       "    </tr>\n",
       "    <tr>\n",
       "      <th>4</th>\n",
       "      <td>4902706165</td>\n",
       "      <td>SAGE_BREAKS</td>\n",
       "      <td>AF</td>\n",
       "      <td>441.34139</td>\n",
       "    </tr>\n",
       "  </tbody>\n",
       "</table>\n",
       "</div>"
      ],
      "text/plain": [
       "          api      formation source       depth\n",
       "0  4902706165       NIOBRARA     RL   238.13464\n",
       "1  4902706165     POOL_CREEK     RL   821.76333\n",
       "2  4902706165      GREENHORN     RL   977.24422\n",
       "3  4902706165  BELLE_FOURCHE     RL  1110.03337\n",
       "4  4902706165    SAGE_BREAKS     AF   441.34139"
      ]
     },
     "execution_count": 3,
     "metadata": {},
     "output_type": "execute_result"
    }
   ],
   "source": [
    "tops.head()"
   ]
  },
  {
   "cell_type": "code",
   "execution_count": 110,
   "metadata": {},
   "outputs": [
    {
     "data": {
      "text/plain": [
       "19738.11565"
      ]
     },
     "execution_count": 110,
     "metadata": {},
     "output_type": "execute_result"
    }
   ],
   "source": [
    "data=np.asarray(tops[['api', 'formation', 'depth']])\n",
    "tops['depth'].max()"
   ]
  },
  {
   "cell_type": "code",
   "execution_count": 112,
   "metadata": {},
   "outputs": [],
   "source": [
    "D_df = tops.pivot_table('depth', 'formation', 'api').fillna(0)"
   ]
  },
  {
   "cell_type": "code",
   "execution_count": 113,
   "metadata": {},
   "outputs": [],
   "source": [
    "R =D_df.as_matrix()\n",
    "user_ratings_mean = np.mean(R, axis = 1)\n",
    "R_demeaned = R - user_ratings_mean.reshape(-1, 1)"
   ]
  },
  {
   "cell_type": "code",
   "execution_count": 6,
   "metadata": {},
   "outputs": [
    {
     "name": "stdout",
     "output_type": "stream",
     "text": [
      "Number of wells: 2349\n",
      "Number of formations: 44\n",
      "Sparsity: 28.501%\n"
     ]
    }
   ],
   "source": [
    "n_wells = tops.api.unique().shape[0]\n",
    "n_formations = tops.formation.unique().shape[0]\n",
    "\n",
    "print('Number of wells: {}'.format(n_wells))\n",
    "print('Number of formations: {}'.format(n_formations))\n",
    "print('Sparsity: {:4.3f}%'.format(float(tops.shape[0]) / float(n_wells*n_formations) * 100))"
   ]
  },
  {
   "cell_type": "code",
   "execution_count": 7,
   "metadata": {},
   "outputs": [],
   "source": [
    "formation_to_idx = {}\n",
    "idx_to_formation = {}\n",
    "for (idx, formation) in enumerate(tops.formation.unique().tolist()):\n",
    "    formation_to_idx[formation] = idx\n",
    "    idx_to_formation[idx] = formation\n",
    "    \n",
    "api_to_idx = {}\n",
    "idx_to_api = {}\n",
    "for (idx, api) in enumerate(tops.api.unique().tolist()):\n",
    "    api_to_idx[api] = idx\n",
    "    idx_to_api[idx] = api"
   ]
  },
  {
   "cell_type": "code",
   "execution_count": 8,
   "metadata": {},
   "outputs": [],
   "source": [
    "def map_ids(row, mapper):\n",
    "    return mapper[row]\n",
    "import scipy.sparse as sparse\n"
   ]
  },
  {
   "cell_type": "code",
   "execution_count": 9,
   "metadata": {},
   "outputs": [],
   "source": [
    "#%%timeit\n",
    "J = tops.api.apply(map_ids, args=[api_to_idx]).as_matrix()\n",
    "I = tops.formation.apply(map_ids, args=[formation_to_idx]).as_matrix()\n",
    "V = tops.depth.astype(int)#/max(tops.depth.astype(int))\n",
    "likes = sparse.coo_matrix((V, (I, J)), dtype=np.float64)\n",
    "likes = likes.tocsr()"
   ]
  },
  {
   "cell_type": "code",
   "execution_count": 10,
   "metadata": {},
   "outputs": [
    {
     "name": "stdout",
     "output_type": "stream",
     "text": [
      "Number of data points: 103356\n"
     ]
    }
   ],
   "source": [
    "print('Number of data points: {}'.format(n_wells*n_formations))"
   ]
  },
  {
   "cell_type": "code",
   "execution_count": 135,
   "metadata": {},
   "outputs": [],
   "source": [
    "from scipy.sparse.linalg import svds\n",
    "U, sigma, Vt = svds(R_demeaned, k = 10)\n",
    "sigma = np.diag(sigma)\n"
   ]
  },
  {
   "cell_type": "code",
   "execution_count": 136,
   "metadata": {},
   "outputs": [],
   "source": [
    "all_user_predicted_ratings = np.dot(np.dot(U, sigma), Vt) + user_ratings_mean.reshape(-1, 1)\n",
    "preds_df = pd.DataFrame(all_user_predicted_ratings, columns = D_df.columns, index=D_df.index)"
   ]
  },
  {
   "cell_type": "code",
   "execution_count": 137,
   "metadata": {},
   "outputs": [
    {
     "data": {
      "text/plain": [
       "formation\n",
       "2ND_WALL_CREEK          -591.990128\n",
       "3RD_WALL_CREEK           491.348654\n",
       "4TH_WALL_CREEK           173.246104\n",
       "ARDMORE_BENTONITE        105.159048\n",
       "BELLE_FOURCHE           8411.603456\n",
       "CARLILE                  646.281160\n",
       "EMIGRANT_GAP             914.286340\n",
       "FOX_HILLS               3176.495325\n",
       "GAMMON                  1397.798327\n",
       "GREENHORN               8317.908322\n",
       "KARA_BENTONITE            18.920002\n",
       "KARA_BENTONITE_BASE       19.368324\n",
       "LOWER_BELLE_SAND         -92.018764\n",
       "MITTEN_BLACK_SHALE      5606.097936\n",
       "MOWRY                   8842.965161\n",
       "MUDDY                   7033.400641\n",
       "NIOBRARA                7612.184579\n",
       "NIOBRARA_A              3301.256290\n",
       "NIOBRARA_B              6247.820394\n",
       "NIOBRARA_C              6424.666254\n",
       "PARKMAN/HYGIENE          455.651701\n",
       "PARKMAN/HYGIENE_BASE     436.436741\n",
       "PARKMAN_BASE            -791.376344\n",
       "PARKMAN_BTM               -9.202775\n",
       "PARKMAN_TOP             -875.978157\n",
       "PIERRE                  3448.521288\n",
       "POOL_CREEK              6372.626899\n",
       "RED_BIRD                5236.005386\n",
       "SAGE_BREAKS             7244.067779\n",
       "SHANNON                   42.447979\n",
       "SHANNON_BASE             857.287048\n",
       "SHANNON_TOP              798.798361\n",
       "SHARON_SPRINGS             3.116442\n",
       "SUSSEX                   579.286245\n",
       "SUSSEX_BASE             3104.197120\n",
       "SUSSEX_TOP              2497.340273\n",
       "TEAPOT                   795.277496\n",
       "TEAPOT_BASE              441.513337\n",
       "TEAPOT_TOP              -362.430065\n",
       "TECKLA                   411.255285\n",
       "TECKLA_BASE              305.358422\n",
       "TECKLA_TOP              -121.356508\n",
       "TURNER                  7109.629585\n",
       "WALL_CREEK               183.928863\n",
       "Name: 4900505001, dtype: float64"
      ]
     },
     "execution_count": 137,
     "metadata": {},
     "output_type": "execute_result"
    }
   ],
   "source": [
    "preds_df.iloc[0:,1]"
   ]
  },
  {
   "cell_type": "code",
   "execution_count": 138,
   "metadata": {},
   "outputs": [
    {
     "data": {
      "text/plain": [
       "formation\n",
       "2ND_WALL_CREEK             0.00000\n",
       "3RD_WALL_CREEK             0.00000\n",
       "4TH_WALL_CREEK             0.00000\n",
       "ARDMORE_BENTONITE          0.00000\n",
       "BELLE_FOURCHE           7871.02322\n",
       "CARLILE                    0.00000\n",
       "EMIGRANT_GAP               0.00000\n",
       "FOX_HILLS               3891.48955\n",
       "GAMMON                     0.00000\n",
       "GREENHORN               7651.65506\n",
       "KARA_BENTONITE          4519.06062\n",
       "KARA_BENTONITE_BASE     4610.00000\n",
       "LOWER_BELLE_SAND           0.00000\n",
       "MITTEN_BLACK_SHALE      5405.74345\n",
       "MOWRY                   8410.48458\n",
       "MUDDY                   8595.39625\n",
       "NIOBRARA                6966.43878\n",
       "NIOBRARA_A                 0.00000\n",
       "NIOBRARA_B              7071.17160\n",
       "NIOBRARA_C              7205.00000\n",
       "PARKMAN/HYGIENE            0.00000\n",
       "PARKMAN/HYGIENE_BASE       0.00000\n",
       "PARKMAN_BASE               0.00000\n",
       "PARKMAN_BTM                0.00000\n",
       "PARKMAN_TOP                0.00000\n",
       "PIERRE                  4023.00000\n",
       "POOL_CREEK              7602.08783\n",
       "RED_BIRD                5131.21609\n",
       "SAGE_BREAKS             7269.00000\n",
       "SHANNON                    0.00000\n",
       "SHANNON_BASE               0.00000\n",
       "SHANNON_TOP                0.00000\n",
       "SHARON_SPRINGS             0.00000\n",
       "SUSSEX                  5864.93593\n",
       "SUSSEX_BASE             5910.30252\n",
       "SUSSEX_TOP                 0.00000\n",
       "TEAPOT                     0.00000\n",
       "TEAPOT_BASE                0.00000\n",
       "TEAPOT_TOP                 0.00000\n",
       "TECKLA                     0.00000\n",
       "TECKLA_BASE                0.00000\n",
       "TECKLA_TOP                 0.00000\n",
       "TURNER                  7457.75622\n",
       "WALL_CREEK                 0.00000\n",
       "Name: 4900505001, dtype: float64"
      ]
     },
     "execution_count": 138,
     "metadata": {},
     "output_type": "execute_result"
    }
   ],
   "source": [
    "D_df.iloc[0:,1]"
   ]
  },
  {
   "cell_type": "code",
   "execution_count": 32,
   "metadata": {},
   "outputs": [],
   "source": [
    "import implicit"
   ]
  },
  {
   "cell_type": "code",
   "execution_count": 150,
   "metadata": {},
   "outputs": [
    {
     "name": "stderr",
     "output_type": "stream",
     "text": [
      "WARNING:root:Intel MKL BLAS detected. Its highly recommend to set the environment variable 'export MKL_NUM_THREADS=1' to disable its internal multithreading\n"
     ]
    }
   ],
   "source": [
    "model = implicit.als.AlternatingLeastSquares(factors=30)"
   ]
  },
  {
   "cell_type": "code",
   "execution_count": 151,
   "metadata": {},
   "outputs": [],
   "source": [
    "model.fit(likes)"
   ]
  },
  {
   "cell_type": "code",
   "execution_count": 152,
   "metadata": {},
   "outputs": [],
   "source": [
    "user_items = likes.T.tocsr()"
   ]
  },
  {
   "cell_type": "code",
   "execution_count": 153,
   "metadata": {},
   "outputs": [],
   "source": [
    "recommendations = model.recommend(0, user_items)"
   ]
  },
  {
   "cell_type": "code",
   "execution_count": 154,
   "metadata": {},
   "outputs": [
    {
     "data": {
      "text/plain": [
       "<442x2861 sparse matrix of type '<class 'numpy.float64'>'\n",
       "\twith 14804 stored elements in Compressed Sparse Row format>"
      ]
     },
     "execution_count": 154,
     "metadata": {},
     "output_type": "execute_result"
    }
   ],
   "source": [
    "likes"
   ]
  },
  {
   "cell_type": "code",
   "execution_count": 155,
   "metadata": {},
   "outputs": [
    {
     "data": {
      "text/plain": [
       "[(57, 0.8961089),\n",
       " (10, 0.8462074),\n",
       " (9, 0.83976054),\n",
       " (8, 0.79854),\n",
       " (22, 0.79053617),\n",
       " (244, 0.65557694),\n",
       " (11, 0.64325),\n",
       " (119, 0.63639545),\n",
       " (36, 0.5614818),\n",
       " (120, 0.55520636)]"
      ]
     },
     "execution_count": 155,
     "metadata": {},
     "output_type": "execute_result"
    }
   ],
   "source": [
    "recommendations"
   ]
  },
  {
   "cell_type": "code",
   "execution_count": 147,
   "metadata": {},
   "outputs": [
    {
     "data": {
      "text/plain": [
       "11113.5"
      ]
     },
     "execution_count": 147,
     "metadata": {},
     "output_type": "execute_result"
    }
   ],
   "source": [
    "likes.T.tocsr().todense()[0]\n",
    "np.mean([9285.,  9760., 11227., 11793., 12139., 12477.])"
   ]
  },
  {
   "cell_type": "code",
   "execution_count": 127,
   "metadata": {
    "collapsed": true
   },
   "outputs": [
    {
     "data": {
      "text/html": [
       "<div>\n",
       "<style scoped>\n",
       "    .dataframe tbody tr th:only-of-type {\n",
       "        vertical-align: middle;\n",
       "    }\n",
       "\n",
       "    .dataframe tbody tr th {\n",
       "        vertical-align: top;\n",
       "    }\n",
       "\n",
       "    .dataframe thead th {\n",
       "        text-align: right;\n",
       "    }\n",
       "</style>\n",
       "<table border=\"1\" class=\"dataframe\">\n",
       "  <thead>\n",
       "    <tr style=\"text-align: right;\">\n",
       "      <th></th>\n",
       "      <th>api</th>\n",
       "      <th>formation</th>\n",
       "      <th>depth</th>\n",
       "      <th>ssdepth</th>\n",
       "    </tr>\n",
       "  </thead>\n",
       "  <tbody>\n",
       "    <tr>\n",
       "      <th>0</th>\n",
       "      <td>3521913</td>\n",
       "      <td>WASATCH</td>\n",
       "      <td>0</td>\n",
       "      <td>7281</td>\n",
       "    </tr>\n",
       "    <tr>\n",
       "      <th>1</th>\n",
       "      <td>3521913</td>\n",
       "      <td>LANCE</td>\n",
       "      <td>9285</td>\n",
       "      <td>-2004</td>\n",
       "    </tr>\n",
       "    <tr>\n",
       "      <th>2</th>\n",
       "      <td>3521913</td>\n",
       "      <td>JONAH</td>\n",
       "      <td>11227</td>\n",
       "      <td>-3946</td>\n",
       "    </tr>\n",
       "    <tr>\n",
       "      <th>3</th>\n",
       "      <td>3521913</td>\n",
       "      <td>YELLOWPOINT</td>\n",
       "      <td>11793</td>\n",
       "      <td>-4512</td>\n",
       "    </tr>\n",
       "    <tr>\n",
       "      <th>4</th>\n",
       "      <td>3521913</td>\n",
       "      <td>WARDELL</td>\n",
       "      <td>12139</td>\n",
       "      <td>-4858</td>\n",
       "    </tr>\n",
       "    <tr>\n",
       "      <th>5</th>\n",
       "      <td>3521913</td>\n",
       "      <td>MESAVERDE</td>\n",
       "      <td>12477</td>\n",
       "      <td>-5196</td>\n",
       "    </tr>\n",
       "  </tbody>\n",
       "</table>\n",
       "</div>"
      ],
      "text/plain": [
       "       api    formation  depth  ssdepth\n",
       "0  3521913      WASATCH      0     7281\n",
       "1  3521913        LANCE   9285    -2004\n",
       "2  3521913        JONAH  11227    -3946\n",
       "3  3521913  YELLOWPOINT  11793    -4512\n",
       "4  3521913      WARDELL  12139    -4858\n",
       "5  3521913    MESAVERDE  12477    -5196"
      ]
     },
     "execution_count": 127,
     "metadata": {},
     "output_type": "execute_result"
    }
   ],
   "source": [
    "tops[tops['api']==3521913]"
   ]
  },
  {
   "cell_type": "code",
   "execution_count": 159,
   "metadata": {},
   "outputs": [
    {
     "data": {
      "text/plain": [
       "'TD'"
      ]
     },
     "execution_count": 159,
     "metadata": {},
     "output_type": "execute_result"
    }
   ],
   "source": [
    "tops.formation.unique()[22]"
   ]
  },
  {
   "cell_type": "code",
   "execution_count": 169,
   "metadata": {},
   "outputs": [],
   "source": [
    "from numpy.linalg import solve\n",
    "\n",
    "class ExplicitMF():\n",
    "    def __init__(self, \n",
    "                 ratings, \n",
    "                 n_factors=40, \n",
    "                 item_reg=0.0, \n",
    "                 user_reg=0.0,\n",
    "                 verbose=False):\n",
    "        \"\"\"\n",
    "        Train a matrix factorization model to predict empty \n",
    "        entries in a matrix. The terminology assumes a \n",
    "        ratings matrix which is ~ user x item\n",
    "        \n",
    "        Params\n",
    "        ======\n",
    "        ratings : (ndarray)\n",
    "            User x Item matrix with corresponding ratings\n",
    "        \n",
    "        n_factors : (int)\n",
    "            Number of latent factors to use in matrix \n",
    "            factorization model\n",
    "        \n",
    "        item_reg : (float)\n",
    "            Regularization term for item latent factors\n",
    "        \n",
    "        user_reg : (float)\n",
    "            Regularization term for user latent factors\n",
    "        \n",
    "        verbose : (bool)\n",
    "            Whether or not to printout training progress\n",
    "        \"\"\"\n",
    "        \n",
    "        self.ratings = ratings\n",
    "        self.n_users, self.n_items = ratings.shape\n",
    "        self.n_factors = n_factors\n",
    "        self.item_reg = item_reg\n",
    "        self.user_reg = user_reg\n",
    "        self._v = verbose\n",
    "\n",
    "    def als_step(self,\n",
    "                 latent_vectors,\n",
    "                 fixed_vecs,\n",
    "                 ratings,\n",
    "                 _lambda,\n",
    "                 type='user'):\n",
    "        \"\"\"\n",
    "        One of the two ALS steps. Solve for the latent vectors\n",
    "        specified by type.\n",
    "        \"\"\"\n",
    "        if type == 'user':\n",
    "            # Precompute\n",
    "            YTY = fixed_vecs.T.dot(fixed_vecs)\n",
    "            lambdaI = np.eye(YTY.shape[0]) * _lambda\n",
    "\n",
    "            for u in range(latent_vectors.shape[0]):\n",
    "                latent_vectors[u, :] = solve((YTY + lambdaI), \n",
    "                                             ratings[u, :].dot(fixed_vecs))\n",
    "        elif type == 'item':\n",
    "            # Precompute\n",
    "            XTX = fixed_vecs.T.dot(fixed_vecs)\n",
    "            lambdaI = np.eye(XTX.shape[0]) * _lambda\n",
    "            \n",
    "            for i in range(latent_vectors.shape[0]):\n",
    "                latent_vectors[i, :] = solve((XTX + lambdaI), \n",
    "                                             ratings[:, i].T.dot(fixed_vecs))\n",
    "        return latent_vectors\n",
    "\n",
    "    def train(self, n_iter=10):\n",
    "        \"\"\" Train model for n_iter iterations from scratch.\"\"\"\n",
    "        # initialize latent vectors\n",
    "        self.user_vecs = np.random.random((self.n_users, self.n_factors))\n",
    "        self.item_vecs = np.random.random((self.n_items, self.n_factors))\n",
    "        \n",
    "        self.partial_train(n_iter)\n",
    "    \n",
    "    def partial_train(self, n_iter):\n",
    "        \"\"\" \n",
    "        Train model for n_iter iterations. Can be \n",
    "        called multiple times for further training.\n",
    "        \"\"\"\n",
    "        ctr = 1\n",
    "        while ctr <= n_iter:\n",
    "            if ctr % 10 == 0 and self._v:\n",
    "                print('\\tcurrent iteration: {}'.format(ctr))\n",
    "            self.user_vecs = self.als_step(self.user_vecs, \n",
    "                                           self.item_vecs, \n",
    "                                           self.ratings, \n",
    "                                           self.user_reg, \n",
    "                                           type='user')\n",
    "            self.item_vecs = self.als_step(self.item_vecs, \n",
    "                                           self.user_vecs, \n",
    "                                           self.ratings, \n",
    "                                           self.item_reg, \n",
    "                                           type='item')\n",
    "            ctr += 1\n",
    "    \n",
    "    def predict_all(self):\n",
    "        \"\"\" Predict ratings for every user and item. \"\"\"\n",
    "        predictions = np.zeros((self.user_vecs.shape[0], \n",
    "                                self.item_vecs.shape[0]))\n",
    "        for u in range(self.user_vecs.shape[0]):\n",
    "            for i in range(self.item_vecs.shape[0]):\n",
    "                predictions[u, i] = self.predict(u, i)\n",
    "                \n",
    "        return predictions\n",
    "    def predict(self, u, i):\n",
    "        \"\"\" Single user and item prediction. \"\"\"\n",
    "        return self.user_vecs[u, :].dot(self.item_vecs[i, :].T)\n",
    "    \n",
    "  "
   ]
  },
  {
   "cell_type": "code",
   "execution_count": 170,
   "metadata": {},
   "outputs": [],
   "source": [
    "from sklearn.metrics import mean_squared_error\n",
    "\n",
    "def get_mse(pred, actual):\n",
    "    # Ignore nonzero terms.\n",
    "    pred = pred[actual.nonzero()].flatten()\n",
    "    actual = actual[actual.nonzero()].flatten()\n",
    "    return mean_squared_error(pred, actual)"
   ]
  },
  {
   "cell_type": "code",
   "execution_count": 172,
   "metadata": {},
   "outputs": [],
   "source": [
    "MF_ALS = ExplicitMF(likes, n_factors=40, \\\n",
    "                    user_reg=0.0, item_reg=0.0)\n",
    "iter_array = [1, 2, 5, 10, 25, 50, 100]\n"
   ]
  },
  {
   "cell_type": "code",
   "execution_count": 145,
   "metadata": {},
   "outputs": [],
   "source": [
    "from sklearn.preprocessing import binarize\n",
    "A=binarize(R)"
   ]
  },
  {
   "cell_type": "code",
   "execution_count": 142,
   "metadata": {},
   "outputs": [],
   "source": [
    "def runALS(A, R, n_factors, n_iterations, lambda_):\n",
    "    '''\n",
    "    Runs Alternating Least Squares algorithm in order to calculate matrix.\n",
    "    :param A: User-Item Matrix with ratings\n",
    "    :param R: User-Item Matrix with 1 if there is a rating or 0 if not\n",
    "    :param n_factors: How many factors each of user and item matrix will consider\n",
    "    :param n_iterations: How many times to run algorithm\n",
    "    :param lambda_: Regularization parameter\n",
    "    :return:\n",
    "    '''\n",
    "    print(\"Initiating \")\n",
    "    lambda_ = 0.1; n_factors = 3; n, m = A.shape; n_iterations = 20\n",
    "    Users = 5 * np.random.rand(n, n_factors)\n",
    "    Items = 5 * np.random.rand(n_factors, m)\n",
    "\n",
    "    def get_error(A, Users, Items, R):\n",
    "        # This calculates the MSE of nonzero elements\n",
    "        return np.sum((R * (A - np.dot(Users, Items))) ** 2) / np.sum(R)\n",
    "\n",
    "    MSE_List = []\n",
    "\n",
    "    print(\"Starting Iterations\")\n",
    "    for iter in range(n_iterations):\n",
    "        for i, Ri in enumerate(R):\n",
    "            Users[i] = np.linalg.solve(np.dot(Items, np.dot(np.diag(Ri), Items.T)) + lambda_ * np.eye(n_factors),\n",
    "                                       np.dot(Items, np.dot(np.diag(Ri), A[i].T))).T\n",
    "        print(\"Error after solving for User Matrix:\", get_error(A, Users, Items, R))\n",
    "\n",
    "        for j, Rj in enumerate(R.T):\n",
    "            Items[:,j] = np.linalg.solve(np.dot(Users.T, np.dot(np.diag(Rj), Users)) + lambda_ * np.eye(n_factors),\n",
    "                                     np.dot(Users.T, np.dot(np.diag(Rj), A[:, j])))\n",
    "        print(\"Error after solving for Item Matrix:\", get_error(A, Users, Items, R))\n",
    "\n",
    "        MSE_List.append(get_error(A, Users, Items, R))\n",
    "        print('%sth iteration is complete...' % iter)\n",
    "\n",
    "    print(MSE_List)\n",
    "    fig = plt.figure()\n",
    "    ax = fig.add_subplot(111)\n",
    "    plt.plot(range(1, len(MSE_List) + 1), MSE_List); plt.ylabel('Error'); plt.xlabel('Iteration')\n",
    "    plt.title('Python Implementation MSE by Iteration \\n with %d formations and %d wells' % A.shape);\n",
    "    plt.savefig('Python MSE Graph.pdf', format='pdf')\n",
    "    plt.show()"
   ]
  },
  {
   "cell_type": "code",
   "execution_count": 149,
   "metadata": {},
   "outputs": [
    {
     "name": "stdout",
     "output_type": "stream",
     "text": [
      "Initiating \n",
      "Starting Iterations\n",
      "Error after solving for User Matrix: 10982876.04027309\n",
      "Error after solving for Item Matrix: 601444.0752039407\n",
      "0th iteration is complete...\n",
      "Error after solving for User Matrix: 205049.34629625248\n",
      "Error after solving for Item Matrix: 89365.86535064637\n",
      "1th iteration is complete...\n",
      "Error after solving for User Matrix: 55593.001024434074\n",
      "Error after solving for Item Matrix: 33014.225623939106\n",
      "2th iteration is complete...\n",
      "Error after solving for User Matrix: 21113.927966812684\n",
      "Error after solving for Item Matrix: 14746.971725372898\n",
      "3th iteration is complete...\n",
      "Error after solving for User Matrix: 12340.351750053851\n",
      "Error after solving for Item Matrix: 10685.041212430087\n",
      "4th iteration is complete...\n",
      "Error after solving for User Matrix: 9655.834687601524\n",
      "Error after solving for Item Matrix: 8840.936985969993\n",
      "5th iteration is complete...\n",
      "Error after solving for User Matrix: 8206.848270209328\n",
      "Error after solving for Item Matrix: 7645.719645013711\n",
      "6th iteration is complete...\n",
      "Error after solving for User Matrix: 7197.019975840259\n",
      "Error after solving for Item Matrix: 6807.655791760352\n",
      "7th iteration is complete...\n",
      "Error after solving for User Matrix: 6483.926251262613\n",
      "Error after solving for Item Matrix: 6205.6345419286\n",
      "8th iteration is complete...\n",
      "Error after solving for User Matrix: 5964.758370770211\n",
      "Error after solving for Item Matrix: 5756.148343101023\n",
      "9th iteration is complete...\n",
      "Error after solving for User Matrix: 5581.891927906749\n",
      "Error after solving for Item Matrix: 5438.381598509942\n",
      "10th iteration is complete...\n",
      "Error after solving for User Matrix: 5325.610280060775\n",
      "Error after solving for Item Matrix: 5235.609787124566\n",
      "11th iteration is complete...\n",
      "Error after solving for User Matrix: 5162.5912838623535\n",
      "Error after solving for Item Matrix: 5102.200515160149\n",
      "12th iteration is complete...\n",
      "Error after solving for User Matrix: 5051.322924339064\n",
      "Error after solving for Item Matrix: 5007.581801057396\n",
      "13th iteration is complete...\n",
      "Error after solving for User Matrix: 4969.843767461394\n",
      "Error after solving for Item Matrix: 4936.583960528592\n",
      "14th iteration is complete...\n",
      "Error after solving for User Matrix: 4907.233850440194\n",
      "Error after solving for Item Matrix: 4880.874380135283\n",
      "15th iteration is complete...\n",
      "Error after solving for User Matrix: 4856.913784601142\n",
      "Error after solving for Item Matrix: 4834.554467186812\n",
      "16th iteration is complete...\n",
      "Error after solving for User Matrix: 4813.4197349525475\n",
      "Error after solving for Item Matrix: 4790.836869853016\n",
      "17th iteration is complete...\n",
      "Error after solving for User Matrix: 4768.821650448745\n",
      "Error after solving for Item Matrix: 4737.731773510499\n",
      "18th iteration is complete...\n",
      "Error after solving for User Matrix: 4710.289236304188\n",
      "Error after solving for Item Matrix: 4667.698120454605\n",
      "19th iteration is complete...\n",
      "[601444.0752039407, 89365.86535064637, 33014.225623939106, 14746.971725372898, 10685.041212430087, 8840.936985969993, 7645.719645013711, 6807.655791760352, 6205.6345419286, 5756.148343101023, 5438.381598509942, 5235.609787124566, 5102.200515160149, 5007.581801057396, 4936.583960528592, 4880.874380135283, 4834.554467186812, 4790.836869853016, 4737.731773510499, 4667.698120454605]\n"
     ]
    },
    {
     "data": {
      "image/png": "[encoded data removed]",
      "text/plain": [
       "<matplotlib.figure.Figure at 0x1baac968e48>"
      ]
     },
     "metadata": {},
     "output_type": "display_data"
    }
   ],
   "source": [
    "runALS(R, A, 10, 2, 1)"
   ]
  },
  {
   "cell_type": "code",
   "execution_count": null,
   "metadata": {},
   "outputs": [],
   "source": []
  }
 ],
 "metadata": {
  "kernelspec": {
   "display_name": "Python 3",
   "language": "python",
   "name": "python3"
  },
  "language_info": {
   "codemirror_mode": {
    "name": "ipython",
    "version": 3
   },
   "file_extension": ".py",
   "mimetype": "text/x-python",
   "name": "python",
   "nbconvert_exporter": "python",
   "pygments_lexer": "ipython3",
   "version": "3.6.4"
  }
 },
 "nbformat": 4,
 "nbformat_minor": 2
}
