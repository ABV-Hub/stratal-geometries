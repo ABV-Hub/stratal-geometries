{
 "cells": [
  {
   "cell_type": "code",
   "execution_count": 1,
   "metadata": {},
   "outputs": [],
   "source": [
    "import pandas as pd\n",
    "import numpy as np\n",
    "import matplotlib.pyplot as plt\n",
    "import geopandas as gp\n",
    "from sklearn.preprocessing import normalize\n",
    "from scipy.sparse import coo_matrix, csr_matrix\n",
    "\n",
    "\n",
    "%matplotlib inline"
   ]
  },
  {
   "cell_type": "code",
   "execution_count": 2,
   "metadata": {},
   "outputs": [],
   "source": [
    "tops=pd.read_csv(r'D:\\jonahfull.csv')\n",
    "small=tops.head()"
   ]
  },
  {
   "cell_type": "code",
   "execution_count": 11,
   "metadata": {},
   "outputs": [],
   "source": [
    "tops.ssdepth = tops.ssdepth+11183"
   ]
  },
  {
   "cell_type": "code",
   "execution_count": 15,
   "metadata": {},
   "outputs": [
    {
     "data": {
      "text/html": [
       "<div>\n",
       "<style scoped>\n",
       "    .dataframe tbody tr th:only-of-type {\n",
       "        vertical-align: middle;\n",
       "    }\n",
       "\n",
       "    .dataframe tbody tr th {\n",
       "        vertical-align: top;\n",
       "    }\n",
       "\n",
       "    .dataframe thead th {\n",
       "        text-align: right;\n",
       "    }\n",
       "</style>\n",
       "<table border=\"1\" class=\"dataframe\">\n",
       "  <thead>\n",
       "    <tr style=\"text-align: right;\">\n",
       "      <th></th>\n",
       "      <th>api</th>\n",
       "      <th>formation</th>\n",
       "      <th>depth</th>\n",
       "      <th>ssdepth</th>\n",
       "      <th>normd</th>\n",
       "    </tr>\n",
       "  </thead>\n",
       "  <tbody>\n",
       "    <tr>\n",
       "      <th>0</th>\n",
       "      <td>3521913</td>\n",
       "      <td>WASATCH</td>\n",
       "      <td>0</td>\n",
       "      <td>18464</td>\n",
       "      <td>0</td>\n",
       "    </tr>\n",
       "    <tr>\n",
       "      <th>1</th>\n",
       "      <td>3521913</td>\n",
       "      <td>LANCE</td>\n",
       "      <td>9285</td>\n",
       "      <td>9179</td>\n",
       "      <td>-4.633233533</td>\n",
       "    </tr>\n",
       "    <tr>\n",
       "      <th>2</th>\n",
       "      <td>3521913</td>\n",
       "      <td>LANCE - OVER PRESSURE</td>\n",
       "      <td>9760</td>\n",
       "      <td>8704</td>\n",
       "      <td>-3.9370714</td>\n",
       "    </tr>\n",
       "    <tr>\n",
       "      <th>3</th>\n",
       "      <td>3521913</td>\n",
       "      <td>JONAH</td>\n",
       "      <td>11227</td>\n",
       "      <td>7237</td>\n",
       "      <td>-2.845159655</td>\n",
       "    </tr>\n",
       "    <tr>\n",
       "      <th>4</th>\n",
       "      <td>3521913</td>\n",
       "      <td>YELLOW POINT</td>\n",
       "      <td>11793</td>\n",
       "      <td>6671</td>\n",
       "      <td>-2.613696809</td>\n",
       "    </tr>\n",
       "  </tbody>\n",
       "</table>\n",
       "</div>"
      ],
      "text/plain": [
       "       api              formation  depth  ssdepth         normd\n",
       "0  3521913                WASATCH      0    18464             0\n",
       "1  3521913                  LANCE   9285     9179  -4.633233533\n",
       "2  3521913  LANCE - OVER PRESSURE   9760     8704    -3.9370714\n",
       "3  3521913                  JONAH  11227     7237  -2.845159655\n",
       "4  3521913           YELLOW POINT  11793     6671  -2.613696809"
      ]
     },
     "execution_count": 15,
     "metadata": {},
     "output_type": "execute_result"
    }
   ],
   "source": [
    "tops.head()"
   ]
  },
  {
   "cell_type": "code",
   "execution_count": 16,
   "metadata": {},
   "outputs": [
    {
     "data": {
      "text/plain": [
       "18245"
      ]
     },
     "execution_count": 16,
     "metadata": {},
     "output_type": "execute_result"
    }
   ],
   "source": [
    "data=np.asarray(tops[['api', 'formation', 'ssdepth']])\n",
    "tops['depth'].max()"
   ]
  },
  {
   "cell_type": "code",
   "execution_count": 17,
   "metadata": {},
   "outputs": [],
   "source": [
    "D_df = tops.pivot_table('ssdepth', 'formation', 'api').fillna(0)"
   ]
  },
  {
   "cell_type": "code",
   "execution_count": 18,
   "metadata": {},
   "outputs": [],
   "source": [
    "R =D_df.as_matrix()\n",
    "user_ratings_mean = np.mean(R, axis = 1)\n",
    "R_demeaned = R - user_ratings_mean.reshape(-1, 1)"
   ]
  },
  {
   "cell_type": "code",
   "execution_count": 19,
   "metadata": {},
   "outputs": [
    {
     "name": "stdout",
     "output_type": "stream",
     "text": [
      "Number of wells: 2861\n",
      "Number of formations: 442\n",
      "Sparsity: 1.180%\n"
     ]
    }
   ],
   "source": [
    "n_wells = tops.api.unique().shape[0]\n",
    "n_formations = tops.formation.unique().shape[0]\n",
    "\n",
    "print('Number of wells: {}'.format(n_wells))\n",
    "print('Number of formations: {}'.format(n_formations))\n",
    "print('Sparsity: {:4.3f}%'.format(float(tops.shape[0]) / float(n_wells*n_formations) * 100))"
   ]
  },
  {
   "cell_type": "code",
   "execution_count": 7,
   "metadata": {},
   "outputs": [],
   "source": [
    "formation_to_idx = {}\n",
    "idx_to_formation = {}\n",
    "for (idx, formation) in enumerate(tops.formation.unique().tolist()):\n",
    "    formation_to_idx[formation] = idx\n",
    "    idx_to_formation[idx] = formation\n",
    "    \n",
    "api_to_idx = {}\n",
    "idx_to_api = {}\n",
    "for (idx, api) in enumerate(tops.api.unique().tolist()):\n",
    "    api_to_idx[api] = idx\n",
    "    idx_to_api[idx] = api"
   ]
  },
  {
   "cell_type": "code",
   "execution_count": 8,
   "metadata": {},
   "outputs": [],
   "source": [
    "def map_ids(row, mapper):\n",
    "    return mapper[row]\n",
    "import scipy.sparse as sparse\n"
   ]
  },
  {
   "cell_type": "code",
   "execution_count": 9,
   "metadata": {},
   "outputs": [],
   "source": [
    "#%%timeit\n",
    "J = tops.api.apply(map_ids, args=[api_to_idx]).as_matrix()\n",
    "I = tops.formation.apply(map_ids, args=[formation_to_idx]).as_matrix()\n",
    "V = tops.depth.astype(int)#/max(tops.depth.astype(int))\n",
    "likes = sparse.coo_matrix((V, (I, J)), dtype=np.float64)\n",
    "likes = likes.tocsr()"
   ]
  },
  {
   "cell_type": "code",
   "execution_count": 20,
   "metadata": {},
   "outputs": [
    {
     "name": "stdout",
     "output_type": "stream",
     "text": [
      "Number of data points: 1264562\n"
     ]
    }
   ],
   "source": [
    "print('Number of data points: {}'.format(n_wells*n_formations))"
   ]
  },
  {
   "cell_type": "code",
   "execution_count": 21,
   "metadata": {},
   "outputs": [],
   "source": [
    "from scipy.sparse.linalg import svds\n",
    "U, sigma, Vt = svds(R_demeaned, k = 10)\n",
    "sigma = np.diag(sigma)\n"
   ]
  },
  {
   "cell_type": "code",
   "execution_count": 22,
   "metadata": {},
   "outputs": [],
   "source": [
    "all_user_predicted_ratings = np.dot(np.dot(U, sigma), Vt) + user_ratings_mean.reshape(-1, 1)\n",
    "preds_df = pd.DataFrame(all_user_predicted_ratings, columns = D_df.columns, index=D_df.index)"
   ]
  },
  {
   "cell_type": "code",
   "execution_count": 23,
   "metadata": {
    "collapsed": true
   },
   "outputs": [
    {
     "data": {
      "text/plain": [
       "formation\n",
       "1ST LANCE SS               7.986716\n",
       "1ST OVERPRESSURE         -13.697508\n",
       "2ND OVERPRESSURE          -7.171816\n",
       ";AMCE ;PWER A              0.971351\n",
       ";AMCE LOWER D              0.151576\n",
       "ALMOND                    14.669708\n",
       "ASPEN                     11.832533\n",
       "B ASE FORT UNION           6.685460\n",
       "BACON RIDGE                5.901388\n",
       "BASAL FT. UNION COAL      17.125739\n",
       "BASE ARKOSE                6.077803\n",
       "BASE FORT UNION          239.828152\n",
       "BASE FT. UNION            11.276122\n",
       "BASE OF JONAH             -6.357868\n",
       "BASEL FORT UNION          -0.711980\n",
       "BAXTER                     1.942572\n",
       "BENCH                      2.179494\n",
       "BIOS                     289.434408\n",
       "BIOS MARKER               88.799859\n",
       "BLAIR                     33.398698\n",
       "BOIS                     544.648287\n",
       "BOIS MARK               1308.819068\n",
       "BOIS MARKER              143.742376\n",
       "BOISK                      5.155454\n",
       "BOISMK                    37.265058\n",
       "BOSIMK                    14.251502\n",
       "BOUNDARY                  23.840501\n",
       "COR COAL 2                17.172323\n",
       "DAKOTA                    14.990820\n",
       "DAKOTA \"B\"                 6.663333\n",
       "                           ...     \n",
       "WASATCH COAL              26.723403\n",
       "WILKEN PEAK                9.666949\n",
       "YELLLOWPOINT              -1.855128\n",
       "YELLOW                     9.203359\n",
       "YELLOW  POINT             -0.016463\n",
       "YELLOW POIINT TOP          0.972029\n",
       "YELLOW POINT             548.733655\n",
       "YELLOW POINT 1             9.558043\n",
       "YELLOW POINT 1ST           5.298125\n",
       "YELLOW POINT 4             7.373927\n",
       "YELLOW POINT COAL         42.760083\n",
       "YELLOW POINT FIRST         8.101314\n",
       "YELLOW POINT LOP           0.386163\n",
       "YELLOW POINT OP            8.133973\n",
       "YELLOW POINT SHALE         5.983934\n",
       "YELLOW POINT SS           11.113221\n",
       "YELLOW POINT TO OF         4.215200\n",
       "YELLOW POINT TOP         121.728169\n",
       "YELLOW POINT TOP OF       98.346084\n",
       "YELLOW POINT- SHALE       24.921378\n",
       "YELLOW POIONT             -3.372773\n",
       "YELLOW PT                  1.155959\n",
       "YELLOWPIONT                6.928856\n",
       "YELLOWPOINT             -636.710261\n",
       "YELLOWPOINT LANCE         17.787535\n",
       "YELLOWPOINT TOP         -262.910508\n",
       "YELLOWPOINT/LANCE          4.387224\n",
       "YELLOWPONT                 1.027888\n",
       "YELOW POINT               -0.655654\n",
       "YELOWPOINT                -1.609916\n",
       "Name: 3520124, Length: 442, dtype: float64"
      ]
     },
     "execution_count": 23,
     "metadata": {},
     "output_type": "execute_result"
    }
   ],
   "source": [
    "preds_df.iloc[0:,1]"
   ]
  },
  {
   "cell_type": "code",
   "execution_count": 24,
   "metadata": {
    "scrolled": true
   },
   "outputs": [
    {
     "data": {
      "text/plain": [
       "formation\n",
       "1ST LANCE SS               0.0\n",
       "1ST OVERPRESSURE           0.0\n",
       "2ND OVERPRESSURE           0.0\n",
       ";AMCE ;PWER A              0.0\n",
       ";AMCE LOWER D              0.0\n",
       "ALMOND                     0.0\n",
       "ASPEN                      0.0\n",
       "B ASE FORT UNION           0.0\n",
       "BACON RIDGE             2837.0\n",
       "BASAL FT. UNION COAL       0.0\n",
       "BASE ARKOSE                0.0\n",
       "BASE FORT UNION            0.0\n",
       "BASE FT. UNION             0.0\n",
       "BASE OF JONAH              0.0\n",
       "BASEL FORT UNION           0.0\n",
       "BAXTER                     0.0\n",
       "BENCH                      0.0\n",
       "BIOS                       0.0\n",
       "BIOS MARKER                0.0\n",
       "BLAIR                      0.0\n",
       "BOIS                       0.0\n",
       "BOIS MARK                  0.0\n",
       "BOIS MARKER                0.0\n",
       "BOISK                      0.0\n",
       "BOISMK                     0.0\n",
       "BOSIMK                     0.0\n",
       "BOUNDARY                   0.0\n",
       "COR COAL 2                 0.0\n",
       "DAKOTA                     0.0\n",
       "DAKOTA \"B\"                 0.0\n",
       "                         ...  \n",
       "WASATCH COAL               0.0\n",
       "WILKEN PEAK                0.0\n",
       "YELLLOWPOINT               0.0\n",
       "YELLOW                     0.0\n",
       "YELLOW  POINT              0.0\n",
       "YELLOW POIINT TOP          0.0\n",
       "YELLOW POINT               0.0\n",
       "YELLOW POINT 1             0.0\n",
       "YELLOW POINT 1ST           0.0\n",
       "YELLOW POINT 4             0.0\n",
       "YELLOW POINT COAL          0.0\n",
       "YELLOW POINT FIRST         0.0\n",
       "YELLOW POINT LOP           0.0\n",
       "YELLOW POINT OP            0.0\n",
       "YELLOW POINT SHALE         0.0\n",
       "YELLOW POINT SS            0.0\n",
       "YELLOW POINT TO OF         0.0\n",
       "YELLOW POINT TOP           0.0\n",
       "YELLOW POINT TOP OF        0.0\n",
       "YELLOW POINT- SHALE        0.0\n",
       "YELLOW POIONT              0.0\n",
       "YELLOW PT                  0.0\n",
       "YELLOWPIONT                0.0\n",
       "YELLOWPOINT                0.0\n",
       "YELLOWPOINT LANCE          0.0\n",
       "YELLOWPOINT TOP            0.0\n",
       "YELLOWPOINT/LANCE          0.0\n",
       "YELLOWPONT                 0.0\n",
       "YELOW POINT                0.0\n",
       "YELOWPOINT                 0.0\n",
       "Name: 3520124, Length: 442, dtype: float64"
      ]
     },
     "execution_count": 24,
     "metadata": {},
     "output_type": "execute_result"
    }
   ],
   "source": [
    "D_df.iloc[0:,1]"
   ]
  },
  {
   "cell_type": "code",
   "execution_count": 32,
   "metadata": {},
   "outputs": [],
   "source": [
    "import implicit"
   ]
  },
  {
   "cell_type": "code",
   "execution_count": 150,
   "metadata": {},
   "outputs": [
    {
     "name": "stderr",
     "output_type": "stream",
     "text": [
      "WARNING:root:Intel MKL BLAS detected. Its highly recommend to set the environment variable 'export MKL_NUM_THREADS=1' to disable its internal multithreading\n"
     ]
    }
   ],
   "source": [
    "model = implicit.als.AlternatingLeastSquares(factors=30)"
   ]
  },
  {
   "cell_type": "code",
   "execution_count": 151,
   "metadata": {},
   "outputs": [],
   "source": [
    "model.fit(likes)"
   ]
  },
  {
   "cell_type": "code",
   "execution_count": 152,
   "metadata": {},
   "outputs": [],
   "source": [
    "user_items = likes.T.tocsr()"
   ]
  },
  {
   "cell_type": "code",
   "execution_count": 153,
   "metadata": {},
   "outputs": [],
   "source": [
    "recommendations = model.recommend(0, user_items)"
   ]
  },
  {
   "cell_type": "code",
   "execution_count": 154,
   "metadata": {},
   "outputs": [
    {
     "data": {
      "text/plain": [
       "<442x2861 sparse matrix of type '<class 'numpy.float64'>'\n",
       "\twith 14804 stored elements in Compressed Sparse Row format>"
      ]
     },
     "execution_count": 154,
     "metadata": {},
     "output_type": "execute_result"
    }
   ],
   "source": [
    "likes"
   ]
  },
  {
   "cell_type": "code",
   "execution_count": 155,
   "metadata": {},
   "outputs": [
    {
     "data": {
      "text/plain": [
       "[(57, 0.8961089),\n",
       " (10, 0.8462074),\n",
       " (9, 0.83976054),\n",
       " (8, 0.79854),\n",
       " (22, 0.79053617),\n",
       " (244, 0.65557694),\n",
       " (11, 0.64325),\n",
       " (119, 0.63639545),\n",
       " (36, 0.5614818),\n",
       " (120, 0.55520636)]"
      ]
     },
     "execution_count": 155,
     "metadata": {},
     "output_type": "execute_result"
    }
   ],
   "source": [
    "recommendations"
   ]
  },
  {
   "cell_type": "code",
   "execution_count": 147,
   "metadata": {},
   "outputs": [
    {
     "data": {
      "text/plain": [
       "11113.5"
      ]
     },
     "execution_count": 147,
     "metadata": {},
     "output_type": "execute_result"
    }
   ],
   "source": [
    "likes.T.tocsr().todense()[0]\n",
    "np.mean([9285.,  9760., 11227., 11793., 12139., 12477.])"
   ]
  },
  {
   "cell_type": "code",
   "execution_count": 127,
   "metadata": {
    "collapsed": true
   },
   "outputs": [
    {
     "data": {
      "text/html": [
       "<div>\n",
       "<style scoped>\n",
       "    .dataframe tbody tr th:only-of-type {\n",
       "        vertical-align: middle;\n",
       "    }\n",
       "\n",
       "    .dataframe tbody tr th {\n",
       "        vertical-align: top;\n",
       "    }\n",
       "\n",
       "    .dataframe thead th {\n",
       "        text-align: right;\n",
       "    }\n",
       "</style>\n",
       "<table border=\"1\" class=\"dataframe\">\n",
       "  <thead>\n",
       "    <tr style=\"text-align: right;\">\n",
       "      <th></th>\n",
       "      <th>api</th>\n",
       "      <th>formation</th>\n",
       "      <th>depth</th>\n",
       "      <th>ssdepth</th>\n",
       "    </tr>\n",
       "  </thead>\n",
       "  <tbody>\n",
       "    <tr>\n",
       "      <th>0</th>\n",
       "      <td>3521913</td>\n",
       "      <td>WASATCH</td>\n",
       "      <td>0</td>\n",
       "      <td>7281</td>\n",
       "    </tr>\n",
       "    <tr>\n",
       "      <th>1</th>\n",
       "      <td>3521913</td>\n",
       "      <td>LANCE</td>\n",
       "      <td>9285</td>\n",
       "      <td>-2004</td>\n",
       "    </tr>\n",
       "    <tr>\n",
       "      <th>2</th>\n",
       "      <td>3521913</td>\n",
       "      <td>JONAH</td>\n",
       "      <td>11227</td>\n",
       "      <td>-3946</td>\n",
       "    </tr>\n",
       "    <tr>\n",
       "      <th>3</th>\n",
       "      <td>3521913</td>\n",
       "      <td>YELLOWPOINT</td>\n",
       "      <td>11793</td>\n",
       "      <td>-4512</td>\n",
       "    </tr>\n",
       "    <tr>\n",
       "      <th>4</th>\n",
       "      <td>3521913</td>\n",
       "      <td>WARDELL</td>\n",
       "      <td>12139</td>\n",
       "      <td>-4858</td>\n",
       "    </tr>\n",
       "    <tr>\n",
       "      <th>5</th>\n",
       "      <td>3521913</td>\n",
       "      <td>MESAVERDE</td>\n",
       "      <td>12477</td>\n",
       "      <td>-5196</td>\n",
       "    </tr>\n",
       "  </tbody>\n",
       "</table>\n",
       "</div>"
      ],
      "text/plain": [
       "       api    formation  depth  ssdepth\n",
       "0  3521913      WASATCH      0     7281\n",
       "1  3521913        LANCE   9285    -2004\n",
       "2  3521913        JONAH  11227    -3946\n",
       "3  3521913  YELLOWPOINT  11793    -4512\n",
       "4  3521913      WARDELL  12139    -4858\n",
       "5  3521913    MESAVERDE  12477    -5196"
      ]
     },
     "execution_count": 127,
     "metadata": {},
     "output_type": "execute_result"
    }
   ],
   "source": [
    "tops[tops['api']==3521913]"
   ]
  },
  {
   "cell_type": "code",
   "execution_count": 159,
   "metadata": {},
   "outputs": [
    {
     "data": {
      "text/plain": [
       "'TD'"
      ]
     },
     "execution_count": 159,
     "metadata": {},
     "output_type": "execute_result"
    }
   ],
   "source": [
    "tops.formation.unique()[22]"
   ]
  },
  {
   "cell_type": "code",
   "execution_count": 169,
   "metadata": {},
   "outputs": [],
   "source": [
    "from numpy.linalg import solve\n",
    "\n",
    "class ExplicitMF():\n",
    "    def __init__(self, \n",
    "                 ratings, \n",
    "                 n_factors=40, \n",
    "                 item_reg=0.0, \n",
    "                 user_reg=0.0,\n",
    "                 verbose=False):\n",
    "        \"\"\"\n",
    "        Train a matrix factorization model to predict empty \n",
    "        entries in a matrix. The terminology assumes a \n",
    "        ratings matrix which is ~ user x item\n",
    "        \n",
    "        Params\n",
    "        ======\n",
    "        ratings : (ndarray)\n",
    "            User x Item matrix with corresponding ratings\n",
    "        \n",
    "        n_factors : (int)\n",
    "            Number of latent factors to use in matrix \n",
    "            factorization model\n",
    "        \n",
    "        item_reg : (float)\n",
    "            Regularization term for item latent factors\n",
    "        \n",
    "        user_reg : (float)\n",
    "            Regularization term for user latent factors\n",
    "        \n",
    "        verbose : (bool)\n",
    "            Whether or not to printout training progress\n",
    "        \"\"\"\n",
    "        \n",
    "        self.ratings = ratings\n",
    "        self.n_users, self.n_items = ratings.shape\n",
    "        self.n_factors = n_factors\n",
    "        self.item_reg = item_reg\n",
    "        self.user_reg = user_reg\n",
    "        self._v = verbose\n",
    "\n",
    "    def als_step(self,\n",
    "                 latent_vectors,\n",
    "                 fixed_vecs,\n",
    "                 ratings,\n",
    "                 _lambda,\n",
    "                 type='user'):\n",
    "        \"\"\"\n",
    "        One of the two ALS steps. Solve for the latent vectors\n",
    "        specified by type.\n",
    "        \"\"\"\n",
    "        if type == 'user':\n",
    "            # Precompute\n",
    "            YTY = fixed_vecs.T.dot(fixed_vecs)\n",
    "            lambdaI = np.eye(YTY.shape[0]) * _lambda\n",
    "\n",
    "            for u in range(latent_vectors.shape[0]):\n",
    "                latent_vectors[u, :] = solve((YTY + lambdaI), \n",
    "                                             ratings[u, :].dot(fixed_vecs))\n",
    "        elif type == 'item':\n",
    "            # Precompute\n",
    "            XTX = fixed_vecs.T.dot(fixed_vecs)\n",
    "            lambdaI = np.eye(XTX.shape[0]) * _lambda\n",
    "            \n",
    "            for i in range(latent_vectors.shape[0]):\n",
    "                latent_vectors[i, :] = solve((XTX + lambdaI), \n",
    "                                             ratings[:, i].T.dot(fixed_vecs))\n",
    "        return latent_vectors\n",
    "\n",
    "    def train(self, n_iter=10):\n",
    "        \"\"\" Train model for n_iter iterations from scratch.\"\"\"\n",
    "        # initialize latent vectors\n",
    "        self.user_vecs = np.random.random((self.n_users, self.n_factors))\n",
    "        self.item_vecs = np.random.random((self.n_items, self.n_factors))\n",
    "        \n",
    "        self.partial_train(n_iter)\n",
    "    \n",
    "    def partial_train(self, n_iter):\n",
    "        \"\"\" \n",
    "        Train model for n_iter iterations. Can be \n",
    "        called multiple times for further training.\n",
    "        \"\"\"\n",
    "        ctr = 1\n",
    "        while ctr <= n_iter:\n",
    "            if ctr % 10 == 0 and self._v:\n",
    "                print('\\tcurrent iteration: {}'.format(ctr))\n",
    "            self.user_vecs = self.als_step(self.user_vecs, \n",
    "                                           self.item_vecs, \n",
    "                                           self.ratings, \n",
    "                                           self.user_reg, \n",
    "                                           type='user')\n",
    "            self.item_vecs = self.als_step(self.item_vecs, \n",
    "                                           self.user_vecs, \n",
    "                                           self.ratings, \n",
    "                                           self.item_reg, \n",
    "                                           type='item')\n",
    "            ctr += 1\n",
    "    \n",
    "    def predict_all(self):\n",
    "        \"\"\" Predict ratings for every user and item. \"\"\"\n",
    "        predictions = np.zeros((self.user_vecs.shape[0], \n",
    "                                self.item_vecs.shape[0]))\n",
    "        for u in range(self.user_vecs.shape[0]):\n",
    "            for i in range(self.item_vecs.shape[0]):\n",
    "                predictions[u, i] = self.predict(u, i)\n",
    "                \n",
    "        return predictions\n",
    "    def predict(self, u, i):\n",
    "        \"\"\" Single user and item prediction. \"\"\"\n",
    "        return self.user_vecs[u, :].dot(self.item_vecs[i, :].T)\n",
    "    \n",
    "  "
   ]
  },
  {
   "cell_type": "code",
   "execution_count": 170,
   "metadata": {},
   "outputs": [],
   "source": [
    "from sklearn.metrics import mean_squared_error\n",
    "\n",
    "def get_mse(pred, actual):\n",
    "    # Ignore nonzero terms.\n",
    "    pred = pred[actual.nonzero()].flatten()\n",
    "    actual = actual[actual.nonzero()].flatten()\n",
    "    return mean_squared_error(pred, actual)"
   ]
  },
  {
   "cell_type": "code",
   "execution_count": 172,
   "metadata": {},
   "outputs": [],
   "source": [
    "MF_ALS = ExplicitMF(likes, n_factors=40, \\\n",
    "                    user_reg=0.0, item_reg=0.0)\n",
    "iter_array = [1, 2, 5, 10, 25, 50, 100]\n"
   ]
  },
  {
   "cell_type": "code",
   "execution_count": 25,
   "metadata": {},
   "outputs": [],
   "source": [
    "from sklearn.preprocessing import binarize\n",
    "A=binarize(R)"
   ]
  },
  {
   "cell_type": "code",
   "execution_count": 26,
   "metadata": {},
   "outputs": [],
   "source": [
    "def runALS(A, R, n_factors, n_iterations, lambda_):\n",
    "    '''\n",
    "    Runs Alternating Least Squares algorithm in order to calculate matrix.\n",
    "    :param A: User-Item Matrix with ratings\n",
    "    :param R: User-Item Matrix with 1 if there is a rating or 0 if not\n",
    "    :param n_factors: How many factors each of user and item matrix will consider\n",
    "    :param n_iterations: How many times to run algorithm\n",
    "    :param lambda_: Regularization parameter\n",
    "    :return:\n",
    "    '''\n",
    "    print(\"Initiating \")\n",
    "    lambda_ = 0.1; n_factors = 3; n, m = A.shape; n_iterations = 20\n",
    "    Users = 5 * np.random.rand(n, n_factors)\n",
    "    Items = 5 * np.random.rand(n_factors, m)\n",
    "\n",
    "    def get_error(A, Users, Items, R):\n",
    "        # This calculates the MSE of nonzero elements\n",
    "        return np.sum((R * (A - np.dot(Users, Items))) ** 2) / np.sum(R)\n",
    "\n",
    "    MSE_List = []\n",
    "\n",
    "    print(\"Starting Iterations\")\n",
    "    for iter in range(n_iterations):\n",
    "        for i, Ri in enumerate(R):\n",
    "            Users[i] = np.linalg.solve(np.dot(Items, np.dot(np.diag(Ri), Items.T)) + lambda_ * np.eye(n_factors),\n",
    "                                       np.dot(Items, np.dot(np.diag(Ri), A[i].T))).T\n",
    "        print(\"Error after solving for User Matrix:\", get_error(A, Users, Items, R))\n",
    "\n",
    "        for j, Rj in enumerate(R.T):\n",
    "            Items[:,j] = np.linalg.solve(np.dot(Users.T, np.dot(np.diag(Rj), Users)) + lambda_ * np.eye(n_factors),\n",
    "                                     np.dot(Users.T, np.dot(np.diag(Rj), A[:, j])))\n",
    "        print(\"Error after solving for Item Matrix:\", get_error(A, Users, Items, R))\n",
    "\n",
    "        MSE_List.append(get_error(A, Users, Items, R))\n",
    "        print('%sth iteration is complete...' % iter)\n",
    "\n",
    "    print(MSE_List)\n",
    "    fig = plt.figure()\n",
    "    ax = fig.add_subplot(111)\n",
    "    plt.plot(range(1, len(MSE_List) + 1), MSE_List); plt.ylabel('Error'); plt.xlabel('Iteration')\n",
    "    plt.title('Python Implementation MSE by Iteration \\n with %d formations and %d wells' % A.shape);\n",
    "    plt.savefig('Python MSE Graph.pdf', format='pdf')\n",
    "    plt.show()"
   ]
  },
  {
   "cell_type": "code",
   "execution_count": 30,
   "metadata": {},
   "outputs": [
    {
     "name": "stdout",
     "output_type": "stream",
     "text": [
      "Initiating \n",
      "Starting Iterations\n",
      "Error after solving for User Matrix: 9609913.256833237\n",
      "Error after solving for Item Matrix: 596003.8467435068\n",
      "0th iteration is complete...\n",
      "Error after solving for User Matrix: 509030.4523434618\n",
      "Error after solving for Item Matrix: 439676.5108772813\n",
      "1th iteration is complete...\n",
      "Error after solving for User Matrix: 406658.17623910593\n",
      "Error after solving for Item Matrix: 359080.1913637065\n",
      "2th iteration is complete...\n",
      "Error after solving for User Matrix: 327940.09167683346\n",
      "Error after solving for Item Matrix: 297039.59926865785\n",
      "3th iteration is complete...\n",
      "Error after solving for User Matrix: 284588.5656943348\n",
      "Error after solving for Item Matrix: 275508.98829352064\n",
      "4th iteration is complete...\n",
      "Error after solving for User Matrix: 269473.1161429521\n",
      "Error after solving for Item Matrix: 264136.8674432837\n",
      "5th iteration is complete...\n",
      "Error after solving for User Matrix: 259819.31901913797\n",
      "Error after solving for Item Matrix: 255530.60024506893\n",
      "6th iteration is complete...\n",
      "Error after solving for User Matrix: 251849.25104958817\n",
      "Error after solving for Item Matrix: 247955.9743630694\n",
      "7th iteration is complete...\n",
      "Error after solving for User Matrix: 244692.44497419737\n",
      "Error after solving for Item Matrix: 240862.63205621717\n",
      "8th iteration is complete...\n",
      "Error after solving for User Matrix: 237670.50763767265\n",
      "Error after solving for Item Matrix: 233890.6926776646\n",
      "9th iteration is complete...\n",
      "Error after solving for User Matrix: 230907.99935131156\n",
      "Error after solving for Item Matrix: 227601.76754656472\n",
      "10th iteration is complete...\n",
      "Error after solving for User Matrix: 225053.22978965918\n",
      "Error after solving for Item Matrix: 222369.7330458899\n",
      "11th iteration is complete...\n",
      "Error after solving for User Matrix: 220300.48073344486\n",
      "Error after solving for Item Matrix: 218287.5786178163\n",
      "12th iteration is complete...\n",
      "Error after solving for User Matrix: 216393.3487983042\n",
      "Error after solving for Item Matrix: 214303.50913842538\n",
      "13th iteration is complete...\n",
      "Error after solving for User Matrix: 212252.4290412735\n",
      "Error after solving for Item Matrix: 209707.085819411\n",
      "14th iteration is complete...\n",
      "Error after solving for User Matrix: 207296.21155821177\n",
      "Error after solving for Item Matrix: 204505.45755024828\n",
      "15th iteration is complete...\n",
      "Error after solving for User Matrix: 202522.74608601283\n",
      "Error after solving for Item Matrix: 200778.4989494185\n",
      "16th iteration is complete...\n",
      "Error after solving for User Matrix: 199389.12154277746\n",
      "Error after solving for Item Matrix: 198030.1993865312\n",
      "17th iteration is complete...\n",
      "Error after solving for User Matrix: 196805.29499982388\n",
      "Error after solving for Item Matrix: 195568.5410847666\n",
      "18th iteration is complete...\n",
      "Error after solving for User Matrix: 194456.77185137753\n",
      "Error after solving for Item Matrix: 193332.29663447672\n",
      "19th iteration is complete...\n",
      "[596003.8467435068, 439676.5108772813, 359080.1913637065, 297039.59926865785, 275508.98829352064, 264136.8674432837, 255530.60024506893, 247955.9743630694, 240862.63205621717, 233890.6926776646, 227601.76754656472, 222369.7330458899, 218287.5786178163, 214303.50913842538, 209707.085819411, 204505.45755024828, 200778.4989494185, 198030.1993865312, 195568.5410847666, 193332.29663447672]\n"
     ]
    },
    {
     "data": {
      "image/png": "[encoded data removed]",
      "text/plain": [
       "<matplotlib.figure.Figure at 0x1d13aa54588>"
      ]
     },
     "metadata": {},
     "output_type": "display_data"
    }
   ],
   "source": [
    "runALS(R, A, 10, 100, 0.1)"
   ]
  },
  {
   "cell_type": "code",
   "execution_count": null,
   "metadata": {},
   "outputs": [],
   "source": []
  }
 ],
 "metadata": {
  "kernelspec": {
   "display_name": "Python 3",
   "language": "python",
   "name": "python3"
  },
  "language_info": {
   "codemirror_mode": {
    "name": "ipython",
    "version": 3
   },
   "file_extension": ".py",
   "mimetype": "text/x-python",
   "name": "python",
   "nbconvert_exporter": "python",
   "pygments_lexer": "ipython3",
   "version": "3.6.4"
  }
 },
 "nbformat": 4,
 "nbformat_minor": 2
}
