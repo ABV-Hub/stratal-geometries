{
 "cells": [
  {
   "cell_type": "code",
   "execution_count": 1,
   "metadata": {},
   "outputs": [],
   "source": [
    "import pandas as pd\n",
    "import numpy as np\n",
    "import matplotlib.pyplot as plt\n",
    "import geopandas as gp\n",
    "from sklearn.preprocessing import normalize\n",
    "from scipy.sparse import coo_matrix, csr_matrix\n",
    "\n",
    "\n",
    "%matplotlib inline"
   ]
  },
  {
   "cell_type": "code",
   "execution_count": 98,
   "metadata": {},
   "outputs": [
    {
     "data": {
      "text/plain": [
       "-11183"
      ]
     },
     "execution_count": 98,
     "metadata": {},
     "output_type": "execute_result"
    }
   ],
   "source": [
    "tops=pd.read_csv(r'D:\\jonahtops.csv')\n",
    "tops.ssdepth.min()"
   ]
  },
  {
   "cell_type": "code",
   "execution_count": 99,
   "metadata": {},
   "outputs": [],
   "source": [
    "tops.ssdepth = tops.ssdepth-tops.ssdepth.min()"
   ]
  },
  {
   "cell_type": "code",
   "execution_count": 100,
   "metadata": {},
   "outputs": [
    {
     "data": {
      "text/html": [
       "<div>\n",
       "<style scoped>\n",
       "    .dataframe tbody tr th:only-of-type {\n",
       "        vertical-align: middle;\n",
       "    }\n",
       "\n",
       "    .dataframe tbody tr th {\n",
       "        vertical-align: top;\n",
       "    }\n",
       "\n",
       "    .dataframe thead th {\n",
       "        text-align: right;\n",
       "    }\n",
       "</style>\n",
       "<table border=\"1\" class=\"dataframe\">\n",
       "  <thead>\n",
       "    <tr style=\"text-align: right;\">\n",
       "      <th></th>\n",
       "      <th>api</th>\n",
       "      <th>formation</th>\n",
       "      <th>depth</th>\n",
       "      <th>ssdepth</th>\n",
       "    </tr>\n",
       "  </thead>\n",
       "  <tbody>\n",
       "    <tr>\n",
       "      <th>0</th>\n",
       "      <td>3521913</td>\n",
       "      <td>WASATCH</td>\n",
       "      <td>0</td>\n",
       "      <td>18464</td>\n",
       "    </tr>\n",
       "    <tr>\n",
       "      <th>1</th>\n",
       "      <td>3521913</td>\n",
       "      <td>LANCE</td>\n",
       "      <td>9285</td>\n",
       "      <td>9179</td>\n",
       "    </tr>\n",
       "    <tr>\n",
       "      <th>2</th>\n",
       "      <td>3521913</td>\n",
       "      <td>JONAH</td>\n",
       "      <td>11227</td>\n",
       "      <td>7237</td>\n",
       "    </tr>\n",
       "    <tr>\n",
       "      <th>3</th>\n",
       "      <td>3521913</td>\n",
       "      <td>YELLOWPOINT</td>\n",
       "      <td>11793</td>\n",
       "      <td>6671</td>\n",
       "    </tr>\n",
       "    <tr>\n",
       "      <th>4</th>\n",
       "      <td>3521913</td>\n",
       "      <td>WARDELL</td>\n",
       "      <td>12139</td>\n",
       "      <td>6325</td>\n",
       "    </tr>\n",
       "  </tbody>\n",
       "</table>\n",
       "</div>"
      ],
      "text/plain": [
       "       api    formation  depth  ssdepth\n",
       "0  3521913      WASATCH      0    18464\n",
       "1  3521913        LANCE   9285     9179\n",
       "2  3521913        JONAH  11227     7237\n",
       "3  3521913  YELLOWPOINT  11793     6671\n",
       "4  3521913      WARDELL  12139     6325"
      ]
     },
     "execution_count": 100,
     "metadata": {},
     "output_type": "execute_result"
    }
   ],
   "source": [
    "tops.head()"
   ]
  },
  {
   "cell_type": "code",
   "execution_count": 101,
   "metadata": {},
   "outputs": [
    {
     "data": {
      "text/plain": [
       "18245"
      ]
     },
     "execution_count": 101,
     "metadata": {},
     "output_type": "execute_result"
    }
   ],
   "source": [
    "data=np.asarray(tops[['api', 'formation', 'ssdepth']])\n",
    "tops['depth'].max()"
   ]
  },
  {
   "cell_type": "code",
   "execution_count": 102,
   "metadata": {},
   "outputs": [],
   "source": [
    "D_df = tops.pivot_table('ssdepth', 'formation', 'api').fillna(0)"
   ]
  },
  {
   "cell_type": "code",
   "execution_count": 103,
   "metadata": {},
   "outputs": [],
   "source": [
    "R =D_df.as_matrix()\n",
    "user_ratings_mean = np.mean(R, axis = 1)\n",
    "R_demeaned = R - user_ratings_mean.reshape(-1, 1)"
   ]
  },
  {
   "cell_type": "code",
   "execution_count": 104,
   "metadata": {},
   "outputs": [],
   "source": [
    "from sklearn.preprocessing import binarize\n",
    "A=binarize(R)"
   ]
  },
  {
   "cell_type": "code",
   "execution_count": 118,
   "metadata": {},
   "outputs": [],
   "source": [
    "def runALS(A, R, n_factors, n_iterations, lambda_):\n",
    "    '''\n",
    "    Runs Alternating Least Squares algorithm in order to calculate matrix.\n",
    "    :param A: User-Item Matrix with ratings\n",
    "    :param R: User-Item Matrix with 1 if there is a rating or 0 if not\n",
    "    :param n_factors: How many factors each of user and item matrix will consider\n",
    "    :param n_iterations: How many times to run algorithm\n",
    "    :param lambda_: Regularization parameter\n",
    "    :return:\n",
    "    '''\n",
    "    print(\"Initiating \")\n",
    "    lambda_ = 0.1; n_factors = 20; n, m = A.shape; n_iterations = 30\n",
    "    Users = 5 * np.random.rand(n, n_factors)\n",
    "    Items = 5 * np.random.rand(n_factors, m)\n",
    "\n",
    "    def get_error(A, Users, Items, R):\n",
    "        # This calculates the MSE of nonzero elements\n",
    "        return np.sum((R * (A - np.dot(Users, Items))) ** 2) / np.sum(R)\n",
    "\n",
    "    MSE_List = []\n",
    "\n",
    "    print(\"Starting Iterations\")\n",
    "    for iter in range(n_iterations):\n",
    "        for i, Ri in enumerate(R):\n",
    "            Users[i] = np.linalg.solve(np.dot(Items, np.dot(np.diag(Ri), Items.T)) + lambda_ * np.eye(n_factors),\n",
    "                                       np.dot(Items, np.dot(np.diag(Ri), A[i].T))).T\n",
    "        print(\"Error after solving for User Matrix:\", get_error(A, Users, Items, R))\n",
    "\n",
    "        for j, Rj in enumerate(R.T):\n",
    "            Items[:,j] = np.linalg.solve(np.dot(Users.T, np.dot(np.diag(Rj), Users)) + lambda_ * np.eye(n_factors),\n",
    "                                     np.dot(Users.T, np.dot(np.diag(Rj), A[:, j])))\n",
    "        print(\"Error after solving for Item Matrix:\", get_error(A, Users, Items, R))\n",
    "\n",
    "        MSE_List.append(get_error(A, Users, Items, R))\n",
    "        print('%sth iteration is complete...' % iter)\n",
    "    return Users, Items\n",
    "    #print(MSE_List)\n",
    "    #fig = plt.figure()\n",
    "    #ax = fig.add_subplot(111)\n",
    "    #plt.plot(range(1, len(MSE_List) + 1), MSE_List); plt.ylabel('Error'); plt.xlabel('Iteration')\n",
    "    #plt.title('Python Implementation MSE by Iteration \\n with %d formations and %d wells' % A.shape);\n",
    "    #plt.savefig('Python MSE Graph.pdf', format='pdf')\n",
    "    #plt.show()"
   ]
  },
  {
   "cell_type": "code",
   "execution_count": 119,
   "metadata": {},
   "outputs": [
    {
     "name": "stdout",
     "output_type": "stream",
     "text": [
      "Initiating \n",
      "Starting Iterations\n",
      "Error after solving for User Matrix: 4021996.629675355\n",
      "Error after solving for Item Matrix: 8.359121405468886e-05\n",
      "0th iteration is complete...\n",
      "Error after solving for User Matrix: 10.737059836361237\n",
      "Error after solving for Item Matrix: 8.348957417711136e-05\n",
      "1th iteration is complete...\n",
      "Error after solving for User Matrix: 3.065720063908119\n",
      "Error after solving for Item Matrix: 8.348451905510474e-05\n",
      "2th iteration is complete...\n",
      "Error after solving for User Matrix: 2.4453131726045156\n",
      "Error after solving for Item Matrix: 8.347862530936795e-05\n",
      "3th iteration is complete...\n",
      "Error after solving for User Matrix: 2.168296203313467\n",
      "Error after solving for Item Matrix: 8.347256353657049e-05\n",
      "4th iteration is complete...\n",
      "Error after solving for User Matrix: 1.9406175371304346\n",
      "Error after solving for Item Matrix: 8.346648855263123e-05\n",
      "5th iteration is complete...\n",
      "Error after solving for User Matrix: 1.7454304935921916\n",
      "Error after solving for Item Matrix: 8.346045414409725e-05\n",
      "6th iteration is complete...\n",
      "Error after solving for User Matrix: 1.5797133403159769\n",
      "Error after solving for Item Matrix: 8.345448391568592e-05\n",
      "7th iteration is complete...\n",
      "Error after solving for User Matrix: 1.441347370828566\n",
      "Error after solving for Item Matrix: 8.344858629207776e-05\n",
      "8th iteration is complete...\n",
      "Error after solving for User Matrix: 1.3275695780146293\n",
      "Error after solving for Item Matrix: 8.344275966763035e-05\n",
      "9th iteration is complete...\n",
      "Error after solving for User Matrix: 1.2343442265537286\n",
      "Error after solving for Item Matrix: 8.343699793571385e-05\n",
      "10th iteration is complete...\n",
      "Error after solving for User Matrix: 1.157084299477892\n",
      "Error after solving for Item Matrix: 8.343129459880894e-05\n",
      "11th iteration is complete...\n",
      "Error after solving for User Matrix: 1.0918912756178942\n",
      "Error after solving for Item Matrix: 8.34256438017617e-05\n",
      "12th iteration is complete...\n",
      "Error after solving for User Matrix: 1.0359463224764758\n",
      "Error after solving for Item Matrix: 8.342004002609932e-05\n",
      "13th iteration is complete...\n",
      "Error after solving for User Matrix: 0.98724861766172\n",
      "Error after solving for Item Matrix: 8.341447754010719e-05\n",
      "14th iteration is complete...\n",
      "Error after solving for User Matrix: 0.9443274298479906\n",
      "Error after solving for Item Matrix: 8.34089506905888e-05\n",
      "15th iteration is complete...\n",
      "Error after solving for User Matrix: 0.9060780763712518\n",
      "Error after solving for Item Matrix: 8.340345434719988e-05\n",
      "16th iteration is complete...\n",
      "Error after solving for User Matrix: 0.8716675781585747\n",
      "Error after solving for Item Matrix: 8.339798396474074e-05\n",
      "17th iteration is complete...\n",
      "Error after solving for User Matrix: 0.8404680115110261\n",
      "Error after solving for Item Matrix: 8.339253578970665e-05\n",
      "18th iteration is complete...\n",
      "Error after solving for User Matrix: 0.8120030090036923\n",
      "Error after solving for Item Matrix: 8.338710666282314e-05\n",
      "19th iteration is complete...\n",
      "Error after solving for User Matrix: 0.7859041052521413\n",
      "Error after solving for Item Matrix: 8.338169404622345e-05\n",
      "20th iteration is complete...\n",
      "Error after solving for User Matrix: 0.7618763434970754\n",
      "Error after solving for Item Matrix: 8.337629586854396e-05\n",
      "21th iteration is complete...\n",
      "Error after solving for User Matrix: 0.7396727124368876\n",
      "Error after solving for Item Matrix: 8.337091054480386e-05\n",
      "22th iteration is complete...\n",
      "Error after solving for User Matrix: 0.7190763704769353\n",
      "Error after solving for Item Matrix: 8.33655368445862e-05\n",
      "23th iteration is complete...\n",
      "Error after solving for User Matrix: 0.6998890054312688\n",
      "Error after solving for Item Matrix: 8.336017386253924e-05\n",
      "24th iteration is complete...\n",
      "Error after solving for User Matrix: 0.6819238941523819\n",
      "Error after solving for Item Matrix: 8.335482104881714e-05\n",
      "25th iteration is complete...\n",
      "Error after solving for User Matrix: 0.6650022302297993\n",
      "Error after solving for Item Matrix: 8.334947801049838e-05\n",
      "26th iteration is complete...\n",
      "Error after solving for User Matrix: 0.6489517984583811\n",
      "Error after solving for Item Matrix: 8.334414463544078e-05\n",
      "27th iteration is complete...\n",
      "Error after solving for User Matrix: 0.6336074109801438\n",
      "Error after solving for Item Matrix: 8.333882089835677e-05\n",
      "28th iteration is complete...\n",
      "Error after solving for User Matrix: 0.6188125929303135\n",
      "Error after solving for Item Matrix: 8.33335069628521e-05\n",
      "29th iteration is complete...\n"
     ]
    }
   ],
   "source": [
    "U, Vt = runALS(R, A, 10, 100, 0.1)"
   ]
  },
  {
   "cell_type": "code",
   "execution_count": 133,
   "metadata": {},
   "outputs": [],
   "source": [
    "recommendations = np.dot(U, Vt)"
   ]
  },
  {
   "cell_type": "code",
   "execution_count": 134,
   "metadata": {},
   "outputs": [],
   "source": [
    "recsys = pd.DataFrame(data=recommendations[0:,0:], index=D_df.index, columns=D_df.columns) "
   ]
  },
  {
   "cell_type": "code",
   "execution_count": 135,
   "metadata": {},
   "outputs": [
    {
     "data": {
      "text/plain": [
       "<matplotlib.collections.PathCollection at 0x2876c50ab38>"
      ]
     },
     "execution_count": 135,
     "metadata": {},
     "output_type": "execute_result"
    },
    {
     "data": {
      "image/png": "[encoded data removed]",
      "text/plain": [
       "<Figure size 432x288 with 1 Axes>"
      ]
     },
     "metadata": {},
     "output_type": "display_data"
    }
   ],
   "source": [
    "plt.scatter(recsys.iloc[0:,1].values, D_df.iloc[0:,1].values)"
   ]
  },
  {
   "cell_type": "code",
   "execution_count": 136,
   "metadata": {},
   "outputs": [
    {
     "data": {
      "text/plain": [
       "formation\n",
       "ALMOND              7129.299965\n",
       "ASPEN              -2878.226510\n",
       "BACON RIDGE         2836.968654\n",
       "BASE FORT UNION    -4068.605812\n",
       "BAXTER             -1249.670505\n",
       "BENCH               2005.559831\n",
       "BLAIR               5531.145756\n",
       "DAKOTA               481.134169\n",
       "ERICSON             5180.000000\n",
       "FORT  UNION        10591.963794\n",
       "FORT UNION         10987.000000\n",
       "FRONTIER             593.977060\n",
       "HILLIARD            1841.329257\n",
       "JONAH               3280.312025\n",
       "LANCE               7729.000000\n",
       "LANE LOWER          4749.472905\n",
       "LANEC FM           10794.734831\n",
       "LANEY               7729.236094\n",
       "LEWIS               2018.941236\n",
       "MESAVERDE           1824.999999\n",
       "MORRISON            2488.684680\n",
       "MOWRY               1759.338387\n",
       "MUDDY               1646.483453\n",
       "ROCK SPRINGS        4395.000000\n",
       "SHELL CREEK         1702.387560\n",
       "WARDELL             3612.520162\n",
       "WASATCH            17803.271008\n",
       "WILKEN PEAK         7571.505858\n",
       "YELLOWPOINT         4873.458248\n",
       "Name: 3520124, dtype: float64"
      ]
     },
     "execution_count": 136,
     "metadata": {},
     "output_type": "execute_result"
    }
   ],
   "source": [
    "recsys.iloc[0:,1]"
   ]
  },
  {
   "cell_type": "code",
   "execution_count": 137,
   "metadata": {},
   "outputs": [
    {
     "data": {
      "text/plain": [
       "formation\n",
       "ALMOND                 0.0\n",
       "ASPEN                  0.0\n",
       "BACON RIDGE         2837.0\n",
       "BASE FORT UNION        0.0\n",
       "BAXTER                 0.0\n",
       "BENCH                  0.0\n",
       "BLAIR                  0.0\n",
       "DAKOTA                 0.0\n",
       "ERICSON             5180.0\n",
       "FORT  UNION            0.0\n",
       "FORT UNION         10987.0\n",
       "FRONTIER               0.0\n",
       "HILLIARD               0.0\n",
       "JONAH                  0.0\n",
       "LANCE               7729.0\n",
       "LANE LOWER             0.0\n",
       "LANEC FM               0.0\n",
       "LANEY                  0.0\n",
       "LEWIS                  0.0\n",
       "MESAVERDE           1825.0\n",
       "MORRISON               0.0\n",
       "MOWRY                  0.0\n",
       "MUDDY                  0.0\n",
       "ROCK SPRINGS        4395.0\n",
       "SHELL CREEK            0.0\n",
       "WARDELL                0.0\n",
       "WASATCH                0.0\n",
       "WILKEN PEAK            0.0\n",
       "YELLOWPOINT            0.0\n",
       "Name: 3520124, dtype: float64"
      ]
     },
     "execution_count": 137,
     "metadata": {},
     "output_type": "execute_result"
    }
   ],
   "source": [
    "D_df.iloc[0:,1]"
   ]
  },
  {
   "cell_type": "code",
   "execution_count": null,
   "metadata": {},
   "outputs": [],
   "source": []
  }
 ],
 "metadata": {
  "kernelspec": {
   "display_name": "Python 3",
   "language": "python",
   "name": "python3"
  },
  "language_info": {
   "codemirror_mode": {
    "name": "ipython",
    "version": 3
   },
   "file_extension": ".py",
   "mimetype": "text/x-python",
   "name": "python",
   "nbconvert_exporter": "python",
   "pygments_lexer": "ipython3",
   "version": "3.6.4"
  }
 },
 "nbformat": 4,
 "nbformat_minor": 2
}
