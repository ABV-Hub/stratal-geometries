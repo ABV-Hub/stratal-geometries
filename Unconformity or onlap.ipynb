{
 "cells": [
  {
   "cell_type": "markdown",
   "metadata": {},
   "source": [
    "# Unconformity or Onlap?\n",
    "This notebook builds synthetic data to classify well logs based on stratal geometry. Specifically it is focused on classifying a well as either having an angular unconformity or onlapping a structural high. There is plenty of work that can be done going forward to build out the training data with more real world examples"
   ]
  },
  {
   "cell_type": "code",
   "execution_count": 1,
   "metadata": {},
   "outputs": [],
   "source": [
    "import pandas as pd\n",
    "import numpy as np\n",
    "import matplotlib.pyplot as plt\n",
    "import seaborn as sns\n",
    "from scipy.spatial.distance import squareform, pdist\n",
    "\n",
    "%matplotlib inline\n",
    "\n",
    "# I dropped off the .drop(column=[0]) section from the end of each section. need to figure out how to get the right size arrays for training and test data"
   ]
  },
  {
   "cell_type": "code",
   "execution_count": 2,
   "metadata": {},
   "outputs": [
    {
     "ename": "NameError",
     "evalue": "name 'normalized_dfa' is not defined",
     "output_type": "error",
     "traceback": [
      "\u001b[1;31m---------------------------------------------------------------------------\u001b[0m",
      "\u001b[1;31mNameError\u001b[0m                                 Traceback (most recent call last)",
      "\u001b[1;32m<ipython-input-2-19c6ea5c51b4>\u001b[0m in \u001b[0;36m<module>\u001b[1;34m\u001b[0m\n\u001b[0;32m    262\u001b[0m \u001b[1;33m\u001b[0m\u001b[0m\n\u001b[0;32m    263\u001b[0m \u001b[1;31m# now assign classes to the datasets, 1 is onlap, 0 is angular unconformity\u001b[0m\u001b[1;33m\u001b[0m\u001b[1;33m\u001b[0m\u001b[0m\n\u001b[1;32m--> 264\u001b[1;33m \u001b[0mnormalized_dfa\u001b[0m\u001b[1;33m[\u001b[0m\u001b[1;34m\"class\"\u001b[0m\u001b[1;33m]\u001b[0m \u001b[1;33m=\u001b[0m \u001b[1;36m0\u001b[0m\u001b[1;33m\u001b[0m\u001b[0m\n\u001b[0m\u001b[0;32m    265\u001b[0m \u001b[0mnormalized_dfo\u001b[0m\u001b[1;33m[\u001b[0m\u001b[1;34m\"class\"\u001b[0m\u001b[1;33m]\u001b[0m \u001b[1;33m=\u001b[0m \u001b[1;36m1\u001b[0m\u001b[1;33m\u001b[0m\u001b[0m\n\u001b[0;32m    266\u001b[0m \u001b[0mnormalized_dfh\u001b[0m\u001b[1;33m[\u001b[0m\u001b[1;34m\"class\"\u001b[0m\u001b[1;33m]\u001b[0m \u001b[1;33m=\u001b[0m \u001b[1;36m2\u001b[0m\u001b[1;33m\u001b[0m\u001b[0m\n",
      "\u001b[1;31mNameError\u001b[0m: name 'normalized_dfa' is not defined"
     ]
    }
   ],
   "source": [
    "names = [\n",
    "    \"one\",\n",
    "    \"two\",\n",
    "    \"three\",\n",
    "    \"four\",\n",
    "    \"five\",\n",
    "    \"six\",\n",
    "    \"seven\",\n",
    "    \"eight\",\n",
    "    \"nine\",\n",
    "    \"ten\",\n",
    "    \"eleven\",\n",
    "    \"twelve\",\n",
    "    \"thirteen\",\n",
    "    \"fourteen\",\n",
    "    \"fifteen\",\n",
    "    \"sixteen\",\n",
    "]  # this creates dummy names for the formations\n",
    "number_of_layers = (\n",
    "    7\n",
    ")  # this is the number of tops you want in your training data\n",
    "neighbors = np.random.randint(\n",
    "    1, 200\n",
    ")  # if we want to include neighbor data in training\n",
    "df = pd.DataFrame()\n",
    "\n",
    "# this section builds some toy data with an angular unconformity\n",
    "for j in np.arange(-5, 7, 0.1):\n",
    "    rolling = pd.DataFrame()\n",
    "    rolling[\"zero\"] = (\n",
    "        10 * np.sin(1 - np.arange(0, 40, 0.1) / 15.28)\n",
    "        + np.random.rand(400) / 100\n",
    "    )\n",
    "    for i in range(len(names[0:number_of_layers])):\n",
    "        layer_elevation = 10 * np.sin(\n",
    "            1 - np.arange(0, 40, 0.1) / 15.28\n",
    "        ) + np.random.uniform(0, j)\n",
    "        elevation = np.full(400, j) + np.random.rand(400) / 100\n",
    "        layer_elevation = (\n",
    "            np.where(layer_elevation > elevation, elevation, layer_elevation)\n",
    "            + np.random.rand(400) / 100\n",
    "        )\n",
    "        rolling[names[i]] = layer_elevation\n",
    "    x = np.arange(0, 40, 0.1)\n",
    "    y = np.random.randint(0, 10, len(x))\n",
    "    if j % 0.2 > 0.1:\n",
    "        rolling[\"ex\"] = x * np.cos(-j / 2) - y * np.sin(-j / 2)\n",
    "        rolling[\"ey\"] = y * np.cos(-j / 2) - x * np.sin(-j / 2)\n",
    "    else:\n",
    "        rolling[\"ex\"] = x * np.cos(j / 2) - y * np.sin(j / 2)\n",
    "        rolling[\"ey\"] = y * np.cos(j / 2) - x * np.sin(j / 2)\n",
    "    # this loop creates 0 values at random in the data much like you would see in an incomplete tops dataset\n",
    "    # the range value is the number of entries to set to zero\n",
    "    for k in range(100):\n",
    "        rolling.iloc[\n",
    "            np.random.randint(0, 399),\n",
    "            np.random.randint(0, number_of_layers - 1),\n",
    "        ] = 0\n",
    "    hood = squareform(pdist(rolling.iloc[:, -2:]))\n",
    "    neighbors = []\n",
    "    for i in enumerate(hood.argsort()[0:, 1:4]):\n",
    "        selected = (\n",
    "            rolling.iloc[hood.argsort()[i[0], 1:4], 0:-2].stack().to_frame().T\n",
    "        )\n",
    "        selected.columns = selected.columns.droplevel()\n",
    "        neighbors.append(selected)\n",
    "    frame = pd.concat(neighbors, sort=False)\n",
    "    frame.index = range(len(frame))\n",
    "    neighborhood = pd.concat(\n",
    "        [rolling.iloc[:, :-2], frame, rolling.iloc[:, -2:]], axis=1\n",
    "    )\n",
    "    df = pd.concat((df, neighborhood))\n",
    "adec = []\n",
    "for i in range(len(df)):\n",
    "    adec.append(df.iloc[i, 1:-2].sort_values()[0:].values)\n",
    "s3 = pd.DataFrame(adec)\n",
    "s3.index = df.index.values\n",
    "angular_thicknesses = s3.diff(axis=1)\n",
    "# angular_thicknesses = df.T.diff(axis=0).abs().T #calculate formation thicknesses\n",
    "# neigh = angular_thicknesses.shift(neighbors)\n",
    "logged = angular_thicknesses.apply(\n",
    "    np.log\n",
    ")  # take the log of thicknesses for feature engineering\n",
    "powered = angular_thicknesses.apply(\n",
    "    lambda x: x ** 10\n",
    ")  # calculates the power values of thickness for another feature\n",
    "angular_thicknesses = (\n",
    "    pd.concat(\n",
    "        [angular_thicknesses, logged, powered],\n",
    "        axis=1,\n",
    "        join_axes=[angular_thicknesses.index],\n",
    "    )\n",
    "    .dropna()\n",
    "    .replace(-np.inf, 0)\n",
    ")  # dataframe of angular unconformity fm thicknesses\n",
    "\n",
    "\n",
    "# now for onlap training data construction\n",
    "df_onlap = pd.DataFrame()\n",
    "for j in np.arange(-5, 10, 0.1):\n",
    "    rolling = pd.DataFrame()\n",
    "    rolling[\"zero\"] = 10 * np.sin(1 - np.arange(0, 40, 0.1) / 15.28)\n",
    "    for i in range(len(names[0:number_of_layers])):\n",
    "        zero = (\n",
    "            10 * np.sin(1 - np.arange(0, 40, 0.1) / 15.28)\n",
    "            + np.random.rand(400) / 100\n",
    "        )\n",
    "        randomness = np.random.uniform(0, j)\n",
    "        elevation = np.full(400, j) + np.random.rand(400) / 100\n",
    "        onlap = np.where(\n",
    "            np.full(400, randomness) > zero,\n",
    "            np.full(400, randomness) + np.random.rand(400) / 100,\n",
    "            zero,\n",
    "        )\n",
    "        layer_elevation = (\n",
    "            np.where(onlap > elevation, elevation, onlap)\n",
    "            + np.random.rand(400) / 100\n",
    "        )\n",
    "        rolling[names[i]] = layer_elevation - np.arange(0, 10, 0.025)\n",
    "    x = np.arange(0, 40, 0.1)\n",
    "    y = np.random.randint(0, 10, len(x))\n",
    "    if j % 0.2 > 0.1:\n",
    "        rolling[\"ex\"] = x * np.cos(-j / 2) - y * np.sin(-j / 2)\n",
    "        rolling[\"ey\"] = y * np.cos(-j / 2) - x * np.sin(-j / 2)\n",
    "    else:\n",
    "        rolling[\"ex\"] = x * np.cos(j / 2) - y * np.sin(j / 2)\n",
    "        rolling[\"ey\"] = y * np.cos(j / 2) - x * np.sin(j / 2)\n",
    "    # this loop creates 0 values at random in the data much like you would see in an incomplete tops dataset\n",
    "    # the range value is the number of entries to set to zero\n",
    "    for k in range(100):\n",
    "        rolling.iloc[\n",
    "            np.random.randint(0, 399),\n",
    "            np.random.randint(0, number_of_layers - 1),\n",
    "        ] = 0\n",
    "    hood = squareform(pdist(rolling.iloc[:, -2:]))\n",
    "    neighbors = []\n",
    "    for i in enumerate(hood.argsort()[0:, 1:4]):\n",
    "        selected = (\n",
    "            rolling.iloc[hood.argsort()[i[0], 1:4], 0:-2].stack().to_frame().T\n",
    "        )\n",
    "        selected.columns = selected.columns.droplevel()\n",
    "        neighbors.append(selected)\n",
    "    frame = pd.concat(neighbors, sort=False)\n",
    "    frame.index = range(len(frame))\n",
    "    neighborhood = pd.concat(\n",
    "        [rolling.iloc[:, :-2], frame, rolling.iloc[:, -2:]], axis=1\n",
    "    )\n",
    "    df_onlap = pd.concat((df_onlap, neighborhood))\n",
    "adec = []\n",
    "for i in range(len(df_onlap)):\n",
    "    adec.append(df_onlap.iloc[i, 1:-2].sort_values()[0:].values)\n",
    "s3 = pd.DataFrame(adec)\n",
    "s3.index = df_onlap.index.values\n",
    "onlap_thicknesses = s3.diff(axis=1)\n",
    "# onlap_thicknesses = df_onlap.T.diff(axis=0).abs().T\n",
    "# neigh = onlap_thicknesses.shift(neighbors)\n",
    "logged = onlap_thicknesses.apply(np.log)\n",
    "powered = onlap_thicknesses.apply(lambda x: x ** 10)\n",
    "onlap_thicknesses = (\n",
    "    pd.concat(\n",
    "        [onlap_thicknesses, logged, powered],\n",
    "        axis=1,\n",
    "        join_axes=[onlap_thicknesses.index],\n",
    "    )\n",
    "    .dropna()\n",
    "    .replace(-np.inf, 0)\n",
    ")\n",
    "\n",
    "# if you want to create a section with horizontal stratified training data this section will do it\n",
    "\n",
    "df_horizontal = pd.DataFrame()\n",
    "for j in np.arange(-5, 10.5, 0.1):\n",
    "    rolling = pd.DataFrame()\n",
    "    rolling[\"zero\"] = np.full(400, 0) - np.random.rand(400) / 100\n",
    "    for i in range(len(names[0:number_of_layers])):\n",
    "        randomness = np.random.uniform(0, j)\n",
    "        elevation = np.full(400, j) + np.random.rand(400) / 100\n",
    "        horiz = np.full(400, randomness)\n",
    "        layer_elevation = np.where(horiz > elevation, elevation, horiz)\n",
    "        rolling[names[i]] = layer_elevation - np.arange(0, 10, 0.025)\n",
    "    x = np.arange(0, 40, 0.1)\n",
    "    y = np.random.randint(0, 10, len(x))\n",
    "    if j % 0.2 > 0.1:\n",
    "        rolling[\"ex\"] = x * np.cos(-j / 2) - y * np.sin(-j / 2)\n",
    "        rolling[\"ey\"] = y * np.cos(-j / 2) - x * np.sin(-j / 2)\n",
    "    else:\n",
    "        rolling[\"ex\"] = x * np.cos(j / 2) - y * np.sin(j / 2)\n",
    "        rolling[\"ey\"] = y * np.cos(j / 2) - x * np.sin(j / 2)\n",
    "    for k in range(100):\n",
    "        rolling.iloc[\n",
    "            np.random.randint(0, 399),\n",
    "            np.random.randint(0, number_of_layers - 1),\n",
    "        ] = 0\n",
    "    neighbors = []\n",
    "    for i in enumerate(hood.argsort()[0:, 1:4]):\n",
    "        selected = (\n",
    "            rolling.iloc[hood.argsort()[i[0], 1:4], 0:-2].stack().to_frame().T\n",
    "        )\n",
    "        selected.columns = selected.columns.droplevel()\n",
    "        neighbors.append(selected)\n",
    "    frame = pd.concat(neighbors, sort=False)\n",
    "    frame.index = range(len(frame))\n",
    "    neighborhood = pd.concat(\n",
    "        [rolling.iloc[:, :-2], frame, rolling.iloc[:, -2:]], axis=1\n",
    "    )\n",
    "    df_horizontal = pd.concat((df_horizontal, neighborhood))\n",
    "adec = []\n",
    "for i in range(len(df_horizontal)):\n",
    "    adec.append(df_horizontal.iloc[i, 1:-2].sort_values()[0:].values)\n",
    "s3 = pd.DataFrame(adec)\n",
    "s3.index = df_horizontal.index.values\n",
    "horizontal_thicknesses = s3.diff(axis=1)\n",
    "# horizontal_thicknesses = df_horizontal.T.diff(axis=0).abs().T\n",
    "# neigh = horizontal_thicknesses.shift(neighbors)\n",
    "logged = horizontal_thicknesses.apply(np.log)\n",
    "powered = horizontal_thicknesses.apply(lambda x: x ** 10)\n",
    "horizontal_thicknesses = (\n",
    "    pd.concat(\n",
    "        [horizontal_thicknesses, logged, powered],\n",
    "        axis=1,\n",
    "        join_axes=[horizontal_thicknesses.index],\n",
    "    )\n",
    "    .dropna()\n",
    "    .replace(-np.inf, 0)\n",
    ")\n",
    "\n",
    "# NORMALIZING THE DATA\n",
    "# normalize the data from 0 to 1\n",
    "normalized_df = (angular_thicknesses - angular_thicknesses.min()) / (\n",
    "    angular_thicknesses.max() - angular_thicknesses.min()\n",
    ").replace(0, 0.00001)\n",
    "normalized_locations = (df - df.min()) / (df.max() - df.min())\n",
    "x = normalized_locations.ex.values\n",
    "y = normalized_locations.ey.values\n",
    "normalized_df[\"x\"] = x\n",
    "normalized_df[\"y\"] = y\n",
    "\n",
    "\n",
    "normalized_dfo = (onlap_thicknesses - onlap_thicknesses.min()) / (\n",
    "    onlap_thicknesses.max() - onlap_thicknesses.min()\n",
    ").replace(0, 0.00001)\n",
    "normalized_locationso = (df_onlap - df_onlap.min()) / (\n",
    "    df_onlap.max() - df_onlap.min()\n",
    ")\n",
    "x = normalized_locationso.ex\n",
    "y = normalized_locationso.ey\n",
    "normalized_dfo[\"x\"] = x\n",
    "normalized_dfo[\"y\"] = y\n",
    "\n",
    "\n",
    "normalized_dfh = (horizontal_thicknesses - horizontal_thicknesses.min()) / (\n",
    "    horizontal_thicknesses.max() - horizontal_thicknesses.min()\n",
    ").replace(0, 0.00001)\n",
    "normalized_locationsh = (df_horizontal - df_horizontal.min()) / (\n",
    "    df_horizontal.max() - df_horizontal.min()\n",
    ")\n",
    "x = normalized_locationsh.ex\n",
    "y = normalized_locationsh.ey\n",
    "normalized_dfh[\"x\"] = x\n",
    "normalized_dfh[\"y\"] = y\n",
    "\n",
    "\n",
    "# now assign classes to the datasets, 1 is onlap, 0 is angular unconformity\n",
    "normalized_dfa[\"class\"] = 0\n",
    "normalized_dfo[\"class\"] = 1\n",
    "normalized_dfh[\"class\"] = 2\n",
    "\n",
    "\n",
    "# merge into new dataset\n",
    "dataset = pd.concat(\n",
    "    (normalized_df, normalized_dfo, normalized_dfh)\n",
    ")  # , normalized_dfh))"
   ]
  },
  {
   "cell_type": "code",
   "execution_count": null,
   "metadata": {},
   "outputs": [],
   "source": [
    "df.iloc[40000:40400, 1:-2].plot(\n",
    "    legend=False, figsize=(20, 10), cmap=\"copper\"\n",
    ").set_aspect(6)\n",
    "df_onlap.iloc[40000:40400, 1:-2].plot(\n",
    "    legend=False, figsize=(20, 10), cmap=\"copper\"\n",
    ").set_aspect(6)\n",
    "df_horizontal.iloc[40000:40400, 1:-2].plot(\n",
    "    legend=False, figsize=(20, 10), cmap=\"copper\"\n",
    ").set_aspect(6)"
   ]
  },
  {
   "cell_type": "code",
   "execution_count": 7,
   "metadata": {},
   "outputs": [],
   "source": [
    "from sklearn.model_selection import train_test_split\n",
    "\n",
    "# next let's split our toy data into training and test sets, choose how much with test_size of the data becomes the test set\n",
    "X_train, X_test, y_train, y_test = train_test_split(\n",
    "    dataset.iloc[0:, 0:-1].values,\n",
    "    dataset.iloc[0:, -1].values,\n",
    "    test_size=0.5,\n",
    "    random_state=86,\n",
    ")"
   ]
  },
  {
   "cell_type": "code",
   "execution_count": 8,
   "metadata": {},
   "outputs": [
    {
     "name": "stderr",
     "output_type": "stream",
     "text": [
      "Using TensorFlow backend.\n"
     ]
    }
   ],
   "source": [
    "from keras.utils import to_categorical\n",
    "\n",
    "y_train_encoded = to_categorical(\n",
    "    y_train\n",
    ")  # this converts the target variable to one-hot encoding\n",
    "y_test_encoded = to_categorical(\n",
    "    y_test\n",
    ")  # same with the test data conversion to one-hot encoding"
   ]
  },
  {
   "cell_type": "code",
   "execution_count": 9,
   "metadata": {},
   "outputs": [],
   "source": [
    "# Import keras and some layers, we are going to build a network with two dense layers and a dropout layer\n",
    "from keras.models import Sequential\n",
    "from keras.layers import Dense, Dropout"
   ]
  },
  {
   "cell_type": "code",
   "execution_count": 10,
   "metadata": {},
   "outputs": [],
   "source": [
    "# this is the network, we initialize with a dense layer and a relu activation\n",
    "model = Sequential()\n",
    "model.add(Dense(100, input_shape=(X_train.shape[1],), activation=\"relu\"))\n",
    "model.add(Dropout(0.1))  # dropout to avoid overfitting\n",
    "model.add(\n",
    "    Dense(1000, kernel_initializer=\"random_uniform\", activation=\"sigmoid\")\n",
    ")\n",
    "model.add(Dropout(0.2))\n",
    "model.add(\n",
    "    Dense(3, kernel_initializer=\"random_uniform\", activation=\"softmax\")\n",
    ")  # and another dense layer with sigmoid activation"
   ]
  },
  {
   "cell_type": "code",
   "execution_count": 11,
   "metadata": {},
   "outputs": [],
   "source": [
    "model.compile(\n",
    "    loss=\"categorical_crossentropy\",\n",
    "    optimizer=\"nadam\",\n",
    "    metrics=[\"categorical_accuracy\"],\n",
    ")\n",
    "# builds the model, with categorical crossentropy for our loss function, optimizing using nadam, and using categorical accuracy\n",
    "# as our accuracy metric"
   ]
  },
  {
   "cell_type": "code",
   "execution_count": 12,
   "metadata": {},
   "outputs": [],
   "source": [
    "from keras.callbacks import TensorBoard\n",
    "\n",
    "tbCallBack = TensorBoard(\n",
    "    log_dir=\"./Graph\", histogram_freq=10, write_graph=True, write_images=True\n",
    ")"
   ]
  },
  {
   "cell_type": "code",
   "execution_count": 13,
   "metadata": {},
   "outputs": [
    {
     "name": "stdout",
     "output_type": "stream",
     "text": [
      "Train on 59499 samples, validate on 25501 samples\n",
      "Epoch 1/2\n",
      "59499/59499 [==============================] - 5s 91us/step - loss: nan - categorical_accuracy: 0.2823 - val_loss: nan - val_categorical_accuracy: 0.2844\n"
     ]
    },
    {
     "ename": "InvalidArgumentError",
     "evalue": "Nan in summary histogram for: dense_2/kernel_0\n\t [[Node: dense_2/kernel_0 = HistogramSummary[T=DT_FLOAT, _device=\"/job:localhost/replica:0/task:0/device:CPU:0\"](dense_2/kernel_0/tag, ArithmeticOptimizer/RemoveIdempotent_Squeeze_2)]]\n\nCaused by op 'dense_2/kernel_0', defined at:\n  File \"C:\\Users\\jesse.pisel\\AppData\\Local\\Continuum\\anaconda3\\lib\\runpy.py\", line 193, in _run_module_as_main\n    \"__main__\", mod_spec)\n  File \"C:\\Users\\jesse.pisel\\AppData\\Local\\Continuum\\anaconda3\\lib\\runpy.py\", line 85, in _run_code\n    exec(code, run_globals)\n  File \"C:\\Users\\jesse.pisel\\AppData\\Local\\Continuum\\anaconda3\\lib\\site-packages\\ipykernel_launcher.py\", line 16, in <module>\n    app.launch_new_instance()\n  File \"C:\\Users\\jesse.pisel\\AppData\\Local\\Continuum\\anaconda3\\lib\\site-packages\\traitlets\\config\\application.py\", line 658, in launch_instance\n    app.start()\n  File \"C:\\Users\\jesse.pisel\\AppData\\Local\\Continuum\\anaconda3\\lib\\site-packages\\ipykernel\\kernelapp.py\", line 486, in start\n    self.io_loop.start()\n  File \"C:\\Users\\jesse.pisel\\AppData\\Local\\Continuum\\anaconda3\\lib\\site-packages\\tornado\\platform\\asyncio.py\", line 127, in start\n    self.asyncio_loop.run_forever()\n  File \"C:\\Users\\jesse.pisel\\AppData\\Local\\Continuum\\anaconda3\\lib\\asyncio\\base_events.py\", line 422, in run_forever\n    self._run_once()\n  File \"C:\\Users\\jesse.pisel\\AppData\\Local\\Continuum\\anaconda3\\lib\\asyncio\\base_events.py\", line 1432, in _run_once\n    handle._run()\n  File \"C:\\Users\\jesse.pisel\\AppData\\Local\\Continuum\\anaconda3\\lib\\asyncio\\events.py\", line 145, in _run\n    self._callback(*self._args)\n  File \"C:\\Users\\jesse.pisel\\AppData\\Local\\Continuum\\anaconda3\\lib\\site-packages\\tornado\\ioloop.py\", line 759, in _run_callback\n    ret = callback()\n  File \"C:\\Users\\jesse.pisel\\AppData\\Local\\Continuum\\anaconda3\\lib\\site-packages\\tornado\\stack_context.py\", line 276, in null_wrapper\n    return fn(*args, **kwargs)\n  File \"C:\\Users\\jesse.pisel\\AppData\\Local\\Continuum\\anaconda3\\lib\\site-packages\\zmq\\eventloop\\zmqstream.py\", line 536, in <lambda>\n    self.io_loop.add_callback(lambda : self._handle_events(self.socket, 0))\n  File \"C:\\Users\\jesse.pisel\\AppData\\Local\\Continuum\\anaconda3\\lib\\site-packages\\zmq\\eventloop\\zmqstream.py\", line 450, in _handle_events\n    self._handle_recv()\n  File \"C:\\Users\\jesse.pisel\\AppData\\Local\\Continuum\\anaconda3\\lib\\site-packages\\zmq\\eventloop\\zmqstream.py\", line 480, in _handle_recv\n    self._run_callback(callback, msg)\n  File \"C:\\Users\\jesse.pisel\\AppData\\Local\\Continuum\\anaconda3\\lib\\site-packages\\zmq\\eventloop\\zmqstream.py\", line 432, in _run_callback\n    callback(*args, **kwargs)\n  File \"C:\\Users\\jesse.pisel\\AppData\\Local\\Continuum\\anaconda3\\lib\\site-packages\\tornado\\stack_context.py\", line 276, in null_wrapper\n    return fn(*args, **kwargs)\n  File \"C:\\Users\\jesse.pisel\\AppData\\Local\\Continuum\\anaconda3\\lib\\site-packages\\ipykernel\\kernelbase.py\", line 283, in dispatcher\n    return self.dispatch_shell(stream, msg)\n  File \"C:\\Users\\jesse.pisel\\AppData\\Local\\Continuum\\anaconda3\\lib\\site-packages\\ipykernel\\kernelbase.py\", line 233, in dispatch_shell\n    handler(stream, idents, msg)\n  File \"C:\\Users\\jesse.pisel\\AppData\\Local\\Continuum\\anaconda3\\lib\\site-packages\\ipykernel\\kernelbase.py\", line 399, in execute_request\n    user_expressions, allow_stdin)\n  File \"C:\\Users\\jesse.pisel\\AppData\\Local\\Continuum\\anaconda3\\lib\\site-packages\\ipykernel\\ipkernel.py\", line 208, in do_execute\n    res = shell.run_cell(code, store_history=store_history, silent=silent)\n  File \"C:\\Users\\jesse.pisel\\AppData\\Local\\Continuum\\anaconda3\\lib\\site-packages\\ipykernel\\zmqshell.py\", line 537, in run_cell\n    return super(ZMQInteractiveShell, self).run_cell(*args, **kwargs)\n  File \"C:\\Users\\jesse.pisel\\AppData\\Local\\Continuum\\anaconda3\\lib\\site-packages\\IPython\\core\\interactiveshell.py\", line 2662, in run_cell\n    raw_cell, store_history, silent, shell_futures)\n  File \"C:\\Users\\jesse.pisel\\AppData\\Local\\Continuum\\anaconda3\\lib\\site-packages\\IPython\\core\\interactiveshell.py\", line 2785, in _run_cell\n    interactivity=interactivity, compiler=compiler, result=result)\n  File \"C:\\Users\\jesse.pisel\\AppData\\Local\\Continuum\\anaconda3\\lib\\site-packages\\IPython\\core\\interactiveshell.py\", line 2909, in run_ast_nodes\n    if self.run_code(code, result):\n  File \"C:\\Users\\jesse.pisel\\AppData\\Local\\Continuum\\anaconda3\\lib\\site-packages\\IPython\\core\\interactiveshell.py\", line 2963, in run_code\n    exec(code_obj, self.user_global_ns, self.user_ns)\n  File \"<ipython-input-13-fa647aa5c1d1>\", line 1, in <module>\n    model.fit(X_train, y_train_encoded, epochs=2, batch_size=32, verbose=1, validation_split=0.3, callbacks=[tbCallBack]) #Fitting the model for 60 epochs and batch size of 32\n  File \"C:\\Users\\jesse.pisel\\AppData\\Local\\Continuum\\anaconda3\\lib\\site-packages\\keras\\engine\\training.py\", line 1039, in fit\n    validation_steps=validation_steps)\n  File \"C:\\Users\\jesse.pisel\\AppData\\Local\\Continuum\\anaconda3\\lib\\site-packages\\keras\\engine\\training_arrays.py\", line 117, in fit_loop\n    callbacks.set_model(callback_model)\n  File \"C:\\Users\\jesse.pisel\\AppData\\Local\\Continuum\\anaconda3\\lib\\site-packages\\keras\\callbacks.py\", line 54, in set_model\n    callback.set_model(model)\n  File \"C:\\Users\\jesse.pisel\\AppData\\Local\\Continuum\\anaconda3\\lib\\site-packages\\keras\\callbacks.py\", line 796, in set_model\n    tf.summary.histogram(mapped_weight_name, weight)\n  File \"C:\\Users\\jesse.pisel\\AppData\\Local\\Continuum\\anaconda3\\lib\\site-packages\\tensorflow\\python\\summary\\summary.py\", line 187, in histogram\n    tag=tag, values=values, name=scope)\n  File \"C:\\Users\\jesse.pisel\\AppData\\Local\\Continuum\\anaconda3\\lib\\site-packages\\tensorflow\\python\\ops\\gen_logging_ops.py\", line 309, in histogram_summary\n    \"HistogramSummary\", tag=tag, values=values, name=name)\n  File \"C:\\Users\\jesse.pisel\\AppData\\Local\\Continuum\\anaconda3\\lib\\site-packages\\tensorflow\\python\\framework\\op_def_library.py\", line 787, in _apply_op_helper\n    op_def=op_def)\n  File \"C:\\Users\\jesse.pisel\\AppData\\Local\\Continuum\\anaconda3\\lib\\site-packages\\tensorflow\\python\\framework\\ops.py\", line 3414, in create_op\n    op_def=op_def)\n  File \"C:\\Users\\jesse.pisel\\AppData\\Local\\Continuum\\anaconda3\\lib\\site-packages\\tensorflow\\python\\framework\\ops.py\", line 1740, in __init__\n    self._traceback = self._graph._extract_stack()  # pylint: disable=protected-access\n\nInvalidArgumentError (see above for traceback): Nan in summary histogram for: dense_2/kernel_0\n\t [[Node: dense_2/kernel_0 = HistogramSummary[T=DT_FLOAT, _device=\"/job:localhost/replica:0/task:0/device:CPU:0\"](dense_2/kernel_0/tag, ArithmeticOptimizer/RemoveIdempotent_Squeeze_2)]]\n",
     "output_type": "error",
     "traceback": [
      "\u001b[1;31m---------------------------------------------------------------------------\u001b[0m",
      "\u001b[1;31mInvalidArgumentError\u001b[0m                      Traceback (most recent call last)",
      "\u001b[1;32m~\\AppData\\Local\\Continuum\\anaconda3\\lib\\site-packages\\tensorflow\\python\\client\\session.py\u001b[0m in \u001b[0;36m_do_call\u001b[1;34m(self, fn, *args)\u001b[0m\n\u001b[0;32m   1321\u001b[0m     \u001b[1;32mtry\u001b[0m\u001b[1;33m:\u001b[0m\u001b[1;33m\u001b[0m\u001b[0m\n\u001b[1;32m-> 1322\u001b[1;33m       \u001b[1;32mreturn\u001b[0m \u001b[0mfn\u001b[0m\u001b[1;33m(\u001b[0m\u001b[1;33m*\u001b[0m\u001b[0margs\u001b[0m\u001b[1;33m)\u001b[0m\u001b[1;33m\u001b[0m\u001b[0m\n\u001b[0m\u001b[0;32m   1323\u001b[0m     \u001b[1;32mexcept\u001b[0m \u001b[0merrors\u001b[0m\u001b[1;33m.\u001b[0m\u001b[0mOpError\u001b[0m \u001b[1;32mas\u001b[0m \u001b[0me\u001b[0m\u001b[1;33m:\u001b[0m\u001b[1;33m\u001b[0m\u001b[0m\n",
      "\u001b[1;32m~\\AppData\\Local\\Continuum\\anaconda3\\lib\\site-packages\\tensorflow\\python\\client\\session.py\u001b[0m in \u001b[0;36m_run_fn\u001b[1;34m(feed_dict, fetch_list, target_list, options, run_metadata)\u001b[0m\n\u001b[0;32m   1306\u001b[0m       return self._call_tf_sessionrun(\n\u001b[1;32m-> 1307\u001b[1;33m           options, feed_dict, fetch_list, target_list, run_metadata)\n\u001b[0m\u001b[0;32m   1308\u001b[0m \u001b[1;33m\u001b[0m\u001b[0m\n",
      "\u001b[1;32m~\\AppData\\Local\\Continuum\\anaconda3\\lib\\site-packages\\tensorflow\\python\\client\\session.py\u001b[0m in \u001b[0;36m_call_tf_sessionrun\u001b[1;34m(self, options, feed_dict, fetch_list, target_list, run_metadata)\u001b[0m\n\u001b[0;32m   1408\u001b[0m           \u001b[0mself\u001b[0m\u001b[1;33m.\u001b[0m\u001b[0m_session\u001b[0m\u001b[1;33m,\u001b[0m \u001b[0moptions\u001b[0m\u001b[1;33m,\u001b[0m \u001b[0mfeed_dict\u001b[0m\u001b[1;33m,\u001b[0m \u001b[0mfetch_list\u001b[0m\u001b[1;33m,\u001b[0m \u001b[0mtarget_list\u001b[0m\u001b[1;33m,\u001b[0m\u001b[1;33m\u001b[0m\u001b[0m\n\u001b[1;32m-> 1409\u001b[1;33m           run_metadata)\n\u001b[0m\u001b[0;32m   1410\u001b[0m     \u001b[1;32melse\u001b[0m\u001b[1;33m:\u001b[0m\u001b[1;33m\u001b[0m\u001b[0m\n",
      "\u001b[1;31mInvalidArgumentError\u001b[0m: Nan in summary histogram for: dense_2/kernel_0\n\t [[Node: dense_2/kernel_0 = HistogramSummary[T=DT_FLOAT, _device=\"/job:localhost/replica:0/task:0/device:CPU:0\"](dense_2/kernel_0/tag, ArithmeticOptimizer/RemoveIdempotent_Squeeze_2)]]",
      "\nDuring handling of the above exception, another exception occurred:\n",
      "\u001b[1;31mInvalidArgumentError\u001b[0m                      Traceback (most recent call last)",
      "\u001b[1;32m<ipython-input-13-fa647aa5c1d1>\u001b[0m in \u001b[0;36m<module>\u001b[1;34m()\u001b[0m\n\u001b[1;32m----> 1\u001b[1;33m \u001b[0mmodel\u001b[0m\u001b[1;33m.\u001b[0m\u001b[0mfit\u001b[0m\u001b[1;33m(\u001b[0m\u001b[0mX_train\u001b[0m\u001b[1;33m,\u001b[0m \u001b[0my_train_encoded\u001b[0m\u001b[1;33m,\u001b[0m \u001b[0mepochs\u001b[0m\u001b[1;33m=\u001b[0m\u001b[1;36m2\u001b[0m\u001b[1;33m,\u001b[0m \u001b[0mbatch_size\u001b[0m\u001b[1;33m=\u001b[0m\u001b[1;36m32\u001b[0m\u001b[1;33m,\u001b[0m \u001b[0mverbose\u001b[0m\u001b[1;33m=\u001b[0m\u001b[1;36m1\u001b[0m\u001b[1;33m,\u001b[0m \u001b[0mvalidation_split\u001b[0m\u001b[1;33m=\u001b[0m\u001b[1;36m0.3\u001b[0m\u001b[1;33m,\u001b[0m \u001b[0mcallbacks\u001b[0m\u001b[1;33m=\u001b[0m\u001b[1;33m[\u001b[0m\u001b[0mtbCallBack\u001b[0m\u001b[1;33m]\u001b[0m\u001b[1;33m)\u001b[0m \u001b[1;31m#Fitting the model for 60 epochs and batch size of 32\u001b[0m\u001b[1;33m\u001b[0m\u001b[0m\n\u001b[0m",
      "\u001b[1;32m~\\AppData\\Local\\Continuum\\anaconda3\\lib\\site-packages\\keras\\engine\\training.py\u001b[0m in \u001b[0;36mfit\u001b[1;34m(self, x, y, batch_size, epochs, verbose, callbacks, validation_split, validation_data, shuffle, class_weight, sample_weight, initial_epoch, steps_per_epoch, validation_steps, **kwargs)\u001b[0m\n\u001b[0;32m   1037\u001b[0m                                         \u001b[0minitial_epoch\u001b[0m\u001b[1;33m=\u001b[0m\u001b[0minitial_epoch\u001b[0m\u001b[1;33m,\u001b[0m\u001b[1;33m\u001b[0m\u001b[0m\n\u001b[0;32m   1038\u001b[0m                                         \u001b[0msteps_per_epoch\u001b[0m\u001b[1;33m=\u001b[0m\u001b[0msteps_per_epoch\u001b[0m\u001b[1;33m,\u001b[0m\u001b[1;33m\u001b[0m\u001b[0m\n\u001b[1;32m-> 1039\u001b[1;33m                                         validation_steps=validation_steps)\n\u001b[0m\u001b[0;32m   1040\u001b[0m \u001b[1;33m\u001b[0m\u001b[0m\n\u001b[0;32m   1041\u001b[0m     def evaluate(self, x=None, y=None,\n",
      "\u001b[1;32m~\\AppData\\Local\\Continuum\\anaconda3\\lib\\site-packages\\keras\\engine\\training_arrays.py\u001b[0m in \u001b[0;36mfit_loop\u001b[1;34m(model, f, ins, out_labels, batch_size, epochs, verbose, callbacks, val_f, val_ins, shuffle, callback_metrics, initial_epoch, steps_per_epoch, validation_steps)\u001b[0m\n\u001b[0;32m    215\u001b[0m                         \u001b[1;32mfor\u001b[0m \u001b[0ml\u001b[0m\u001b[1;33m,\u001b[0m \u001b[0mo\u001b[0m \u001b[1;32min\u001b[0m \u001b[0mzip\u001b[0m\u001b[1;33m(\u001b[0m\u001b[0mout_labels\u001b[0m\u001b[1;33m,\u001b[0m \u001b[0mval_outs\u001b[0m\u001b[1;33m)\u001b[0m\u001b[1;33m:\u001b[0m\u001b[1;33m\u001b[0m\u001b[0m\n\u001b[0;32m    216\u001b[0m                             \u001b[0mepoch_logs\u001b[0m\u001b[1;33m[\u001b[0m\u001b[1;34m'val_'\u001b[0m \u001b[1;33m+\u001b[0m \u001b[0ml\u001b[0m\u001b[1;33m]\u001b[0m \u001b[1;33m=\u001b[0m \u001b[0mo\u001b[0m\u001b[1;33m\u001b[0m\u001b[0m\n\u001b[1;32m--> 217\u001b[1;33m         \u001b[0mcallbacks\u001b[0m\u001b[1;33m.\u001b[0m\u001b[0mon_epoch_end\u001b[0m\u001b[1;33m(\u001b[0m\u001b[0mepoch\u001b[0m\u001b[1;33m,\u001b[0m \u001b[0mepoch_logs\u001b[0m\u001b[1;33m)\u001b[0m\u001b[1;33m\u001b[0m\u001b[0m\n\u001b[0m\u001b[0;32m    218\u001b[0m         \u001b[1;32mif\u001b[0m \u001b[0mcallback_model\u001b[0m\u001b[1;33m.\u001b[0m\u001b[0mstop_training\u001b[0m\u001b[1;33m:\u001b[0m\u001b[1;33m\u001b[0m\u001b[0m\n\u001b[0;32m    219\u001b[0m             \u001b[1;32mbreak\u001b[0m\u001b[1;33m\u001b[0m\u001b[0m\n",
      "\u001b[1;32m~\\AppData\\Local\\Continuum\\anaconda3\\lib\\site-packages\\keras\\callbacks.py\u001b[0m in \u001b[0;36mon_epoch_end\u001b[1;34m(self, epoch, logs)\u001b[0m\n\u001b[0;32m     77\u001b[0m         \u001b[0mlogs\u001b[0m \u001b[1;33m=\u001b[0m \u001b[0mlogs\u001b[0m \u001b[1;32mor\u001b[0m \u001b[1;33m{\u001b[0m\u001b[1;33m}\u001b[0m\u001b[1;33m\u001b[0m\u001b[0m\n\u001b[0;32m     78\u001b[0m         \u001b[1;32mfor\u001b[0m \u001b[0mcallback\u001b[0m \u001b[1;32min\u001b[0m \u001b[0mself\u001b[0m\u001b[1;33m.\u001b[0m\u001b[0mcallbacks\u001b[0m\u001b[1;33m:\u001b[0m\u001b[1;33m\u001b[0m\u001b[0m\n\u001b[1;32m---> 79\u001b[1;33m             \u001b[0mcallback\u001b[0m\u001b[1;33m.\u001b[0m\u001b[0mon_epoch_end\u001b[0m\u001b[1;33m(\u001b[0m\u001b[0mepoch\u001b[0m\u001b[1;33m,\u001b[0m \u001b[0mlogs\u001b[0m\u001b[1;33m)\u001b[0m\u001b[1;33m\u001b[0m\u001b[0m\n\u001b[0m\u001b[0;32m     80\u001b[0m \u001b[1;33m\u001b[0m\u001b[0m\n\u001b[0;32m     81\u001b[0m     \u001b[1;32mdef\u001b[0m \u001b[0mon_batch_begin\u001b[0m\u001b[1;33m(\u001b[0m\u001b[0mself\u001b[0m\u001b[1;33m,\u001b[0m \u001b[0mbatch\u001b[0m\u001b[1;33m,\u001b[0m \u001b[0mlogs\u001b[0m\u001b[1;33m=\u001b[0m\u001b[1;32mNone\u001b[0m\u001b[1;33m)\u001b[0m\u001b[1;33m:\u001b[0m\u001b[1;33m\u001b[0m\u001b[0m\n",
      "\u001b[1;32m~\\AppData\\Local\\Continuum\\anaconda3\\lib\\site-packages\\keras\\callbacks.py\u001b[0m in \u001b[0;36mon_epoch_end\u001b[1;34m(self, epoch, logs)\u001b[0m\n\u001b[0;32m    939\u001b[0m                     \u001b[1;32massert\u001b[0m \u001b[0mlen\u001b[0m\u001b[1;33m(\u001b[0m\u001b[0mbatch_val\u001b[0m\u001b[1;33m)\u001b[0m \u001b[1;33m==\u001b[0m \u001b[0mlen\u001b[0m\u001b[1;33m(\u001b[0m\u001b[0mtensors\u001b[0m\u001b[1;33m)\u001b[0m\u001b[1;33m\u001b[0m\u001b[0m\n\u001b[0;32m    940\u001b[0m                     \u001b[0mfeed_dict\u001b[0m \u001b[1;33m=\u001b[0m \u001b[0mdict\u001b[0m\u001b[1;33m(\u001b[0m\u001b[0mzip\u001b[0m\u001b[1;33m(\u001b[0m\u001b[0mtensors\u001b[0m\u001b[1;33m,\u001b[0m \u001b[0mbatch_val\u001b[0m\u001b[1;33m)\u001b[0m\u001b[1;33m)\u001b[0m\u001b[1;33m\u001b[0m\u001b[0m\n\u001b[1;32m--> 941\u001b[1;33m                     \u001b[0mresult\u001b[0m \u001b[1;33m=\u001b[0m \u001b[0mself\u001b[0m\u001b[1;33m.\u001b[0m\u001b[0msess\u001b[0m\u001b[1;33m.\u001b[0m\u001b[0mrun\u001b[0m\u001b[1;33m(\u001b[0m\u001b[1;33m[\u001b[0m\u001b[0mself\u001b[0m\u001b[1;33m.\u001b[0m\u001b[0mmerged\u001b[0m\u001b[1;33m]\u001b[0m\u001b[1;33m,\u001b[0m \u001b[0mfeed_dict\u001b[0m\u001b[1;33m=\u001b[0m\u001b[0mfeed_dict\u001b[0m\u001b[1;33m)\u001b[0m\u001b[1;33m\u001b[0m\u001b[0m\n\u001b[0m\u001b[0;32m    942\u001b[0m                     \u001b[0msummary_str\u001b[0m \u001b[1;33m=\u001b[0m \u001b[0mresult\u001b[0m\u001b[1;33m[\u001b[0m\u001b[1;36m0\u001b[0m\u001b[1;33m]\u001b[0m\u001b[1;33m\u001b[0m\u001b[0m\n\u001b[0;32m    943\u001b[0m                     \u001b[0mself\u001b[0m\u001b[1;33m.\u001b[0m\u001b[0mwriter\u001b[0m\u001b[1;33m.\u001b[0m\u001b[0madd_summary\u001b[0m\u001b[1;33m(\u001b[0m\u001b[0msummary_str\u001b[0m\u001b[1;33m,\u001b[0m \u001b[0mepoch\u001b[0m\u001b[1;33m)\u001b[0m\u001b[1;33m\u001b[0m\u001b[0m\n",
      "\u001b[1;32m~\\AppData\\Local\\Continuum\\anaconda3\\lib\\site-packages\\tensorflow\\python\\client\\session.py\u001b[0m in \u001b[0;36mrun\u001b[1;34m(self, fetches, feed_dict, options, run_metadata)\u001b[0m\n\u001b[0;32m    898\u001b[0m     \u001b[1;32mtry\u001b[0m\u001b[1;33m:\u001b[0m\u001b[1;33m\u001b[0m\u001b[0m\n\u001b[0;32m    899\u001b[0m       result = self._run(None, fetches, feed_dict, options_ptr,\n\u001b[1;32m--> 900\u001b[1;33m                          run_metadata_ptr)\n\u001b[0m\u001b[0;32m    901\u001b[0m       \u001b[1;32mif\u001b[0m \u001b[0mrun_metadata\u001b[0m\u001b[1;33m:\u001b[0m\u001b[1;33m\u001b[0m\u001b[0m\n\u001b[0;32m    902\u001b[0m         \u001b[0mproto_data\u001b[0m \u001b[1;33m=\u001b[0m \u001b[0mtf_session\u001b[0m\u001b[1;33m.\u001b[0m\u001b[0mTF_GetBuffer\u001b[0m\u001b[1;33m(\u001b[0m\u001b[0mrun_metadata_ptr\u001b[0m\u001b[1;33m)\u001b[0m\u001b[1;33m\u001b[0m\u001b[0m\n",
      "\u001b[1;32m~\\AppData\\Local\\Continuum\\anaconda3\\lib\\site-packages\\tensorflow\\python\\client\\session.py\u001b[0m in \u001b[0;36m_run\u001b[1;34m(self, handle, fetches, feed_dict, options, run_metadata)\u001b[0m\n\u001b[0;32m   1133\u001b[0m     \u001b[1;32mif\u001b[0m \u001b[0mfinal_fetches\u001b[0m \u001b[1;32mor\u001b[0m \u001b[0mfinal_targets\u001b[0m \u001b[1;32mor\u001b[0m \u001b[1;33m(\u001b[0m\u001b[0mhandle\u001b[0m \u001b[1;32mand\u001b[0m \u001b[0mfeed_dict_tensor\u001b[0m\u001b[1;33m)\u001b[0m\u001b[1;33m:\u001b[0m\u001b[1;33m\u001b[0m\u001b[0m\n\u001b[0;32m   1134\u001b[0m       results = self._do_run(handle, final_targets, final_fetches,\n\u001b[1;32m-> 1135\u001b[1;33m                              feed_dict_tensor, options, run_metadata)\n\u001b[0m\u001b[0;32m   1136\u001b[0m     \u001b[1;32melse\u001b[0m\u001b[1;33m:\u001b[0m\u001b[1;33m\u001b[0m\u001b[0m\n\u001b[0;32m   1137\u001b[0m       \u001b[0mresults\u001b[0m \u001b[1;33m=\u001b[0m \u001b[1;33m[\u001b[0m\u001b[1;33m]\u001b[0m\u001b[1;33m\u001b[0m\u001b[0m\n",
      "\u001b[1;32m~\\AppData\\Local\\Continuum\\anaconda3\\lib\\site-packages\\tensorflow\\python\\client\\session.py\u001b[0m in \u001b[0;36m_do_run\u001b[1;34m(self, handle, target_list, fetch_list, feed_dict, options, run_metadata)\u001b[0m\n\u001b[0;32m   1314\u001b[0m     \u001b[1;32mif\u001b[0m \u001b[0mhandle\u001b[0m \u001b[1;32mis\u001b[0m \u001b[1;32mNone\u001b[0m\u001b[1;33m:\u001b[0m\u001b[1;33m\u001b[0m\u001b[0m\n\u001b[0;32m   1315\u001b[0m       return self._do_call(_run_fn, feeds, fetches, targets, options,\n\u001b[1;32m-> 1316\u001b[1;33m                            run_metadata)\n\u001b[0m\u001b[0;32m   1317\u001b[0m     \u001b[1;32melse\u001b[0m\u001b[1;33m:\u001b[0m\u001b[1;33m\u001b[0m\u001b[0m\n\u001b[0;32m   1318\u001b[0m       \u001b[1;32mreturn\u001b[0m \u001b[0mself\u001b[0m\u001b[1;33m.\u001b[0m\u001b[0m_do_call\u001b[0m\u001b[1;33m(\u001b[0m\u001b[0m_prun_fn\u001b[0m\u001b[1;33m,\u001b[0m \u001b[0mhandle\u001b[0m\u001b[1;33m,\u001b[0m \u001b[0mfeeds\u001b[0m\u001b[1;33m,\u001b[0m \u001b[0mfetches\u001b[0m\u001b[1;33m)\u001b[0m\u001b[1;33m\u001b[0m\u001b[0m\n",
      "\u001b[1;32m~\\AppData\\Local\\Continuum\\anaconda3\\lib\\site-packages\\tensorflow\\python\\client\\session.py\u001b[0m in \u001b[0;36m_do_call\u001b[1;34m(self, fn, *args)\u001b[0m\n\u001b[0;32m   1333\u001b[0m         \u001b[1;32mexcept\u001b[0m \u001b[0mKeyError\u001b[0m\u001b[1;33m:\u001b[0m\u001b[1;33m\u001b[0m\u001b[0m\n\u001b[0;32m   1334\u001b[0m           \u001b[1;32mpass\u001b[0m\u001b[1;33m\u001b[0m\u001b[0m\n\u001b[1;32m-> 1335\u001b[1;33m       \u001b[1;32mraise\u001b[0m \u001b[0mtype\u001b[0m\u001b[1;33m(\u001b[0m\u001b[0me\u001b[0m\u001b[1;33m)\u001b[0m\u001b[1;33m(\u001b[0m\u001b[0mnode_def\u001b[0m\u001b[1;33m,\u001b[0m \u001b[0mop\u001b[0m\u001b[1;33m,\u001b[0m \u001b[0mmessage\u001b[0m\u001b[1;33m)\u001b[0m\u001b[1;33m\u001b[0m\u001b[0m\n\u001b[0m\u001b[0;32m   1336\u001b[0m \u001b[1;33m\u001b[0m\u001b[0m\n\u001b[0;32m   1337\u001b[0m   \u001b[1;32mdef\u001b[0m \u001b[0m_extend_graph\u001b[0m\u001b[1;33m(\u001b[0m\u001b[0mself\u001b[0m\u001b[1;33m)\u001b[0m\u001b[1;33m:\u001b[0m\u001b[1;33m\u001b[0m\u001b[0m\n",
      "\u001b[1;31mInvalidArgumentError\u001b[0m: Nan in summary histogram for: dense_2/kernel_0\n\t [[Node: dense_2/kernel_0 = HistogramSummary[T=DT_FLOAT, _device=\"/job:localhost/replica:0/task:0/device:CPU:0\"](dense_2/kernel_0/tag, ArithmeticOptimizer/RemoveIdempotent_Squeeze_2)]]\n\nCaused by op 'dense_2/kernel_0', defined at:\n  File \"C:\\Users\\jesse.pisel\\AppData\\Local\\Continuum\\anaconda3\\lib\\runpy.py\", line 193, in _run_module_as_main\n    \"__main__\", mod_spec)\n  File \"C:\\Users\\jesse.pisel\\AppData\\Local\\Continuum\\anaconda3\\lib\\runpy.py\", line 85, in _run_code\n    exec(code, run_globals)\n  File \"C:\\Users\\jesse.pisel\\AppData\\Local\\Continuum\\anaconda3\\lib\\site-packages\\ipykernel_launcher.py\", line 16, in <module>\n    app.launch_new_instance()\n  File \"C:\\Users\\jesse.pisel\\AppData\\Local\\Continuum\\anaconda3\\lib\\site-packages\\traitlets\\config\\application.py\", line 658, in launch_instance\n    app.start()\n  File \"C:\\Users\\jesse.pisel\\AppData\\Local\\Continuum\\anaconda3\\lib\\site-packages\\ipykernel\\kernelapp.py\", line 486, in start\n    self.io_loop.start()\n  File \"C:\\Users\\jesse.pisel\\AppData\\Local\\Continuum\\anaconda3\\lib\\site-packages\\tornado\\platform\\asyncio.py\", line 127, in start\n    self.asyncio_loop.run_forever()\n  File \"C:\\Users\\jesse.pisel\\AppData\\Local\\Continuum\\anaconda3\\lib\\asyncio\\base_events.py\", line 422, in run_forever\n    self._run_once()\n  File \"C:\\Users\\jesse.pisel\\AppData\\Local\\Continuum\\anaconda3\\lib\\asyncio\\base_events.py\", line 1432, in _run_once\n    handle._run()\n  File \"C:\\Users\\jesse.pisel\\AppData\\Local\\Continuum\\anaconda3\\lib\\asyncio\\events.py\", line 145, in _run\n    self._callback(*self._args)\n  File \"C:\\Users\\jesse.pisel\\AppData\\Local\\Continuum\\anaconda3\\lib\\site-packages\\tornado\\ioloop.py\", line 759, in _run_callback\n    ret = callback()\n  File \"C:\\Users\\jesse.pisel\\AppData\\Local\\Continuum\\anaconda3\\lib\\site-packages\\tornado\\stack_context.py\", line 276, in null_wrapper\n    return fn(*args, **kwargs)\n  File \"C:\\Users\\jesse.pisel\\AppData\\Local\\Continuum\\anaconda3\\lib\\site-packages\\zmq\\eventloop\\zmqstream.py\", line 536, in <lambda>\n    self.io_loop.add_callback(lambda : self._handle_events(self.socket, 0))\n  File \"C:\\Users\\jesse.pisel\\AppData\\Local\\Continuum\\anaconda3\\lib\\site-packages\\zmq\\eventloop\\zmqstream.py\", line 450, in _handle_events\n    self._handle_recv()\n  File \"C:\\Users\\jesse.pisel\\AppData\\Local\\Continuum\\anaconda3\\lib\\site-packages\\zmq\\eventloop\\zmqstream.py\", line 480, in _handle_recv\n    self._run_callback(callback, msg)\n  File \"C:\\Users\\jesse.pisel\\AppData\\Local\\Continuum\\anaconda3\\lib\\site-packages\\zmq\\eventloop\\zmqstream.py\", line 432, in _run_callback\n    callback(*args, **kwargs)\n  File \"C:\\Users\\jesse.pisel\\AppData\\Local\\Continuum\\anaconda3\\lib\\site-packages\\tornado\\stack_context.py\", line 276, in null_wrapper\n    return fn(*args, **kwargs)\n  File \"C:\\Users\\jesse.pisel\\AppData\\Local\\Continuum\\anaconda3\\lib\\site-packages\\ipykernel\\kernelbase.py\", line 283, in dispatcher\n    return self.dispatch_shell(stream, msg)\n  File \"C:\\Users\\jesse.pisel\\AppData\\Local\\Continuum\\anaconda3\\lib\\site-packages\\ipykernel\\kernelbase.py\", line 233, in dispatch_shell\n    handler(stream, idents, msg)\n  File \"C:\\Users\\jesse.pisel\\AppData\\Local\\Continuum\\anaconda3\\lib\\site-packages\\ipykernel\\kernelbase.py\", line 399, in execute_request\n    user_expressions, allow_stdin)\n  File \"C:\\Users\\jesse.pisel\\AppData\\Local\\Continuum\\anaconda3\\lib\\site-packages\\ipykernel\\ipkernel.py\", line 208, in do_execute\n    res = shell.run_cell(code, store_history=store_history, silent=silent)\n  File \"C:\\Users\\jesse.pisel\\AppData\\Local\\Continuum\\anaconda3\\lib\\site-packages\\ipykernel\\zmqshell.py\", line 537, in run_cell\n    return super(ZMQInteractiveShell, self).run_cell(*args, **kwargs)\n  File \"C:\\Users\\jesse.pisel\\AppData\\Local\\Continuum\\anaconda3\\lib\\site-packages\\IPython\\core\\interactiveshell.py\", line 2662, in run_cell\n    raw_cell, store_history, silent, shell_futures)\n  File \"C:\\Users\\jesse.pisel\\AppData\\Local\\Continuum\\anaconda3\\lib\\site-packages\\IPython\\core\\interactiveshell.py\", line 2785, in _run_cell\n    interactivity=interactivity, compiler=compiler, result=result)\n  File \"C:\\Users\\jesse.pisel\\AppData\\Local\\Continuum\\anaconda3\\lib\\site-packages\\IPython\\core\\interactiveshell.py\", line 2909, in run_ast_nodes\n    if self.run_code(code, result):\n  File \"C:\\Users\\jesse.pisel\\AppData\\Local\\Continuum\\anaconda3\\lib\\site-packages\\IPython\\core\\interactiveshell.py\", line 2963, in run_code\n    exec(code_obj, self.user_global_ns, self.user_ns)\n  File \"<ipython-input-13-fa647aa5c1d1>\", line 1, in <module>\n    model.fit(X_train, y_train_encoded, epochs=2, batch_size=32, verbose=1, validation_split=0.3, callbacks=[tbCallBack]) #Fitting the model for 60 epochs and batch size of 32\n  File \"C:\\Users\\jesse.pisel\\AppData\\Local\\Continuum\\anaconda3\\lib\\site-packages\\keras\\engine\\training.py\", line 1039, in fit\n    validation_steps=validation_steps)\n  File \"C:\\Users\\jesse.pisel\\AppData\\Local\\Continuum\\anaconda3\\lib\\site-packages\\keras\\engine\\training_arrays.py\", line 117, in fit_loop\n    callbacks.set_model(callback_model)\n  File \"C:\\Users\\jesse.pisel\\AppData\\Local\\Continuum\\anaconda3\\lib\\site-packages\\keras\\callbacks.py\", line 54, in set_model\n    callback.set_model(model)\n  File \"C:\\Users\\jesse.pisel\\AppData\\Local\\Continuum\\anaconda3\\lib\\site-packages\\keras\\callbacks.py\", line 796, in set_model\n    tf.summary.histogram(mapped_weight_name, weight)\n  File \"C:\\Users\\jesse.pisel\\AppData\\Local\\Continuum\\anaconda3\\lib\\site-packages\\tensorflow\\python\\summary\\summary.py\", line 187, in histogram\n    tag=tag, values=values, name=scope)\n  File \"C:\\Users\\jesse.pisel\\AppData\\Local\\Continuum\\anaconda3\\lib\\site-packages\\tensorflow\\python\\ops\\gen_logging_ops.py\", line 309, in histogram_summary\n    \"HistogramSummary\", tag=tag, values=values, name=name)\n  File \"C:\\Users\\jesse.pisel\\AppData\\Local\\Continuum\\anaconda3\\lib\\site-packages\\tensorflow\\python\\framework\\op_def_library.py\", line 787, in _apply_op_helper\n    op_def=op_def)\n  File \"C:\\Users\\jesse.pisel\\AppData\\Local\\Continuum\\anaconda3\\lib\\site-packages\\tensorflow\\python\\framework\\ops.py\", line 3414, in create_op\n    op_def=op_def)\n  File \"C:\\Users\\jesse.pisel\\AppData\\Local\\Continuum\\anaconda3\\lib\\site-packages\\tensorflow\\python\\framework\\ops.py\", line 1740, in __init__\n    self._traceback = self._graph._extract_stack()  # pylint: disable=protected-access\n\nInvalidArgumentError (see above for traceback): Nan in summary histogram for: dense_2/kernel_0\n\t [[Node: dense_2/kernel_0 = HistogramSummary[T=DT_FLOAT, _device=\"/job:localhost/replica:0/task:0/device:CPU:0\"](dense_2/kernel_0/tag, ArithmeticOptimizer/RemoveIdempotent_Squeeze_2)]]\n"
     ]
    }
   ],
   "source": [
    "model.fit(\n",
    "    X_train,\n",
    "    y_train_encoded,\n",
    "    epochs=2,\n",
    "    batch_size=32,\n",
    "    verbose=1,\n",
    "    validation_split=0.3,\n",
    "    callbacks=[tbCallBack],\n",
    ")  # Fitting the model for 60 epochs and batch size of 32"
   ]
  },
  {
   "cell_type": "code",
   "execution_count": null,
   "metadata": {},
   "outputs": [],
   "source": [
    "score = model.evaluate(\n",
    "    X_test, y_test_encoded\n",
    ")  # tests the model on the test data\n",
    "score"
   ]
  },
  {
   "cell_type": "code",
   "execution_count": null,
   "metadata": {},
   "outputs": [],
   "source": [
    "# model.save('.\\onlap_model_3_surfaces.h5')"
   ]
  },
  {
   "cell_type": "code",
   "execution_count": null,
   "metadata": {},
   "outputs": [],
   "source": [
    "preds = model.predict(\n",
    "    X_test\n",
    ")  # creates predictions on the test data that we can use\n",
    "import scikitplot as skplt\n",
    "\n",
    "skplt.metrics.plot_confusion_matrix(\n",
    "    y_test, np.argmax(preds, axis=1), normalize=True\n",
    ")  # let's visualize the predictions"
   ]
  },
  {
   "cell_type": "code",
   "execution_count": null,
   "metadata": {},
   "outputs": [],
   "source": [
    "# from keras.models import load_model\n",
    "# model2 = load_model('onlap_model.h5')\n",
    "# preds2 = model2.predict(X_test)"
   ]
  },
  {
   "cell_type": "code",
   "execution_count": null,
   "metadata": {},
   "outputs": [],
   "source": [
    "# import scikitplot as skplt\n",
    "# skplt.metrics.plot_confusion_matrix(y_test, np.argmax(preds2, axis=1), normalize=True) #let's visualize the predictions"
   ]
  },
  {
   "cell_type": "markdown",
   "metadata": {},
   "source": [
    "# Real World Data"
   ]
  },
  {
   "cell_type": "code",
   "execution_count": null,
   "metadata": {},
   "outputs": [],
   "source": [
    "# from keras.models import load_model\n",
    "# model = load_model('onlap_model_3_surfaces.h5')"
   ]
  },
  {
   "cell_type": "code",
   "execution_count": null,
   "metadata": {},
   "outputs": [],
   "source": [
    "# let's import some real world data from southwestern Wyoming\n",
    "# this is from the Ro`ck Springs Uplift in Wyoming and has been interpreted as an angular unconformity\n",
    "tops_api = pd.read_csv(r\"D:\\jupyter\\EarlyWSGS\\ftunion.csv\").fillna(\n",
    "    0\n",
    ")  # this file is available in the unconformity or onlap folder in the repo\n",
    "# tops = tops_api[['Kl', 'Kll', 'Klz', 'Kfh']]\n",
    "tops = tops_api[[\"Tfu\", \"Tfob\", \"Tfc\", \"Kl\", \"Kll\", \"Klz\", \"Kfh\", \"x\", \"y\"]]"
   ]
  },
  {
   "cell_type": "code",
   "execution_count": null,
   "metadata": {},
   "outputs": [],
   "source": [
    "hood = squareform(pdist(tops.iloc[:, -2:]))\n",
    "neighbors = []\n",
    "for i in enumerate(hood.argsort()[0:, 1:4]):\n",
    "    selected = tops.iloc[hood.argsort()[i[0], 1:4], 0:-2].stack().to_frame().T\n",
    "    selected.columns = selected.columns.droplevel()\n",
    "    neighbors.append(selected)\n",
    "frame = pd.concat(neighbors, sort=False)\n",
    "frame.index = range(len(frame))\n",
    "neighborhood = pd.concat([tops.iloc[:, :-2], frame, tops.iloc[:, -2:]], axis=1)"
   ]
  },
  {
   "cell_type": "code",
   "execution_count": null,
   "metadata": {},
   "outputs": [],
   "source": [
    "# clean up the real world data, take the tops from depth to thickness for each formation and get rid of negative thicknesses\n",
    "tops2 = neighborhood.diff(axis=1, periods=-1).iloc[:, :-2] * -1\n",
    "tops2[tops2 < 0] = 0\n",
    "tops2[tops2 > 2000] = 0"
   ]
  },
  {
   "cell_type": "code",
   "execution_count": null,
   "metadata": {},
   "outputs": [],
   "source": [
    "# neigh = tops2.shift(1)\n",
    "logged = tops2.apply(\n",
    "    np.log\n",
    ")  # creating the same features that we built in the training data\n",
    "powered = tops2.apply(\n",
    "    lambda x: x ** 10\n",
    ")  # creating the same features that we built in the training data\n",
    "tops3 = (\n",
    "    pd.concat([tops2, logged, powered], axis=1, join_axes=[tops2.index])\n",
    "    .fillna(0)\n",
    "    .replace(-np.inf, 0)\n",
    ")\n",
    "tops3[\"x\"] = tops_api.x\n",
    "tops3[\"y\"] = tops_api.y"
   ]
  },
  {
   "cell_type": "code",
   "execution_count": null,
   "metadata": {},
   "outputs": [],
   "source": [
    "normalized_tops3 = (tops3 - tops3.min()) / (tops3.max() - tops3.min()).replace(\n",
    "    0, 0.00001\n",
    ")  # normalize the data from 0 to 1\n",
    "real_data = normalized_tops3.values"
   ]
  },
  {
   "cell_type": "code",
   "execution_count": null,
   "metadata": {},
   "outputs": [],
   "source": [
    "normalized_dfo.columns.shape"
   ]
  },
  {
   "cell_type": "code",
   "execution_count": null,
   "metadata": {},
   "outputs": [],
   "source": [
    "tops3.columns.shape"
   ]
  },
  {
   "cell_type": "code",
   "execution_count": 41,
   "metadata": {},
   "outputs": [
    {
     "ename": "ValueError",
     "evalue": "Error when checking input: expected dense_1_input to have shape (92,) but got array with shape (90,)",
     "output_type": "error",
     "traceback": [
      "\u001b[1;31m---------------------------------------------------------------------------\u001b[0m",
      "\u001b[1;31mValueError\u001b[0m                                Traceback (most recent call last)",
      "\u001b[1;32m<ipython-input-41-3169dd382893>\u001b[0m in \u001b[0;36m<module>\u001b[1;34m()\u001b[0m\n\u001b[1;32m----> 1\u001b[1;33m \u001b[0mwell_preds\u001b[0m \u001b[1;33m=\u001b[0m \u001b[0mmodel\u001b[0m\u001b[1;33m.\u001b[0m\u001b[0mpredict\u001b[0m\u001b[1;33m(\u001b[0m\u001b[0mreal_data\u001b[0m\u001b[1;33m)\u001b[0m \u001b[1;31m#make some predictions\u001b[0m\u001b[1;33m\u001b[0m\u001b[0m\n\u001b[0m",
      "\u001b[1;32m~\\AppData\\Local\\Continuum\\anaconda3\\lib\\site-packages\\keras\\engine\\training.py\u001b[0m in \u001b[0;36mpredict\u001b[1;34m(self, x, batch_size, verbose, steps)\u001b[0m\n\u001b[0;32m   1147\u001b[0m                              'argument.')\n\u001b[0;32m   1148\u001b[0m         \u001b[1;31m# Validate user data.\u001b[0m\u001b[1;33m\u001b[0m\u001b[1;33m\u001b[0m\u001b[0m\n\u001b[1;32m-> 1149\u001b[1;33m         \u001b[0mx\u001b[0m\u001b[1;33m,\u001b[0m \u001b[0m_\u001b[0m\u001b[1;33m,\u001b[0m \u001b[0m_\u001b[0m \u001b[1;33m=\u001b[0m \u001b[0mself\u001b[0m\u001b[1;33m.\u001b[0m\u001b[0m_standardize_user_data\u001b[0m\u001b[1;33m(\u001b[0m\u001b[0mx\u001b[0m\u001b[1;33m)\u001b[0m\u001b[1;33m\u001b[0m\u001b[0m\n\u001b[0m\u001b[0;32m   1150\u001b[0m         \u001b[1;32mif\u001b[0m \u001b[0mself\u001b[0m\u001b[1;33m.\u001b[0m\u001b[0mstateful\u001b[0m\u001b[1;33m:\u001b[0m\u001b[1;33m\u001b[0m\u001b[0m\n\u001b[0;32m   1151\u001b[0m             \u001b[1;32mif\u001b[0m \u001b[0mx\u001b[0m\u001b[1;33m[\u001b[0m\u001b[1;36m0\u001b[0m\u001b[1;33m]\u001b[0m\u001b[1;33m.\u001b[0m\u001b[0mshape\u001b[0m\u001b[1;33m[\u001b[0m\u001b[1;36m0\u001b[0m\u001b[1;33m]\u001b[0m \u001b[1;33m>\u001b[0m \u001b[0mbatch_size\u001b[0m \u001b[1;32mand\u001b[0m \u001b[0mx\u001b[0m\u001b[1;33m[\u001b[0m\u001b[1;36m0\u001b[0m\u001b[1;33m]\u001b[0m\u001b[1;33m.\u001b[0m\u001b[0mshape\u001b[0m\u001b[1;33m[\u001b[0m\u001b[1;36m0\u001b[0m\u001b[1;33m]\u001b[0m \u001b[1;33m%\u001b[0m \u001b[0mbatch_size\u001b[0m \u001b[1;33m!=\u001b[0m \u001b[1;36m0\u001b[0m\u001b[1;33m:\u001b[0m\u001b[1;33m\u001b[0m\u001b[0m\n",
      "\u001b[1;32m~\\AppData\\Local\\Continuum\\anaconda3\\lib\\site-packages\\keras\\engine\\training.py\u001b[0m in \u001b[0;36m_standardize_user_data\u001b[1;34m(self, x, y, sample_weight, class_weight, check_array_lengths, batch_size)\u001b[0m\n\u001b[0;32m    749\u001b[0m             \u001b[0mfeed_input_shapes\u001b[0m\u001b[1;33m,\u001b[0m\u001b[1;33m\u001b[0m\u001b[0m\n\u001b[0;32m    750\u001b[0m             \u001b[0mcheck_batch_axis\u001b[0m\u001b[1;33m=\u001b[0m\u001b[1;32mFalse\u001b[0m\u001b[1;33m,\u001b[0m  \u001b[1;31m# Don't enforce the batch size.\u001b[0m\u001b[1;33m\u001b[0m\u001b[0m\n\u001b[1;32m--> 751\u001b[1;33m             exception_prefix='input')\n\u001b[0m\u001b[0;32m    752\u001b[0m \u001b[1;33m\u001b[0m\u001b[0m\n\u001b[0;32m    753\u001b[0m         \u001b[1;32mif\u001b[0m \u001b[0my\u001b[0m \u001b[1;32mis\u001b[0m \u001b[1;32mnot\u001b[0m \u001b[1;32mNone\u001b[0m\u001b[1;33m:\u001b[0m\u001b[1;33m\u001b[0m\u001b[0m\n",
      "\u001b[1;32m~\\AppData\\Local\\Continuum\\anaconda3\\lib\\site-packages\\keras\\engine\\training_utils.py\u001b[0m in \u001b[0;36mstandardize_input_data\u001b[1;34m(data, names, shapes, check_batch_axis, exception_prefix)\u001b[0m\n\u001b[0;32m    136\u001b[0m                             \u001b[1;34m': expected '\u001b[0m \u001b[1;33m+\u001b[0m \u001b[0mnames\u001b[0m\u001b[1;33m[\u001b[0m\u001b[0mi\u001b[0m\u001b[1;33m]\u001b[0m \u001b[1;33m+\u001b[0m \u001b[1;34m' to have shape '\u001b[0m \u001b[1;33m+\u001b[0m\u001b[1;33m\u001b[0m\u001b[0m\n\u001b[0;32m    137\u001b[0m                             \u001b[0mstr\u001b[0m\u001b[1;33m(\u001b[0m\u001b[0mshape\u001b[0m\u001b[1;33m)\u001b[0m \u001b[1;33m+\u001b[0m \u001b[1;34m' but got array with shape '\u001b[0m \u001b[1;33m+\u001b[0m\u001b[1;33m\u001b[0m\u001b[0m\n\u001b[1;32m--> 138\u001b[1;33m                             str(data_shape))\n\u001b[0m\u001b[0;32m    139\u001b[0m     \u001b[1;32mreturn\u001b[0m \u001b[0mdata\u001b[0m\u001b[1;33m\u001b[0m\u001b[0m\n\u001b[0;32m    140\u001b[0m \u001b[1;33m\u001b[0m\u001b[0m\n",
      "\u001b[1;31mValueError\u001b[0m: Error when checking input: expected dense_1_input to have shape (92,) but got array with shape (90,)"
     ]
    }
   ],
   "source": [
    "well_preds = model.predict(real_data)  # make some predictions"
   ]
  },
  {
   "cell_type": "code",
   "execution_count": null,
   "metadata": {},
   "outputs": [],
   "source": [
    "predictions = np.argmax(\n",
    "    well_preds, axis=1\n",
    ")  # convert them to our binary classification"
   ]
  },
  {
   "cell_type": "code",
   "execution_count": null,
   "metadata": {},
   "outputs": [],
   "source": [
    "plt.hist(\n",
    "    predictions, label=[\"Angular Unconformity\", \"Onlap\"]\n",
    ")  # visualize the predictions as a histogram, we are expecting all the wells to be classified as '0'"
   ]
  },
  {
   "cell_type": "code",
   "execution_count": 20,
   "metadata": {},
   "outputs": [],
   "source": [
    "tops_api[\"predictions\"] = predictions"
   ]
  },
  {
   "cell_type": "code",
   "execution_count": 21,
   "metadata": {},
   "outputs": [],
   "source": [
    "well_locs = pd.read_csv(\n",
    "    r\"D:\\jupyter\\EarlyWSGS\\well_locations.csv\", encoding=\"ISO-8859-1\"\n",
    ")"
   ]
  },
  {
   "cell_type": "code",
   "execution_count": 22,
   "metadata": {},
   "outputs": [],
   "source": [
    "merged = pd.merge(tops_api, well_locs, on=\"API\")"
   ]
  },
  {
   "cell_type": "code",
   "execution_count": 23,
   "metadata": {},
   "outputs": [
    {
     "data": {
      "text/plain": [
       "<matplotlib.legend.Legend at 0x1de70502f98>"
      ]
     },
     "execution_count": 23,
     "metadata": {},
     "output_type": "execute_result"
    },
    {
     "data": {
      "image/png": "[encoded data removed]",
      "text/plain": [
       "<Figure size 432x288 with 1 Axes>"
      ]
     },
     "metadata": {},
     "output_type": "display_data"
    }
   ],
   "source": [
    "plt.scatter(\n",
    "    merged[merged[\"predictions\"] == 0].LON,\n",
    "    merged[merged[\"predictions\"] == 0].LAT,\n",
    "    label=\"Angular Unconformity\",\n",
    ")\n",
    "plt.scatter(\n",
    "    merged[merged[\"predictions\"] == 1].LON,\n",
    "    merged[merged[\"predictions\"] == 1].LAT,\n",
    "    label=\"Onlap\",\n",
    ")\n",
    "plt.scatter(\n",
    "    merged[merged[\"predictions\"] == 2].LON,\n",
    "    merged[merged[\"predictions\"] == 2].LAT,\n",
    "    label=\"Horizontally Stratified\",\n",
    ")\n",
    "plt.legend(loc=\"center left\", bbox_to_anchor=(1, 0.5))"
   ]
  },
  {
   "cell_type": "code",
   "execution_count": null,
   "metadata": {},
   "outputs": [],
   "source": []
  },
  {
   "cell_type": "code",
   "execution_count": null,
   "metadata": {},
   "outputs": [],
   "source": []
  }
 ],
 "metadata": {
  "kernelspec": {
   "display_name": "Python 3",
   "language": "python",
   "name": "python3"
  },
  "language_info": {
   "codemirror_mode": {
    "name": "ipython",
    "version": 3
   },
   "file_extension": ".py",
   "mimetype": "text/x-python",
   "name": "python",
   "nbconvert_exporter": "python",
   "pygments_lexer": "ipython3",
   "version": "3.6.7"
  }
 },
 "nbformat": 4,
 "nbformat_minor": 4
}
