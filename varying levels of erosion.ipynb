{
 "cells": [
  {
   "cell_type": "code",
   "execution_count": 1,
   "metadata": {},
   "outputs": [],
   "source": [
    "import pandas as pd\n",
    "import numpy as np\n",
    "import matplotlib.pyplot as plt\n",
    "import seaborn as sns\n",
    "%matplotlib inline"
   ]
  },
  {
   "cell_type": "code",
   "execution_count": 2,
   "metadata": {},
   "outputs": [],
   "source": [
    "names = ['one', 'two', 'three', 'four', 'five', 'six', 'seven', 'eight', 'nine', 'ten', 'eleven',\n",
    "         'twelve', 'thirteen', 'fourteen', 'fifteen', 'sixteen']\n",
    "number_of_layers = 12 #np.random.randint(0,15)\n",
    "neighbors = np.random.randint(1,200)\n",
    "df =  pd.DataFrame()\n",
    "    \n",
    "for j in np.arange(3, 5.5,0.1):\n",
    "    rolling = pd.DataFrame()\n",
    "    rolling['zero'] = 3*np.sin(np.arange(0,20,0.1)/6.28)\n",
    "    for i in range(len(names[0:number_of_layers])):\n",
    "        layer_elevation = 3*np.sin(np.arange(0,20,0.1)/6.28)+np.random.uniform(0,i)\n",
    "        elevation = np.full(200, j)\n",
    "        layer_elevation = np.where(layer_elevation > elevation, elevation, layer_elevation)\n",
    "        rolling[names[i]] = layer_elevation\n",
    "    df = pd.concat((df, rolling))\n",
    "angular_thicknesses = df.T.diff(axis=0).abs().T\n",
    "neigh = angular_thicknesses.shift(neighbors)\n",
    "logged = angular_thicknesses.apply(np.log)\n",
    "powered= angular_thicknesses.apply(lambda x: x**10)\n",
    "angular_thicknesses = pd.concat([angular_thicknesses, neigh, logged, powered], axis=1, join_axes=[angular_thicknesses.index]\n",
    "                               ).drop(columns=['zero']).dropna().replace(-np.inf, 0)\n",
    "\n",
    "#now for onlap section\n",
    "df_onlap =  pd.DataFrame()\n",
    "    \n",
    "for j in np.arange(3, 5.5,0.1):\n",
    "    rolling = pd.DataFrame()\n",
    "    rolling['zero'] = 3*np.sin(np.arange(0,20,0.1)/6.28)\n",
    "    for i in range(len(names[0:number_of_layers])):\n",
    "        zero = 3*np.sin(np.arange(0,20,0.1)/6.28)\n",
    "        randomness = np.random.uniform(0,i)\n",
    "        elevation = np.full(200, j)\n",
    "        onlap = np.where(np.full(200,randomness) > zero, np.full(200,randomness), zero)\n",
    "        layer_elevation = np.where( onlap > elevation, elevation,  onlap)\n",
    "        rolling[names[i]] = layer_elevation\n",
    "    df_onlap = pd.concat((df, rolling))\n",
    "onlap_thicknesses = df_onlap.T.diff(axis=0).abs().T\n",
    "neigh = onlap_thicknesses.shift(neighbors)\n",
    "logged = onlap_thicknesses.apply(np.log)\n",
    "powered= onlap_thicknesses.apply(lambda x: x**10)\n",
    "onlap_thicknesses = pd.concat([onlap_thicknesses, neigh, logged, powered], axis=1, join_axes=[onlap_thicknesses.index]\n",
    "                               ).drop(columns=['zero']).dropna().replace(-np.inf, 0)\n",
    "\n",
    "#now for horizontal stratification\n",
    "\n",
    "df_horizontal =  pd.DataFrame()\n",
    "    \n",
    "for j in np.arange(3, 5.5,0.1):\n",
    "    rolling = pd.DataFrame()\n",
    "    rolling['zero'] = np.full(200, 0)-np.random.rand(200)/10\n",
    "    for i in range(len(names[0:number_of_layers])):\n",
    "        randomness = np.random.uniform(0,i)\n",
    "        rolling[names[i]] = np.full(200, randomness)+np.random.rand(200)/100\n",
    "    df_horizontal = pd.concat((df, rolling))\n",
    "horizontal_thicknesses = df_horizontal.T.diff(axis=0).abs().T\n",
    "neigh = horizontal_thicknesses.shift(neighbors)\n",
    "logged = horizontal_thicknesses.apply(np.log)\n",
    "powered= horizontal_thicknesses.apply(lambda x: x**10)\n",
    "\n",
    "horizontal_thicknesses = pd.concat([horizontal_thicknesses, neigh, logged, powered], axis=1, join_axes=[horizontal_thicknesses.index]\n",
    "                               ).drop(columns=['zero']).dropna().replace(-np.inf, 0)\n",
    "\n",
    "#normalize the data\n",
    "normalized_df=(angular_thicknesses-angular_thicknesses.min())/(angular_thicknesses.max()-angular_thicknesses.min()).replace(0,0.00001)\n",
    "normalized_dfo=(onlap_thicknesses-onlap_thicknesses.min())/(onlap_thicknesses.max()-onlap_thicknesses.min()).replace(0,0.00001)\n",
    "normalized_dfh=(horizontal_thicknesses-horizontal_thicknesses.min())/(horizontal_thicknesses.max()-horizontal_thicknesses.min()).replace(0,0.00001)\n",
    "normalized_dfo['class'] = 1\n",
    "normalized_df['class'] = 0\n",
    "normalized_dfh['class'] = 2\n",
    "\n",
    "#merge into new dataset\n",
    "dataset = pd.concat((normalized_df, normalized_dfo, normalized_dfh))\n"
   ]
  },
  {
   "cell_type": "code",
   "execution_count": 3,
   "metadata": {},
   "outputs": [
    {
     "data": {
      "text/plain": [
       "Index(['one', 'two', 'three', 'four', 'five', 'six', 'seven', 'eight', 'nine',\n",
       "       'ten', 'eleven', 'twelve', 'one', 'two', 'three', 'four', 'five', 'six',\n",
       "       'seven', 'eight', 'nine', 'ten', 'eleven', 'twelve', 'one', 'two',\n",
       "       'three', 'four', 'five', 'six', 'seven', 'eight', 'nine', 'ten',\n",
       "       'eleven', 'twelve', 'one', 'two', 'three', 'four', 'five', 'six',\n",
       "       'seven', 'eight', 'nine', 'ten', 'eleven', 'twelve', 'class'],\n",
       "      dtype='object')"
      ]
     },
     "execution_count": 3,
     "metadata": {},
     "output_type": "execute_result"
    }
   ],
   "source": [
    "dataset.columns"
   ]
  },
  {
   "cell_type": "code",
   "execution_count": 4,
   "metadata": {},
   "outputs": [],
   "source": [
    "from sklearn.model_selection import train_test_split\n",
    "\n",
    "X_train, X_test, y_train, y_test = train_test_split(dataset.iloc[0:, 0:-1].values, dataset.iloc[0:,-1].values, test_size=0.4, random_state=86)\n",
    "#X_train_rand, X_test_rand, y_train_rand, y_test_rand =train_test_split(randomData[0:,0:7], randomData[0:,7], test_size=0.2, random_state=86)"
   ]
  },
  {
   "cell_type": "code",
   "execution_count": 5,
   "metadata": {},
   "outputs": [
    {
     "name": "stderr",
     "output_type": "stream",
     "text": [
      "C:\\Users\\jesse.pisel\\AppData\\Local\\Continuum\\anaconda3\\lib\\site-packages\\h5py\\__init__.py:36: FutureWarning: Conversion of the second argument of issubdtype from `float` to `np.floating` is deprecated. In future, it will be treated as `np.float64 == np.dtype(float).type`.\n",
      "  from ._conv import register_converters as _register_converters\n",
      "Using TensorFlow backend.\n"
     ]
    }
   ],
   "source": [
    "from keras.utils import to_categorical\n",
    "y_train_encoded = to_categorical(y_train)\n",
    "y_test_encoded = to_categorical(y_test)\n",
    "\n",
    "y_train_rand_encoded = to_categorical(np.random.randint(0,3, 11357))\n",
    "y_test_rand_encoded = to_categorical(np.random.randint(0,3, 2840))"
   ]
  },
  {
   "cell_type": "code",
   "execution_count": 6,
   "metadata": {},
   "outputs": [],
   "source": [
    "from keras.models import Sequential\n",
    "from keras.layers import Dense, Activation, Dropout, Conv1D"
   ]
  },
  {
   "cell_type": "code",
   "execution_count": 7,
   "metadata": {},
   "outputs": [],
   "source": [
    "model = Sequential()\n",
    "model.add(Dense(100, input_shape=(X_train.shape[1],), activation='relu'))\n",
    "model.add(Dropout(0.5))\n",
    "model.add(Dense(3, kernel_initializer='random_uniform', activation='sigmoid'))"
   ]
  },
  {
   "cell_type": "code",
   "execution_count": null,
   "metadata": {},
   "outputs": [],
   "source": [
    "model.compile(loss='categorical_crossentropy', optimizer='nadam', metrics=['categorical_accuracy'])"
   ]
  },
  {
   "cell_type": "code",
   "execution_count": null,
   "metadata": {},
   "outputs": [
    {
     "name": "stdout",
     "output_type": "stream",
     "text": [
      "Epoch 1/100\n",
      "9150/9150 [==============================] - 1s 66us/step - loss: 0.6629 - categorical_accuracy: 0.6385\n",
      "Epoch 2/100\n",
      "9150/9150 [==============================] - 0s 41us/step - loss: 0.4744 - categorical_accuracy: 0.6749\n",
      "Epoch 3/100\n",
      "9150/9150 [==============================] - 0s 39us/step - loss: 0.4670 - categorical_accuracy: 0.6743\n",
      "Epoch 4/100\n",
      "9150/9150 [==============================] - 0s 38us/step - loss: 0.4621 - categorical_accuracy: 0.6756\n",
      "Epoch 5/100\n",
      "9150/9150 [==============================] - 0s 36us/step - loss: 0.4583 - categorical_accuracy: 0.6813\n",
      "Epoch 6/100\n",
      "9150/9150 [==============================] - 0s 36us/step - loss: 0.4563 - categorical_accuracy: 0.6819\n",
      "Epoch 7/100\n",
      "9150/9150 [==============================] - 0s 34us/step - loss: 0.4545 - categorical_accuracy: 0.6799\n",
      "Epoch 8/100\n",
      "9150/9150 [==============================] - 0s 32us/step - loss: 0.4533 - categorical_accuracy: 0.6836\n",
      "Epoch 9/100\n",
      "9150/9150 [==============================] - 0s 33us/step - loss: 0.4532 - categorical_accuracy: 0.6772\n",
      "Epoch 10/100\n",
      "9150/9150 [==============================] - 0s 36us/step - loss: 0.4526 - categorical_accuracy: 0.6744\n",
      "Epoch 11/100\n",
      "9150/9150 [==============================] - 0s 32us/step - loss: 0.4510 - categorical_accuracy: 0.6833\n",
      "Epoch 12/100\n",
      "9150/9150 [==============================] - 0s 33us/step - loss: 0.4502 - categorical_accuracy: 0.6854\n",
      "Epoch 13/100\n",
      "9150/9150 [==============================] - 0s 33us/step - loss: 0.4500 - categorical_accuracy: 0.6866\n",
      "Epoch 14/100\n",
      "9150/9150 [==============================] - 0s 33us/step - loss: 0.4505 - categorical_accuracy: 0.6880\n",
      "Epoch 15/100\n",
      "9150/9150 [==============================] - 0s 33us/step - loss: 0.4493 - categorical_accuracy: 0.6875\n",
      "Epoch 16/100\n",
      "9150/9150 [==============================] - 0s 34us/step - loss: 0.4488 - categorical_accuracy: 0.6889\n",
      "Epoch 17/100\n",
      "9150/9150 [==============================] - 0s 33us/step - loss: 0.4483 - categorical_accuracy: 0.6895\n",
      "Epoch 18/100\n",
      "9150/9150 [==============================] - 0s 33us/step - loss: 0.4480 - categorical_accuracy: 0.6910\n",
      "Epoch 19/100\n",
      "9150/9150 [==============================] - 0s 33us/step - loss: 0.4483 - categorical_accuracy: 0.6917\n",
      "Epoch 20/100\n",
      "9150/9150 [==============================] - 0s 33us/step - loss: 0.4477 - categorical_accuracy: 0.6863\n",
      "Epoch 21/100\n",
      "9150/9150 [==============================] - 0s 33us/step - loss: 0.4472 - categorical_accuracy: 0.6942\n",
      "Epoch 22/100\n",
      "9150/9150 [==============================] - 0s 33us/step - loss: 0.4472 - categorical_accuracy: 0.6855\n",
      "Epoch 23/100\n",
      "9150/9150 [==============================] - 0s 33us/step - loss: 0.4472 - categorical_accuracy: 0.6867\n",
      "Epoch 24/100\n",
      "9150/9150 [==============================] - 0s 33us/step - loss: 0.4471 - categorical_accuracy: 0.6893\n",
      "Epoch 25/100\n",
      "9150/9150 [==============================] - 0s 33us/step - loss: 0.4469 - categorical_accuracy: 0.6864\n",
      "Epoch 26/100\n",
      "9150/9150 [==============================] - 0s 33us/step - loss: 0.4483 - categorical_accuracy: 0.6878\n",
      "Epoch 27/100\n",
      "9150/9150 [==============================] - 0s 35us/step - loss: 0.4468 - categorical_accuracy: 0.6883\n",
      "Epoch 28/100\n",
      "9150/9150 [==============================] - 0s 33us/step - loss: 0.4457 - categorical_accuracy: 0.6897\n",
      "Epoch 29/100\n",
      "9150/9150 [==============================] - 0s 33us/step - loss: 0.4459 - categorical_accuracy: 0.6918\n",
      "Epoch 30/100\n",
      "9150/9150 [==============================] - 0s 33us/step - loss: 0.4462 - categorical_accuracy: 0.6878\n",
      "Epoch 31/100\n",
      "9150/9150 [==============================] - 0s 33us/step - loss: 0.4462 - categorical_accuracy: 0.6918\n",
      "Epoch 32/100\n",
      "9150/9150 [==============================] - 0s 33us/step - loss: 0.4468 - categorical_accuracy: 0.6945\n",
      "Epoch 33/100\n",
      "9150/9150 [==============================] - 0s 33us/step - loss: 0.4466 - categorical_accuracy: 0.6883\n",
      "Epoch 34/100\n",
      "9150/9150 [==============================] - 0s 33us/step - loss: 0.4466 - categorical_accuracy: 0.6946\n",
      "Epoch 35/100\n",
      "9150/9150 [==============================] - 0s 33us/step - loss: 0.4453 - categorical_accuracy: 0.6908\n",
      "Epoch 36/100\n",
      "9150/9150 [==============================] - 0s 34us/step - loss: 0.4447 - categorical_accuracy: 0.6891\n",
      "Epoch 37/100\n",
      "9150/9150 [==============================] - 0s 33us/step - loss: 0.4457 - categorical_accuracy: 0.6917\n",
      "Epoch 38/100\n",
      "9150/9150 [==============================] - 0s 33us/step - loss: 0.4452 - categorical_accuracy: 0.6884\n",
      "Epoch 39/100\n",
      "9150/9150 [==============================] - 0s 33us/step - loss: 0.4453 - categorical_accuracy: 0.6920\n",
      "Epoch 40/100\n",
      "9150/9150 [==============================] - 0s 33us/step - loss: 0.4455 - categorical_accuracy: 0.6918\n",
      "Epoch 41/100\n",
      "9150/9150 [==============================] - 0s 33us/step - loss: 0.4450 - categorical_accuracy: 0.6966\n",
      "Epoch 42/100\n",
      "9150/9150 [==============================] - 0s 33us/step - loss: 0.4463 - categorical_accuracy: 0.6933\n",
      "Epoch 43/100\n",
      "9150/9150 [==============================] - 0s 33us/step - loss: 0.4439 - categorical_accuracy: 0.6920\n",
      "Epoch 44/100\n",
      "9150/9150 [==============================] - 0s 33us/step - loss: 0.4441 - categorical_accuracy: 0.6934\n",
      "Epoch 45/100\n",
      "9150/9150 [==============================] - 0s 33us/step - loss: 0.4442 - categorical_accuracy: 0.6931\n",
      "Epoch 46/100\n",
      "9150/9150 [==============================] - 0s 33us/step - loss: 0.4442 - categorical_accuracy: 0.6950\n",
      "Epoch 47/100\n",
      "9150/9150 [==============================] - 0s 33us/step - loss: 0.4440 - categorical_accuracy: 0.6951\n",
      "Epoch 48/100\n",
      "9150/9150 [==============================] - 0s 33us/step - loss: 0.4465 - categorical_accuracy: 0.6922\n",
      "Epoch 49/100\n",
      "9150/9150 [==============================] - 0s 33us/step - loss: 0.4432 - categorical_accuracy: 0.6938\n",
      "Epoch 50/100\n",
      "9150/9150 [==============================] - 0s 33us/step - loss: 0.4437 - categorical_accuracy: 0.6927\n",
      "Epoch 51/100\n",
      "9150/9150 [==============================] - 0s 33us/step - loss: 0.4446 - categorical_accuracy: 0.6950\n",
      "Epoch 52/100\n",
      "9150/9150 [==============================] - 0s 33us/step - loss: 0.4428 - categorical_accuracy: 0.6929\n",
      "Epoch 53/100\n",
      "9150/9150 [==============================] - 0s 33us/step - loss: 0.4439 - categorical_accuracy: 0.6937\n",
      "Epoch 54/100\n",
      "9150/9150 [==============================] - 0s 33us/step - loss: 0.4434 - categorical_accuracy: 0.6964\n",
      "Epoch 55/100\n",
      "9150/9150 [==============================] - 0s 34us/step - loss: 0.4425 - categorical_accuracy: 0.6974\n",
      "Epoch 56/100\n",
      "9150/9150 [==============================] - 0s 33us/step - loss: 0.4447 - categorical_accuracy: 0.6898\n",
      "Epoch 57/100\n",
      "9150/9150 [==============================] - 0s 33us/step - loss: 0.4440 - categorical_accuracy: 0.6926\n",
      "Epoch 58/100\n",
      "9150/9150 [==============================] - 0s 33us/step - loss: 0.4427 - categorical_accuracy: 0.6949\n",
      "Epoch 59/100\n",
      "9150/9150 [==============================] - 0s 33us/step - loss: 0.4434 - categorical_accuracy: 0.6984\n",
      "Epoch 60/100\n",
      "9150/9150 [==============================] - 0s 33us/step - loss: 0.4420 - categorical_accuracy: 0.6940\n",
      "Epoch 61/100\n",
      "9150/9150 [==============================] - 0s 33us/step - loss: 0.4434 - categorical_accuracy: 0.6932\n",
      "Epoch 62/100\n",
      "9150/9150 [==============================] - 0s 35us/step - loss: 0.4434 - categorical_accuracy: 0.6941\n",
      "Epoch 63/100\n",
      "9150/9150 [==============================] - 0s 35us/step - loss: 0.4417 - categorical_accuracy: 0.6946\n",
      "Epoch 64/100\n",
      "9150/9150 [==============================] - 0s 33us/step - loss: 0.4416 - categorical_accuracy: 0.6975\n",
      "Epoch 65/100\n",
      "9150/9150 [==============================] - 0s 33us/step - loss: 0.4409 - categorical_accuracy: 0.6989\n",
      "Epoch 66/100\n",
      "9150/9150 [==============================] - 0s 33us/step - loss: 0.4410 - categorical_accuracy: 0.7019\n",
      "Epoch 67/100\n",
      "9150/9150 [==============================] - 0s 34us/step - loss: 0.4425 - categorical_accuracy: 0.6968\n",
      "Epoch 68/100\n",
      "9150/9150 [==============================] - 0s 33us/step - loss: 0.4424 - categorical_accuracy: 0.6996\n",
      "Epoch 69/100\n",
      "7584/9150 [=======================>......] - ETA: 0s - loss: 0.4433 - categorical_accuracy: 0.6963"
     ]
    }
   ],
   "source": [
    "model.fit(X_train, y_train_encoded, epochs=100, batch_size=32)"
   ]
  },
  {
   "cell_type": "code",
   "execution_count": null,
   "metadata": {},
   "outputs": [],
   "source": [
    "score=model.evaluate(X_test, y_test_encoded)\n",
    "score"
   ]
  },
  {
   "cell_type": "code",
   "execution_count": null,
   "metadata": {},
   "outputs": [],
   "source": [
    "preds = model.predict(X_test)"
   ]
  },
  {
   "cell_type": "code",
   "execution_count": null,
   "metadata": {},
   "outputs": [],
   "source": [
    "import scikitplot as skplt\n",
    "skplt.metrics.plot_confusion_matrix(y_test, np.argmax(preds, axis=1), normalize=True)"
   ]
  },
  {
   "cell_type": "code",
   "execution_count": null,
   "metadata": {},
   "outputs": [],
   "source": [
    "tops = pd.read_csv(r'D:\\topsexport05292018.csv')"
   ]
  },
  {
   "cell_type": "code",
   "execution_count": null,
   "metadata": {},
   "outputs": [],
   "source": [
    "tops2 = tops.pivot_table('depth', 'formation', 'api').fillna(0).T\n",
    "tops2.columns"
   ]
  },
  {
   "cell_type": "code",
   "execution_count": null,
   "metadata": {},
   "outputs": [],
   "source": [
    "tops2 = tops2[['MUDDY', 'MOWRY', 'BELLE_FOURCHE', 'GREENHORN',  'NIOBRARA', 'PARKMAN_BASE', 'PARKMAN_TOP',\n",
    "               'TECKLA_BASE', 'TECKLA_TOP','TEAPOT_BASE', 'TEAPOT_TOP', 'PIERRE', 'FOX_HILLS' ]]"
   ]
  },
  {
   "cell_type": "code",
   "execution_count": null,
   "metadata": {},
   "outputs": [],
   "source": [
    "tops3 = tops2.diff(axis=1).abs().drop(columns=['MUDDY']).dropna()"
   ]
  },
  {
   "cell_type": "code",
   "execution_count": null,
   "metadata": {},
   "outputs": [],
   "source": [
    "neigh = tops3.shift(10)\n",
    "logged = tops3.apply(np.log)\n",
    "powered= tops3.apply(lambda x: x**10)\n",
    "tops3 = pd.concat([tops3, neigh, logged, powered], axis=1, join_axes=[tops3.index]\n",
    "                               ).dropna().replace(-np.inf, 0)"
   ]
  },
  {
   "cell_type": "code",
   "execution_count": null,
   "metadata": {},
   "outputs": [],
   "source": [
    "normalized_tops3=(tops3-tops3.min())/(tops3.max()-tops3.min()).replace(0,0.00001)\n",
    "real_data = normalized_tops3.values"
   ]
  },
  {
   "cell_type": "code",
   "execution_count": null,
   "metadata": {},
   "outputs": [],
   "source": [
    "well_preds = model.predict(real_data)"
   ]
  },
  {
   "cell_type": "code",
   "execution_count": null,
   "metadata": {},
   "outputs": [],
   "source": [
    "predictions = np.argmax(well_preds, axis=1)"
   ]
  },
  {
   "cell_type": "code",
   "execution_count": null,
   "metadata": {},
   "outputs": [],
   "source": [
    "plt.hist(predictions)"
   ]
  },
  {
   "cell_type": "code",
   "execution_count": null,
   "metadata": {},
   "outputs": [],
   "source": []
  }
 ],
 "metadata": {
  "kernelspec": {
   "display_name": "Python 3",
   "language": "python",
   "name": "python3"
  },
  "language_info": {
   "codemirror_mode": {
    "name": "ipython",
    "version": 3
   },
   "file_extension": ".py",
   "mimetype": "text/x-python",
   "name": "python",
   "nbconvert_exporter": "python",
   "pygments_lexer": "ipython3",
   "version": "3.6.4"
  }
 },
 "nbformat": 4,
 "nbformat_minor": 2
}
