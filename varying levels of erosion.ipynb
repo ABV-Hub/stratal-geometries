{
 "cells": [
  {
   "cell_type": "code",
   "execution_count": 1,
   "metadata": {},
   "outputs": [],
   "source": [
    "import pandas as pd\n",
    "import numpy as np\n",
    "import matplotlib.pyplot as plt\n",
    "import seaborn as sns\n",
    "%matplotlib inline"
   ]
  },
  {
   "cell_type": "code",
   "execution_count": 2,
   "metadata": {},
   "outputs": [],
   "source": [
    "df =  pd.DataFrame()\n",
    "\n",
    "for i in np.arange(0.75, 3,0.1):\n",
    "    first = 3*np.sin(np.arange(0,20,0.1)/6.28) \n",
    "    second = 3*np.sin(np.arange(0,20,0.1)/6.28)+0.5 \n",
    "    third = 3*np.sin(np.arange(0,20,0.1)/6.28)+0.65 \n",
    "\n",
    "    rolling = pd.DataFrame()\n",
    "    elevation = np.full(200, i) #+np.random.rand(200)/100\n",
    "    first = np.where(first > elevation, elevation, first)\n",
    "    second = np.where(second > elevation, elevation, second)\n",
    "    third = np.where(third > elevation, elevation, third)\n",
    "\n",
    "    rolling['elevation'] = elevation\n",
    "    rolling['third'] = third\n",
    "    rolling['second'] = second\n",
    "    rolling['firsts'] = first\n",
    "    df = pd.concat((df, rolling))"
   ]
  },
  {
   "cell_type": "code",
   "execution_count": 3,
   "metadata": {},
   "outputs": [],
   "source": [
    "angular_thicknesses = df.T.diff(axis=0).abs().T\n",
    "angular_thicknesses['mean'] = angular_thicknesses.copy().mean(axis=1)\n",
    "angular_thicknesses['third_lag'] = angular_thicknesses.third.shift(np.random.randint(5))\n",
    "angular_thicknesses['second_lag'] = angular_thicknesses.second.shift(np.random.randint(5))\n",
    "angular_thicknesses['first_lag'] =angular_thicknesses.firsts.shift(np.random.randint(5))\n",
    "\n",
    "angular_thicknesses = angular_thicknesses.drop(columns=['elevation']).dropna()\n"
   ]
  },
  {
   "cell_type": "code",
   "execution_count": 4,
   "metadata": {},
   "outputs": [],
   "source": [
    "df_onlap = pd.DataFrame()\n",
    "for i in np.arange(0.75, 3, 0.1):\n",
    "    \n",
    "    elevation = np.full(200, i) #+np.random.rand(200)/100\n",
    "    onlap_first = np.where(3*np.sin(np.arange(0,20,0.1)/6.28) > elevation, elevation, 3*np.sin(np.arange(0,20,0.1)/6.28))\n",
    "    onlap_second = np.where(np.where(np.full(200,1.5) > onlap_first, np.full(200,0.5), onlap_first) > elevation, elevation, np.where(np.full(200,0.5) > onlap_first, np.full(200,0.5), onlap_first))\n",
    "    onlap_third = np.where(np.where(np.full(200,1.65) > onlap_first, np.full(200,0.65), onlap_first) > elevation, elevation, np.where(np.full(200,0.65) > onlap_first, np.full(200,0.65), onlap_first))\n",
    "    rolling_onlap = pd.DataFrame()\n",
    "    rolling_onlap['elevation'] = elevation\n",
    "    rolling_onlap['third'] = onlap_third\n",
    "    rolling_onlap['second'] = onlap_second\n",
    "    rolling_onlap['firsts'] = onlap_first\n",
    "    df_onlap = pd.concat((df, rolling_onlap))\n"
   ]
  },
  {
   "cell_type": "code",
   "execution_count": 5,
   "metadata": {},
   "outputs": [],
   "source": [
    "onlap_thicknesses = df_onlap.T.diff(axis=0).abs().T\n",
    "onlap_thicknesses['mean'] = onlap_thicknesses.copy().mean(axis=1)\n",
    "onlap_thicknesses['third_lag'] = onlap_thicknesses.third.shift(np.random.randint(5))\n",
    "onlap_thicknesses['second_lag'] = onlap_thicknesses.second.shift(np.random.randint(5))\n",
    "onlap_thicknesses['first_lag'] =onlap_thicknesses.firsts.shift(np.random.randint(5))\n",
    "\n",
    "onlap_thicknesses = onlap_thicknesses.drop(columns=['elevation']).dropna()\n"
   ]
  },
  {
   "cell_type": "code",
   "execution_count": 6,
   "metadata": {},
   "outputs": [],
   "source": [
    "\n",
    "df_horizontal = pd.DataFrame()\n",
    "\n",
    "for i in np.arange(0.75, 3, 0.1):\n",
    "    horizontal_first = np.full(200, 0)+np.random.rand(200)/10\n",
    "    horizontal_second = np.full(200, 1.5)+np.random.rand(200)/10\n",
    "    horizontal_third = np.full(200,1.65)+np.random.rand(200)/10\n",
    "\n",
    "    rolling_horiz =  pd.DataFrame()\n",
    "    rolling_horiz['elevation'] = elevation\n",
    "    rolling_horiz['third'] = horizontal_third\n",
    "    rolling_horiz['second'] = horizontal_second\n",
    "    rolling_horiz['firsts'] = horizontal_first\n",
    "    df_horiz = pd.concat((df, rolling_horiz))\n",
    "\n"
   ]
  },
  {
   "cell_type": "code",
   "execution_count": 7,
   "metadata": {},
   "outputs": [],
   "source": [
    "\n",
    "horizontal_thicknesses = df_horiz.T.diff(axis=0).abs().T\n",
    "horizontal_thicknesses['mean'] = horizontal_thicknesses.copy().mean(axis=1)\n",
    "horizontal_thicknesses['third_lag'] = horizontal_thicknesses.third.shift(3)\n",
    "horizontal_thicknesses['second_lag'] = horizontal_thicknesses.second.shift(3)\n",
    "horizontal_thicknesses['first_lag'] =horizontal_thicknesses.firsts.shift(3)\n",
    "\n",
    "horizontal_thicknesses = horizontal_thicknesses.drop(columns=['elevation']).dropna()\n"
   ]
  },
  {
   "cell_type": "code",
   "execution_count": 8,
   "metadata": {},
   "outputs": [],
   "source": [
    "normalized_df=(angular_thicknesses-angular_thicknesses.min())/(angular_thicknesses.max()-angular_thicknesses.min())\n",
    "normalized_dfo=(onlap_thicknesses-onlap_thicknesses.min())/(onlap_thicknesses.max()-onlap_thicknesses.min())\n",
    "normalized_dfh=(horizontal_thicknesses-horizontal_thicknesses.min())/(horizontal_thicknesses.max()-horizontal_thicknesses.min())\n",
    "\n",
    "normalized_dfo['class'] = 1\n",
    "normalized_df['class'] = 0\n",
    "normalized_dfh['class'] = 2"
   ]
  },
  {
   "cell_type": "code",
   "execution_count": 9,
   "metadata": {},
   "outputs": [],
   "source": [
    "dataset = pd.concat((normalized_df, normalized_dfo, normalized_dfh))"
   ]
  },
  {
   "cell_type": "code",
   "execution_count": 10,
   "metadata": {},
   "outputs": [
    {
     "data": {
      "text/plain": [
       "third         1.0\n",
       "second        1.0\n",
       "firsts        1.0\n",
       "mean          1.0\n",
       "third_lag     1.0\n",
       "second_lag    1.0\n",
       "first_lag     1.0\n",
       "class         2.0\n",
       "dtype: float64"
      ]
     },
     "execution_count": 10,
     "metadata": {},
     "output_type": "execute_result"
    }
   ],
   "source": [
    "dataset.max()"
   ]
  },
  {
   "cell_type": "code",
   "execution_count": 11,
   "metadata": {},
   "outputs": [],
   "source": [
    "from sklearn.model_selection import train_test_split\n",
    "\n",
    "X_train, X_test, y_train, y_test = train_test_split(dataset.iloc[0:,0:7].values, dataset.iloc[0:,7].values, test_size=0.1, random_state=86)"
   ]
  },
  {
   "cell_type": "code",
   "execution_count": 12,
   "metadata": {},
   "outputs": [
    {
     "name": "stderr",
     "output_type": "stream",
     "text": [
      "C:\\Users\\jesse.pisel\\AppData\\Local\\Continuum\\anaconda3\\lib\\site-packages\\h5py\\__init__.py:36: FutureWarning: Conversion of the second argument of issubdtype from `float` to `np.floating` is deprecated. In future, it will be treated as `np.float64 == np.dtype(float).type`.\n",
      "  from ._conv import register_converters as _register_converters\n",
      "Using TensorFlow backend.\n"
     ]
    }
   ],
   "source": [
    "from keras.utils import to_categorical\n",
    "y_train_encoded = to_categorical(y_train)\n",
    "y_test_encoded = to_categorical(y_test)"
   ]
  },
  {
   "cell_type": "code",
   "execution_count": 13,
   "metadata": {},
   "outputs": [],
   "source": [
    "from keras.models import Sequential\n",
    "from keras.layers import Dense, Activation, Dropout"
   ]
  },
  {
   "cell_type": "code",
   "execution_count": 14,
   "metadata": {},
   "outputs": [],
   "source": [
    "model = Sequential()\n",
    "model.add(Dense(1000, input_shape=(7,), kernel_initializer='normal', activation='relu'))\n",
    "model.add(Dropout(0.1))\n",
    "model.add(Dense(3, kernel_initializer='normal', activation='relu'))\n",
    "model.add(Dense(3, kernel_initializer='normal', activation='sigmoid'))\n",
    "\n",
    "# Compile model\n",
    "model.compile(loss='categorical_crossentropy', optimizer='adam', metrics=['acc'])"
   ]
  },
  {
   "cell_type": "code",
   "execution_count": 15,
   "metadata": {},
   "outputs": [
    {
     "name": "stdout",
     "output_type": "stream",
     "text": [
      "Epoch 1/100\n",
      "12771/12771 [==============================] - 1s 48us/step - loss: 1.0639 - acc: 0.3698\n",
      "Epoch 2/100\n",
      "12771/12771 [==============================] - 0s 31us/step - loss: 1.0007 - acc: 0.4560\n",
      "Epoch 3/100\n",
      "12771/12771 [==============================] - 0s 34us/step - loss: 0.9825 - acc: 0.4737\n",
      "Epoch 4/100\n",
      "12771/12771 [==============================] - 0s 30us/step - loss: 0.9741 - acc: 0.4745\n",
      "Epoch 5/100\n",
      "12771/12771 [==============================] - 0s 34us/step - loss: 0.9686 - acc: 0.4765\n",
      "Epoch 6/100\n",
      "12771/12771 [==============================] - 0s 31us/step - loss: 0.9646 - acc: 0.4779\n",
      "Epoch 7/100\n",
      "12771/12771 [==============================] - 0s 35us/step - loss: 0.9584 - acc: 0.4809\n",
      "Epoch 8/100\n",
      "12771/12771 [==============================] - 0s 35us/step - loss: 0.9447 - acc: 0.4854\n",
      "Epoch 9/100\n",
      "12771/12771 [==============================] - 0s 35us/step - loss: 0.9365 - acc: 0.4852\n",
      "Epoch 10/100\n",
      "12771/12771 [==============================] - 0s 35us/step - loss: 0.9271 - acc: 0.4925\n",
      "Epoch 11/100\n",
      "12771/12771 [==============================] - 0s 38us/step - loss: 0.9183 - acc: 0.4866\n",
      "Epoch 12/100\n",
      "12771/12771 [==============================] - 0s 30us/step - loss: 0.9024 - acc: 0.4966\n",
      "Epoch 13/100\n",
      "12771/12771 [==============================] - 0s 29us/step - loss: 0.8849 - acc: 0.4993\n",
      "Epoch 14/100\n",
      "12771/12771 [==============================] - 0s 29us/step - loss: 0.8704 - acc: 0.4958\n",
      "Epoch 15/100\n",
      "12771/12771 [==============================] - 0s 29us/step - loss: 0.8542 - acc: 0.4939\n",
      "Epoch 16/100\n",
      "12771/12771 [==============================] - 0s 29us/step - loss: 0.8384 - acc: 0.4827\n",
      "Epoch 17/100\n",
      "12771/12771 [==============================] - 0s 28us/step - loss: 0.8233 - acc: 0.4977\n",
      "Epoch 18/100\n",
      "12771/12771 [==============================] - 0s 25us/step - loss: 0.8137 - acc: 0.5041\n",
      "Epoch 19/100\n",
      "12771/12771 [==============================] - 0s 19us/step - loss: 0.8025 - acc: 0.4978\n",
      "Epoch 20/100\n",
      "12771/12771 [==============================] - 0s 19us/step - loss: 0.7944 - acc: 0.4841\n",
      "Epoch 21/100\n",
      "12771/12771 [==============================] - 0s 20us/step - loss: 0.7850 - acc: 0.4892\n",
      "Epoch 22/100\n",
      "12771/12771 [==============================] - 0s 19us/step - loss: 0.7803 - acc: 0.4903\n",
      "Epoch 23/100\n",
      "12771/12771 [==============================] - 0s 19us/step - loss: 0.7733 - acc: 0.4903\n",
      "Epoch 24/100\n",
      "12771/12771 [==============================] - 0s 19us/step - loss: 0.7676 - acc: 0.4953\n",
      "Epoch 25/100\n",
      "12771/12771 [==============================] - 0s 19us/step - loss: 0.7647 - acc: 0.4929\n",
      "Epoch 26/100\n",
      "12771/12771 [==============================] - 0s 20us/step - loss: 0.7610 - acc: 0.4980\n",
      "Epoch 27/100\n",
      "12771/12771 [==============================] - 0s 20us/step - loss: 0.7589 - acc: 0.4878\n",
      "Epoch 28/100\n",
      "12771/12771 [==============================] - 0s 20us/step - loss: 0.7583 - acc: 0.4931\n",
      "Epoch 29/100\n",
      "12771/12771 [==============================] - 0s 21us/step - loss: 0.7537 - acc: 0.4946\n",
      "Epoch 30/100\n",
      "12771/12771 [==============================] - 0s 24us/step - loss: 0.7498 - acc: 0.4986\n",
      "Epoch 31/100\n",
      "12771/12771 [==============================] - 0s 28us/step - loss: 0.7474 - acc: 0.4989\n",
      "Epoch 32/100\n",
      "12771/12771 [==============================] - 0s 22us/step - loss: 0.7459 - acc: 0.4968\n",
      "Epoch 33/100\n",
      "12771/12771 [==============================] - 0s 23us/step - loss: 0.7424 - acc: 0.5011\n",
      "Epoch 34/100\n",
      "12771/12771 [==============================] - 0s 23us/step - loss: 0.7411 - acc: 0.4944\n",
      "Epoch 35/100\n",
      "12771/12771 [==============================] - 0s 19us/step - loss: 0.7405 - acc: 0.4961\n",
      "Epoch 36/100\n",
      "12771/12771 [==============================] - 0s 20us/step - loss: 0.7366 - acc: 0.5046\n",
      "Epoch 37/100\n",
      "12771/12771 [==============================] - 0s 19us/step - loss: 0.7365 - acc: 0.4973\n",
      "Epoch 38/100\n",
      "12771/12771 [==============================] - 0s 19us/step - loss: 0.7353 - acc: 0.5013\n",
      "Epoch 39/100\n",
      "12771/12771 [==============================] - 0s 19us/step - loss: 0.7328 - acc: 0.5026\n",
      "Epoch 40/100\n",
      "12771/12771 [==============================] - 0s 20us/step - loss: 0.7328 - acc: 0.5119\n",
      "Epoch 41/100\n",
      "12771/12771 [==============================] - 0s 19us/step - loss: 0.7316 - acc: 0.5137\n",
      "Epoch 42/100\n",
      "12771/12771 [==============================] - 0s 19us/step - loss: 0.7309 - acc: 0.5227\n",
      "Epoch 43/100\n",
      "12771/12771 [==============================] - 0s 19us/step - loss: 0.7279 - acc: 0.5286\n",
      "Epoch 44/100\n",
      "12771/12771 [==============================] - 0s 20us/step - loss: 0.7317 - acc: 0.5355\n",
      "Epoch 45/100\n",
      "12771/12771 [==============================] - 0s 20us/step - loss: 0.7269 - acc: 0.5346\n",
      "Epoch 46/100\n",
      "12771/12771 [==============================] - 0s 20us/step - loss: 0.7264 - acc: 0.5384\n",
      "Epoch 47/100\n",
      "12771/12771 [==============================] - 0s 20us/step - loss: 0.7243 - acc: 0.5333\n",
      "Epoch 48/100\n",
      "12771/12771 [==============================] - 0s 19us/step - loss: 0.7239 - acc: 0.5418\n",
      "Epoch 49/100\n",
      "12771/12771 [==============================] - 0s 20us/step - loss: 0.7232 - acc: 0.5444\n",
      "Epoch 50/100\n",
      "12771/12771 [==============================] - 0s 19us/step - loss: 0.7215 - acc: 0.5467\n",
      "Epoch 51/100\n",
      "12771/12771 [==============================] - 0s 19us/step - loss: 0.7214 - acc: 0.5478\n",
      "Epoch 52/100\n",
      "12771/12771 [==============================] - 0s 20us/step - loss: 0.7187 - acc: 0.5639\n",
      "Epoch 53/100\n",
      "12771/12771 [==============================] - 0s 20us/step - loss: 0.7184 - acc: 0.5658\n",
      "Epoch 54/100\n",
      "12771/12771 [==============================] - 0s 20us/step - loss: 0.7163 - acc: 0.5685\n",
      "Epoch 55/100\n",
      "12771/12771 [==============================] - 0s 20us/step - loss: 0.7155 - acc: 0.5762\n",
      "Epoch 56/100\n",
      "12771/12771 [==============================] - 0s 24us/step - loss: 0.7146 - acc: 0.5819\n",
      "Epoch 57/100\n",
      "12771/12771 [==============================] - 0s 25us/step - loss: 0.7140 - acc: 0.5982\n",
      "Epoch 58/100\n",
      "12771/12771 [==============================] - 0s 20us/step - loss: 0.7011 - acc: 0.6191\n",
      "Epoch 59/100\n",
      "12771/12771 [==============================] - 0s 20us/step - loss: 0.6656 - acc: 0.6245\n",
      "Epoch 60/100\n",
      "12771/12771 [==============================] - 0s 20us/step - loss: 0.6579 - acc: 0.6250\n",
      "Epoch 61/100\n",
      "12771/12771 [==============================] - 0s 20us/step - loss: 0.6531 - acc: 0.6238\n",
      "Epoch 62/100\n",
      "12771/12771 [==============================] - 0s 19us/step - loss: 0.6485 - acc: 0.6249\n",
      "Epoch 63/100\n",
      "12771/12771 [==============================] - 0s 22us/step - loss: 0.6474 - acc: 0.6303\n",
      "Epoch 64/100\n",
      "12771/12771 [==============================] - 0s 20us/step - loss: 0.6406 - acc: 0.6331\n",
      "Epoch 65/100\n",
      "12771/12771 [==============================] - 0s 23us/step - loss: 0.6421 - acc: 0.6227\n",
      "Epoch 66/100\n",
      "12771/12771 [==============================] - 0s 26us/step - loss: 0.6395 - acc: 0.6269\n",
      "Epoch 67/100\n",
      "12771/12771 [==============================] - 0s 21us/step - loss: 0.6369 - acc: 0.6241\n",
      "Epoch 68/100\n",
      "12771/12771 [==============================] - 0s 20us/step - loss: 0.6303 - acc: 0.6389\n",
      "Epoch 69/100\n",
      "12771/12771 [==============================] - 0s 19us/step - loss: 0.6228 - acc: 0.6557\n",
      "Epoch 70/100\n",
      "12771/12771 [==============================] - 0s 19us/step - loss: 0.6175 - acc: 0.6494\n",
      "Epoch 71/100\n",
      "12771/12771 [==============================] - 0s 20us/step - loss: 0.6157 - acc: 0.6472\n",
      "Epoch 72/100\n",
      "12771/12771 [==============================] - 0s 20us/step - loss: 0.6144 - acc: 0.6460\n",
      "Epoch 73/100\n",
      "12771/12771 [==============================] - 0s 20us/step - loss: 0.6116 - acc: 0.6476\n",
      "Epoch 74/100\n",
      "12771/12771 [==============================] - 0s 19us/step - loss: 0.6141 - acc: 0.6501\n",
      "Epoch 75/100\n",
      "12771/12771 [==============================] - 0s 20us/step - loss: 0.6071 - acc: 0.6491\n",
      "Epoch 76/100\n",
      "12771/12771 [==============================] - 0s 20us/step - loss: 0.6080 - acc: 0.6501\n",
      "Epoch 77/100\n",
      "12771/12771 [==============================] - 0s 20us/step - loss: 0.6074 - acc: 0.6487\n",
      "Epoch 78/100\n",
      "12771/12771 [==============================] - 0s 20us/step - loss: 0.6066 - acc: 0.6497\n",
      "Epoch 79/100\n",
      "12771/12771 [==============================] - 0s 21us/step - loss: 0.6069 - acc: 0.6506\n",
      "Epoch 80/100\n",
      "12771/12771 [==============================] - 0s 21us/step - loss: 0.6055 - acc: 0.6494\n",
      "Epoch 81/100\n"
     ]
    },
    {
     "name": "stdout",
     "output_type": "stream",
     "text": [
      "12771/12771 [==============================] - 0s 25us/step - loss: 0.6044 - acc: 0.6487\n",
      "Epoch 82/100\n",
      "12771/12771 [==============================] - 0s 21us/step - loss: 0.6061 - acc: 0.6496\n",
      "Epoch 83/100\n",
      "12771/12771 [==============================] - 0s 20us/step - loss: 0.6045 - acc: 0.6482\n",
      "Epoch 84/100\n",
      "12771/12771 [==============================] - 0s 19us/step - loss: 0.6037 - acc: 0.6501\n",
      "Epoch 85/100\n",
      "12771/12771 [==============================] - 0s 19us/step - loss: 0.6013 - acc: 0.6508\n",
      "Epoch 86/100\n",
      "12771/12771 [==============================] - 0s 19us/step - loss: 0.6008 - acc: 0.6526\n",
      "Epoch 87/100\n",
      "12771/12771 [==============================] - 0s 19us/step - loss: 0.6007 - acc: 0.6527\n",
      "Epoch 88/100\n",
      "12771/12771 [==============================] - 0s 19us/step - loss: 0.5993 - acc: 0.6527\n",
      "Epoch 89/100\n",
      "12771/12771 [==============================] - 0s 19us/step - loss: 0.6001 - acc: 0.6492\n",
      "Epoch 90/100\n",
      "12771/12771 [==============================] - 0s 19us/step - loss: 0.6007 - acc: 0.6527\n",
      "Epoch 91/100\n",
      "12771/12771 [==============================] - 0s 20us/step - loss: 0.5992 - acc: 0.6505\n",
      "Epoch 92/100\n",
      "12771/12771 [==============================] - 0s 19us/step - loss: 0.5998 - acc: 0.6472\n",
      "Epoch 93/100\n",
      "12771/12771 [==============================] - 0s 20us/step - loss: 0.5991 - acc: 0.6471\n",
      "Epoch 94/100\n",
      "12771/12771 [==============================] - 0s 21us/step - loss: 0.5981 - acc: 0.6578\n",
      "Epoch 95/100\n",
      "12771/12771 [==============================] - 0s 21us/step - loss: 0.5994 - acc: 0.6505\n",
      "Epoch 96/100\n",
      "12771/12771 [==============================] - 0s 21us/step - loss: 0.5984 - acc: 0.6515\n",
      "Epoch 97/100\n",
      "12771/12771 [==============================] - 0s 26us/step - loss: 0.5972 - acc: 0.6535\n",
      "Epoch 98/100\n",
      "12771/12771 [==============================] - 0s 26us/step - loss: 0.5973 - acc: 0.6501\n",
      "Epoch 99/100\n",
      "12771/12771 [==============================] - 0s 24us/step - loss: 0.5985 - acc: 0.6499\n",
      "Epoch 100/100\n",
      "12771/12771 [==============================] - 0s 19us/step - loss: 0.5993 - acc: 0.6495\n"
     ]
    },
    {
     "data": {
      "text/plain": [
       "<keras.callbacks.History at 0x1ce94f44e48>"
      ]
     },
     "execution_count": 15,
     "metadata": {},
     "output_type": "execute_result"
    }
   ],
   "source": [
    "model.fit(X_train, y_train_encoded, epochs=100, batch_size=128)"
   ]
  },
  {
   "cell_type": "code",
   "execution_count": 16,
   "metadata": {},
   "outputs": [
    {
     "name": "stdout",
     "output_type": "stream",
     "text": [
      "1419/1419 [==============================] - 0s 41us/step\n"
     ]
    },
    {
     "data": {
      "text/plain": [
       "[0.6002681591798085, 0.6575052853282528]"
      ]
     },
     "execution_count": 16,
     "metadata": {},
     "output_type": "execute_result"
    }
   ],
   "source": [
    "score=model.evaluate(X_test, y_test_encoded)\n",
    "score"
   ]
  },
  {
   "cell_type": "code",
   "execution_count": 17,
   "metadata": {},
   "outputs": [],
   "source": [
    "preds = model.predict(X_test)"
   ]
  },
  {
   "cell_type": "code",
   "execution_count": 18,
   "metadata": {},
   "outputs": [
    {
     "name": "stderr",
     "output_type": "stream",
     "text": [
      "C:\\Users\\jesse.pisel\\AppData\\Local\\Continuum\\anaconda3\\lib\\site-packages\\matplotlib\\cbook\\deprecation.py:107: MatplotlibDeprecationWarning: Passing one of 'on', 'true', 'off', 'false' as a boolean is deprecated; use an actual boolean (True/False) instead.\n",
      "  warnings.warn(message, mplDeprecation, stacklevel=1)\n"
     ]
    },
    {
     "data": {
      "text/plain": [
       "<matplotlib.axes._subplots.AxesSubplot at 0x1ce9694bda0>"
      ]
     },
     "execution_count": 18,
     "metadata": {},
     "output_type": "execute_result"
    },
    {
     "data": {
      "image/png": "[encoded data removed]",
      "text/plain": [
       "<Figure size 432x288 with 2 Axes>"
      ]
     },
     "metadata": {},
     "output_type": "display_data"
    }
   ],
   "source": [
    "import scikitplot as skplt\n",
    "skplt.metrics.plot_confusion_matrix(y_test, np.argmax(preds, axis=1), normalize=True)\n",
    "\n"
   ]
  },
  {
   "cell_type": "code",
   "execution_count": null,
   "metadata": {},
   "outputs": [],
   "source": []
  },
  {
   "cell_type": "code",
   "execution_count": null,
   "metadata": {},
   "outputs": [],
   "source": []
  }
 ],
 "metadata": {
  "kernelspec": {
   "display_name": "Python 3",
   "language": "python",
   "name": "python3"
  },
  "language_info": {
   "codemirror_mode": {
    "name": "ipython",
    "version": 3
   },
   "file_extension": ".py",
   "mimetype": "text/x-python",
   "name": "python",
   "nbconvert_exporter": "python",
   "pygments_lexer": "ipython3",
   "version": "3.6.4"
  }
 },
 "nbformat": 4,
 "nbformat_minor": 2
}
