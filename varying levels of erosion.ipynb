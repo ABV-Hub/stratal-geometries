{
 "cells": [
  {
   "cell_type": "code",
   "execution_count": 1,
   "metadata": {},
   "outputs": [],
   "source": [
    "import pandas as pd\n",
    "import numpy as np\n",
    "import matplotlib.pyplot as plt\n",
    "import seaborn as sns\n",
    "%matplotlib inline"
   ]
  },
  {
   "cell_type": "code",
   "execution_count": 2,
   "metadata": {},
   "outputs": [],
   "source": [
    "names = ['one', 'two', 'three', 'four', 'five', 'six', 'seven', 'eight', 'nine', 'ten', 'eleven',\n",
    "         'twelve', 'thirteen', 'fourteen', 'fifteen', 'sixteen']\n",
    "number_of_layers = 12 #np.random.randint(0,15)\n",
    "neighbors = np.random.randint(1,200)\n",
    "df =  pd.DataFrame()\n",
    "    \n",
    "for j in np.arange(3,5.5,0.1):\n",
    "    rolling = pd.DataFrame()\n",
    "    rolling['zero'] = 3*np.sin(np.arange(0,20,0.1)/6.28)\n",
    "    for i in range(len(names[0:number_of_layers])):\n",
    "        layer_elevation = 3*np.sin(np.arange(0,20,0.1)/6.28)+np.random.uniform(0,i)\n",
    "        elevation = np.full(200, j)\n",
    "        layer_elevation = np.where(layer_elevation > elevation, elevation, layer_elevation)\n",
    "        rolling[names[i]] = layer_elevation\n",
    "    df = pd.concat((df, rolling))\n",
    "angular_thicknesses = df.T.diff(axis=0).abs().T\n",
    "neigh = angular_thicknesses.shift(neighbors)\n",
    "logged = angular_thicknesses.apply(np.log)\n",
    "powered= angular_thicknesses.apply(lambda x: x**10)\n",
    "angular_thicknesses = pd.concat([angular_thicknesses, neigh, logged, powered], axis=1, join_axes=[angular_thicknesses.index]\n",
    "                               ).drop(columns=['zero']).dropna().replace(-np.inf, 0)\n",
    "\n",
    "#now for onlap section\n",
    "df_onlap =  pd.DataFrame()\n",
    "    \n",
    "for j in np.arange(3,5.5,0.1):\n",
    "    rolling = pd.DataFrame()\n",
    "    rolling['zero'] = 3*np.sin(np.arange(0,20,0.1)/6.28)\n",
    "    for i in range(len(names[0:number_of_layers])):\n",
    "        zero = 3*np.sin(np.arange(0,20,0.1)/6.28)\n",
    "        randomness = np.random.uniform(0,i)\n",
    "        elevation = np.full(200, j)\n",
    "        onlap = np.where(np.full(200,randomness) > zero, np.full(200,randomness), zero)\n",
    "        layer_elevation = np.where( onlap > elevation, elevation,  onlap)\n",
    "        rolling[names[i]] = layer_elevation\n",
    "    df_onlap = pd.concat((df, rolling))\n",
    "onlap_thicknesses = df_onlap.T.diff(axis=0).abs().T\n",
    "neigh = onlap_thicknesses.shift(neighbors)\n",
    "logged = onlap_thicknesses.apply(np.log)\n",
    "powered= onlap_thicknesses.apply(lambda x: x**10)\n",
    "onlap_thicknesses = pd.concat([onlap_thicknesses, neigh, logged, powered], axis=1, join_axes=[onlap_thicknesses.index]\n",
    "                               ).drop(columns=['zero']).dropna().replace(-np.inf, 0)\n",
    "\n",
    "#now for horizontal stratification\n",
    "\n",
    "df_horizontal =  pd.DataFrame()\n",
    "    \n",
    "for j in np.arange(3, 5.5,0.1):\n",
    "    rolling = pd.DataFrame()\n",
    "    rolling['zero'] = np.full(200, 0)-np.random.rand(200)/10\n",
    "    for i in range(len(names[0:number_of_layers])):\n",
    "        randomness = np.random.uniform(0,i)\n",
    "        rolling[names[i]] = np.full(200, randomness)+np.random.rand(200)/100\n",
    "    df_horizontal = pd.concat((df, rolling))\n",
    "horizontal_thicknesses = df_horizontal.T.diff(axis=0).abs().T\n",
    "neigh = horizontal_thicknesses.shift(neighbors)\n",
    "logged = horizontal_thicknesses.apply(np.log)\n",
    "powered= horizontal_thicknesses.apply(lambda x: x**10)\n",
    "\n",
    "horizontal_thicknesses = pd.concat([horizontal_thicknesses, neigh, logged, powered], axis=1, join_axes=[horizontal_thicknesses.index]\n",
    "                               ).drop(columns=['zero']).dropna().replace(-np.inf, 0)\n",
    "\n",
    "#normalize the data\n",
    "normalized_df=(angular_thicknesses-angular_thicknesses.min())/(angular_thicknesses.max()-angular_thicknesses.min()).replace(0,0.00001)\n",
    "normalized_dfo=(onlap_thicknesses-onlap_thicknesses.min())/(onlap_thicknesses.max()-onlap_thicknesses.min()).replace(0,0.00001)\n",
    "normalized_dfh=(horizontal_thicknesses-horizontal_thicknesses.min())/(horizontal_thicknesses.max()-horizontal_thicknesses.min()).replace(0,0.00001)\n",
    "normalized_dfo['class'] = 1\n",
    "normalized_df['class'] = 0\n",
    "normalized_dfh['class'] = 2\n",
    "\n",
    "#merge into new dataset\n",
    "dataset = pd.concat((normalized_df, normalized_dfo, normalized_dfh))\n"
   ]
  },
  {
   "cell_type": "code",
   "execution_count": 3,
   "metadata": {},
   "outputs": [
    {
     "data": {
      "text/plain": [
       "Index(['one', 'two', 'three', 'four', 'five', 'six', 'seven', 'eight', 'nine',\n",
       "       'ten', 'eleven', 'twelve', 'one', 'two', 'three', 'four', 'five', 'six',\n",
       "       'seven', 'eight', 'nine', 'ten', 'eleven', 'twelve', 'one', 'two',\n",
       "       'three', 'four', 'five', 'six', 'seven', 'eight', 'nine', 'ten',\n",
       "       'eleven', 'twelve', 'one', 'two', 'three', 'four', 'five', 'six',\n",
       "       'seven', 'eight', 'nine', 'ten', 'eleven', 'twelve', 'class'],\n",
       "      dtype='object')"
      ]
     },
     "execution_count": 3,
     "metadata": {},
     "output_type": "execute_result"
    }
   ],
   "source": [
    "dataset.columns"
   ]
  },
  {
   "cell_type": "code",
   "execution_count": 4,
   "metadata": {},
   "outputs": [],
   "source": [
    "from sklearn.model_selection import train_test_split\n",
    "\n",
    "X_train, X_test, y_train, y_test = train_test_split(dataset.iloc[0:, 0:-1].values, dataset.iloc[0:,-1].values, test_size=0.4, random_state=86)\n",
    "#X_train_rand, X_test_rand, y_train_rand, y_test_rand =train_test_split(randomData[0:,0:7], randomData[0:,7], test_size=0.2, random_state=86)"
   ]
  },
  {
   "cell_type": "code",
   "execution_count": 5,
   "metadata": {},
   "outputs": [
    {
     "name": "stderr",
     "output_type": "stream",
     "text": [
      "C:\\Users\\jesse.pisel\\AppData\\Local\\Continuum\\anaconda3\\lib\\site-packages\\h5py\\__init__.py:36: FutureWarning: Conversion of the second argument of issubdtype from `float` to `np.floating` is deprecated. In future, it will be treated as `np.float64 == np.dtype(float).type`.\n",
      "  from ._conv import register_converters as _register_converters\n",
      "Using TensorFlow backend.\n"
     ]
    }
   ],
   "source": [
    "from keras.utils import to_categorical\n",
    "y_train_encoded = to_categorical(y_train)\n",
    "y_test_encoded = to_categorical(y_test)\n",
    "\n",
    "y_train_rand_encoded = to_categorical(np.random.randint(0,3, 11357))\n",
    "y_test_rand_encoded = to_categorical(np.random.randint(0,3, 2840))"
   ]
  },
  {
   "cell_type": "code",
   "execution_count": 6,
   "metadata": {},
   "outputs": [],
   "source": [
    "from keras.models import Sequential\n",
    "from keras.layers import Dense, Activation, Dropout, Conv1D"
   ]
  },
  {
   "cell_type": "code",
   "execution_count": 7,
   "metadata": {},
   "outputs": [],
   "source": [
    "model = Sequential()\n",
    "model.add(Dense(100, input_shape=(X_train.shape[1],), activation='relu'))\n",
    "model.add(Dropout(0.5))\n",
    "model.add(Dense(3, kernel_initializer='random_uniform', activation='sigmoid'))"
   ]
  },
  {
   "cell_type": "code",
   "execution_count": 8,
   "metadata": {},
   "outputs": [],
   "source": [
    "model.compile(loss='categorical_crossentropy', optimizer='nadam', metrics=['categorical_accuracy'])"
   ]
  },
  {
   "cell_type": "code",
   "execution_count": 9,
   "metadata": {},
   "outputs": [
    {
     "name": "stdout",
     "output_type": "stream",
     "text": [
      "Epoch 1/100\n",
      "8995/8995 [==============================] - 1s 79us/step - loss: 0.6421 - categorical_accuracy: 0.6570\n",
      "Epoch 2/100\n",
      "8995/8995 [==============================] - 0s 52us/step - loss: 0.4467 - categorical_accuracy: 0.7352\n",
      "Epoch 3/100\n",
      "8995/8995 [==============================] - 0s 50us/step - loss: 0.4164 - categorical_accuracy: 0.7616\n",
      "Epoch 4/100\n",
      "8995/8995 [==============================] - 0s 48us/step - loss: 0.3983 - categorical_accuracy: 0.7807\n",
      "Epoch 5/100\n",
      "8995/8995 [==============================] - 0s 49us/step - loss: 0.3752 - categorical_accuracy: 0.7962\n",
      "Epoch 6/100\n",
      "8995/8995 [==============================] - 0s 49us/step - loss: 0.3617 - categorical_accuracy: 0.8010\n",
      "Epoch 7/100\n",
      "8995/8995 [==============================] - 0s 48us/step - loss: 0.3411 - categorical_accuracy: 0.8207\n",
      "Epoch 8/100\n",
      "8995/8995 [==============================] - 0s 48us/step - loss: 0.3277 - categorical_accuracy: 0.8282 0s - loss: 0.3290 - categorical_accuracy: 0.82\n",
      "Epoch 9/100\n",
      "8995/8995 [==============================] - 0s 48us/step - loss: 0.3101 - categorical_accuracy: 0.8424\n",
      "Epoch 10/100\n",
      "8995/8995 [==============================] - 0s 49us/step - loss: 0.2968 - categorical_accuracy: 0.8525\n",
      "Epoch 11/100\n",
      "8995/8995 [==============================] - 0s 49us/step - loss: 0.2827 - categorical_accuracy: 0.8621\n",
      "Epoch 12/100\n",
      "8995/8995 [==============================] - 0s 45us/step - loss: 0.2759 - categorical_accuracy: 0.8623\n",
      "Epoch 13/100\n",
      "8995/8995 [==============================] - 0s 44us/step - loss: 0.2604 - categorical_accuracy: 0.8746\n",
      "Epoch 14/100\n",
      "8995/8995 [==============================] - 0s 46us/step - loss: 0.2521 - categorical_accuracy: 0.8825\n",
      "Epoch 15/100\n",
      "8995/8995 [==============================] - 0s 43us/step - loss: 0.2397 - categorical_accuracy: 0.8916\n",
      "Epoch 16/100\n",
      "8995/8995 [==============================] - 0s 44us/step - loss: 0.2313 - categorical_accuracy: 0.8943\n",
      "Epoch 17/100\n",
      "8995/8995 [==============================] - 0s 47us/step - loss: 0.2240 - categorical_accuracy: 0.8959\n",
      "Epoch 18/100\n",
      "8995/8995 [==============================] - 0s 46us/step - loss: 0.2133 - categorical_accuracy: 0.9036\n",
      "Epoch 19/100\n",
      "8995/8995 [==============================] - 0s 45us/step - loss: 0.2029 - categorical_accuracy: 0.9081\n",
      "Epoch 20/100\n",
      "8995/8995 [==============================] - 0s 43us/step - loss: 0.2009 - categorical_accuracy: 0.9117\n",
      "Epoch 21/100\n",
      "8995/8995 [==============================] - 0s 45us/step - loss: 0.2022 - categorical_accuracy: 0.9092\n",
      "Epoch 22/100\n",
      "8995/8995 [==============================] - 0s 46us/step - loss: 0.1912 - categorical_accuracy: 0.9154\n",
      "Epoch 23/100\n",
      "8995/8995 [==============================] - 0s 46us/step - loss: 0.1900 - categorical_accuracy: 0.9161\n",
      "Epoch 24/100\n",
      "8995/8995 [==============================] - 0s 46us/step - loss: 0.1826 - categorical_accuracy: 0.9220\n",
      "Epoch 25/100\n",
      "8995/8995 [==============================] - 0s 46us/step - loss: 0.1765 - categorical_accuracy: 0.9231\n",
      "Epoch 26/100\n",
      "8995/8995 [==============================] - 0s 48us/step - loss: 0.1692 - categorical_accuracy: 0.9271\n",
      "Epoch 27/100\n",
      "8995/8995 [==============================] - 0s 46us/step - loss: 0.1686 - categorical_accuracy: 0.9302\n",
      "Epoch 28/100\n",
      "8995/8995 [==============================] - 0s 44us/step - loss: 0.1654 - categorical_accuracy: 0.9309\n",
      "Epoch 29/100\n",
      "8995/8995 [==============================] - 0s 43us/step - loss: 0.1545 - categorical_accuracy: 0.9325\n",
      "Epoch 30/100\n",
      "8995/8995 [==============================] - 0s 46us/step - loss: 0.1574 - categorical_accuracy: 0.9326\n",
      "Epoch 31/100\n",
      "8995/8995 [==============================] - 0s 46us/step - loss: 0.1545 - categorical_accuracy: 0.9370\n",
      "Epoch 32/100\n",
      "8995/8995 [==============================] - 0s 45us/step - loss: 0.1483 - categorical_accuracy: 0.9387\n",
      "Epoch 33/100\n",
      "8995/8995 [==============================] - 0s 45us/step - loss: 0.1457 - categorical_accuracy: 0.9401\n",
      "Epoch 34/100\n",
      "8995/8995 [==============================] - 0s 44us/step - loss: 0.1414 - categorical_accuracy: 0.9419\n",
      "Epoch 35/100\n",
      "8995/8995 [==============================] - 0s 46us/step - loss: 0.1420 - categorical_accuracy: 0.9405\n",
      "Epoch 36/100\n",
      "8995/8995 [==============================] - 0s 46us/step - loss: 0.1445 - categorical_accuracy: 0.9406\n",
      "Epoch 37/100\n",
      "8995/8995 [==============================] - 0s 46us/step - loss: 0.1390 - categorical_accuracy: 0.9421\n",
      "Epoch 38/100\n",
      "8995/8995 [==============================] - 0s 48us/step - loss: 0.1398 - categorical_accuracy: 0.9410\n",
      "Epoch 39/100\n",
      "8995/8995 [==============================] - 0s 49us/step - loss: 0.1342 - categorical_accuracy: 0.9450\n",
      "Epoch 40/100\n",
      "8995/8995 [==============================] - 0s 50us/step - loss: 0.1312 - categorical_accuracy: 0.9445\n",
      "Epoch 41/100\n",
      "8995/8995 [==============================] - 0s 51us/step - loss: 0.1287 - categorical_accuracy: 0.9477\n",
      "Epoch 42/100\n",
      "8995/8995 [==============================] - 0s 49us/step - loss: 0.1279 - categorical_accuracy: 0.9476\n",
      "Epoch 43/100\n",
      "8995/8995 [==============================] - 0s 52us/step - loss: 0.1201 - categorical_accuracy: 0.9503\n",
      "Epoch 44/100\n",
      "8995/8995 [==============================] - 0s 49us/step - loss: 0.1261 - categorical_accuracy: 0.9474\n",
      "Epoch 45/100\n",
      "8995/8995 [==============================] - 0s 51us/step - loss: 0.1230 - categorical_accuracy: 0.9487\n",
      "Epoch 46/100\n",
      "8995/8995 [==============================] - 0s 50us/step - loss: 0.1395 - categorical_accuracy: 0.9413\n",
      "Epoch 47/100\n",
      "8995/8995 [==============================] - 0s 49us/step - loss: 0.1330 - categorical_accuracy: 0.9413\n",
      "Epoch 48/100\n",
      "8995/8995 [==============================] - 0s 48us/step - loss: 0.1282 - categorical_accuracy: 0.9445\n",
      "Epoch 49/100\n",
      "8995/8995 [==============================] - 0s 50us/step - loss: 0.1265 - categorical_accuracy: 0.9471\n",
      "Epoch 50/100\n",
      "8995/8995 [==============================] - 0s 46us/step - loss: 0.1226 - categorical_accuracy: 0.9484\n",
      "Epoch 51/100\n",
      "8995/8995 [==============================] - 0s 50us/step - loss: 0.1352 - categorical_accuracy: 0.9417\n",
      "Epoch 52/100\n",
      "8995/8995 [==============================] - 0s 50us/step - loss: 0.1297 - categorical_accuracy: 0.9454\n",
      "Epoch 53/100\n",
      "8995/8995 [==============================] - 0s 49us/step - loss: 0.1318 - categorical_accuracy: 0.9425\n",
      "Epoch 54/100\n",
      "8995/8995 [==============================] - 0s 48us/step - loss: 0.1238 - categorical_accuracy: 0.9482\n",
      "Epoch 55/100\n",
      "8995/8995 [==============================] - 0s 48us/step - loss: 0.1187 - categorical_accuracy: 0.9503\n",
      "Epoch 56/100\n",
      "8995/8995 [==============================] - 0s 50us/step - loss: 0.1217 - categorical_accuracy: 0.9467\n",
      "Epoch 57/100\n",
      "8995/8995 [==============================] - 0s 49us/step - loss: 0.1116 - categorical_accuracy: 0.9543\n",
      "Epoch 58/100\n",
      "8995/8995 [==============================] - 0s 47us/step - loss: 0.1279 - categorical_accuracy: 0.9437\n",
      "Epoch 59/100\n",
      "8995/8995 [==============================] - 0s 50us/step - loss: 0.1118 - categorical_accuracy: 0.9569\n",
      "Epoch 60/100\n",
      "8995/8995 [==============================] - 0s 47us/step - loss: 0.1149 - categorical_accuracy: 0.9521\n",
      "Epoch 61/100\n",
      "8995/8995 [==============================] - 0s 48us/step - loss: 0.1124 - categorical_accuracy: 0.9549\n",
      "Epoch 62/100\n",
      "8995/8995 [==============================] - 0s 49us/step - loss: 0.1147 - categorical_accuracy: 0.9514\n",
      "Epoch 63/100\n",
      "8995/8995 [==============================] - 0s 50us/step - loss: 0.1054 - categorical_accuracy: 0.9568\n",
      "Epoch 64/100\n",
      "8995/8995 [==============================] - 0s 51us/step - loss: 0.1027 - categorical_accuracy: 0.9598\n",
      "Epoch 65/100\n",
      "8995/8995 [==============================] - 0s 47us/step - loss: 0.1140 - categorical_accuracy: 0.9512\n",
      "Epoch 66/100\n",
      "8995/8995 [==============================] - 0s 49us/step - loss: 0.1095 - categorical_accuracy: 0.9555\n",
      "Epoch 67/100\n",
      "8995/8995 [==============================] - 0s 49us/step - loss: 0.1122 - categorical_accuracy: 0.9542\n",
      "Epoch 68/100\n",
      "8995/8995 [==============================] - 0s 48us/step - loss: 0.1054 - categorical_accuracy: 0.9575\n",
      "Epoch 69/100\n",
      "8995/8995 [==============================] - 0s 47us/step - loss: 0.1031 - categorical_accuracy: 0.9586\n",
      "Epoch 70/100\n"
     ]
    },
    {
     "name": "stdout",
     "output_type": "stream",
     "text": [
      "8995/8995 [==============================] - 0s 49us/step - loss: 0.0993 - categorical_accuracy: 0.9580\n",
      "Epoch 71/100\n",
      "8995/8995 [==============================] - 0s 46us/step - loss: 0.0961 - categorical_accuracy: 0.9611\n",
      "Epoch 72/100\n",
      "8995/8995 [==============================] - 0s 49us/step - loss: 0.1072 - categorical_accuracy: 0.9553\n",
      "Epoch 73/100\n",
      "8995/8995 [==============================] - 0s 46us/step - loss: 0.0994 - categorical_accuracy: 0.9609\n",
      "Epoch 74/100\n",
      "8995/8995 [==============================] - 0s 47us/step - loss: 0.0945 - categorical_accuracy: 0.9630\n",
      "Epoch 75/100\n",
      "8995/8995 [==============================] - 0s 50us/step - loss: 0.0994 - categorical_accuracy: 0.9581\n",
      "Epoch 76/100\n",
      "8995/8995 [==============================] - 0s 49us/step - loss: 0.0935 - categorical_accuracy: 0.9626\n",
      "Epoch 77/100\n",
      "8995/8995 [==============================] - 0s 50us/step - loss: 0.0908 - categorical_accuracy: 0.9630\n",
      "Epoch 78/100\n",
      "8995/8995 [==============================] - 0s 48us/step - loss: 0.0912 - categorical_accuracy: 0.9646\n",
      "Epoch 79/100\n",
      "8995/8995 [==============================] - 0s 47us/step - loss: 0.0874 - categorical_accuracy: 0.9639\n",
      "Epoch 80/100\n",
      "8995/8995 [==============================] - 0s 47us/step - loss: 0.0918 - categorical_accuracy: 0.9630\n",
      "Epoch 81/100\n",
      "8995/8995 [==============================] - 0s 45us/step - loss: 0.0910 - categorical_accuracy: 0.9649\n",
      "Epoch 82/100\n",
      "8995/8995 [==============================] - 0s 48us/step - loss: 0.0917 - categorical_accuracy: 0.9618\n",
      "Epoch 83/100\n",
      "8995/8995 [==============================] - 0s 49us/step - loss: 0.0795 - categorical_accuracy: 0.9693\n",
      "Epoch 84/100\n",
      "8995/8995 [==============================] - 0s 47us/step - loss: 0.0885 - categorical_accuracy: 0.9642\n",
      "Epoch 85/100\n",
      "8995/8995 [==============================] - 0s 48us/step - loss: 0.0916 - categorical_accuracy: 0.9630\n",
      "Epoch 86/100\n",
      "8995/8995 [==============================] - 0s 47us/step - loss: 0.0879 - categorical_accuracy: 0.9654\n",
      "Epoch 87/100\n",
      "8995/8995 [==============================] - 0s 48us/step - loss: 0.0926 - categorical_accuracy: 0.9639\n",
      "Epoch 88/100\n",
      "8995/8995 [==============================] - 0s 47us/step - loss: 0.0806 - categorical_accuracy: 0.9692\n",
      "Epoch 89/100\n",
      "8995/8995 [==============================] - 0s 47us/step - loss: 0.0812 - categorical_accuracy: 0.9664\n",
      "Epoch 90/100\n",
      "8995/8995 [==============================] - 0s 47us/step - loss: 0.0830 - categorical_accuracy: 0.9685\n",
      "Epoch 91/100\n",
      "8995/8995 [==============================] - 0s 48us/step - loss: 0.0898 - categorical_accuracy: 0.9614\n",
      "Epoch 92/100\n",
      "8995/8995 [==============================] - 0s 49us/step - loss: 0.0901 - categorical_accuracy: 0.9649\n",
      "Epoch 93/100\n",
      "8995/8995 [==============================] - 0s 49us/step - loss: 0.0787 - categorical_accuracy: 0.9672\n",
      "Epoch 94/100\n",
      "8995/8995 [==============================] - 0s 50us/step - loss: 0.0754 - categorical_accuracy: 0.9701\n",
      "Epoch 95/100\n",
      "8995/8995 [==============================] - 0s 50us/step - loss: 0.0771 - categorical_accuracy: 0.9685\n",
      "Epoch 96/100\n",
      "8995/8995 [==============================] - 0s 49us/step - loss: 0.0773 - categorical_accuracy: 0.9705\n",
      "Epoch 97/100\n",
      "8995/8995 [==============================] - 0s 49us/step - loss: 0.0757 - categorical_accuracy: 0.9705\n",
      "Epoch 98/100\n",
      "8995/8995 [==============================] - 0s 50us/step - loss: 0.0763 - categorical_accuracy: 0.9698\n",
      "Epoch 99/100\n",
      "8995/8995 [==============================] - 0s 46us/step - loss: 0.0833 - categorical_accuracy: 0.9658\n",
      "Epoch 100/100\n",
      "8995/8995 [==============================] - 0s 47us/step - loss: 0.0763 - categorical_accuracy: 0.9703\n"
     ]
    },
    {
     "data": {
      "text/plain": [
       "<keras.callbacks.History at 0x24f1b9227b8>"
      ]
     },
     "execution_count": 9,
     "metadata": {},
     "output_type": "execute_result"
    }
   ],
   "source": [
    "model.fit(X_train, y_train_encoded, epochs=100, batch_size=32)"
   ]
  },
  {
   "cell_type": "code",
   "execution_count": 10,
   "metadata": {},
   "outputs": [
    {
     "name": "stdout",
     "output_type": "stream",
     "text": [
      "5997/5997 [==============================] - 0s 37us/step\n"
     ]
    },
    {
     "data": {
      "text/plain": [
       "[0.044374184223282966, 0.991162247790562]"
      ]
     },
     "execution_count": 10,
     "metadata": {},
     "output_type": "execute_result"
    }
   ],
   "source": [
    "score=model.evaluate(X_test, y_test_encoded)\n",
    "score"
   ]
  },
  {
   "cell_type": "code",
   "execution_count": 11,
   "metadata": {},
   "outputs": [],
   "source": [
    "preds = model.predict(X_test)"
   ]
  },
  {
   "cell_type": "code",
   "execution_count": 12,
   "metadata": {},
   "outputs": [
    {
     "name": "stderr",
     "output_type": "stream",
     "text": [
      "C:\\Users\\jesse.pisel\\AppData\\Local\\Continuum\\anaconda3\\lib\\site-packages\\matplotlib\\cbook\\deprecation.py:107: MatplotlibDeprecationWarning: Passing one of 'on', 'true', 'off', 'false' as a boolean is deprecated; use an actual boolean (True/False) instead.\n",
      "  warnings.warn(message, mplDeprecation, stacklevel=1)\n"
     ]
    },
    {
     "data": {
      "text/plain": [
       "<matplotlib.axes._subplots.AxesSubplot at 0x24f228369e8>"
      ]
     },
     "execution_count": 12,
     "metadata": {},
     "output_type": "execute_result"
    },
    {
     "data": {
      "image/png": "[encoded data removed]",
      "text/plain": [
       "<Figure size 432x288 with 2 Axes>"
      ]
     },
     "metadata": {},
     "output_type": "display_data"
    }
   ],
   "source": [
    "import scikitplot as skplt\n",
    "skplt.metrics.plot_confusion_matrix(y_test, np.argmax(preds, axis=1), normalize=True)"
   ]
  },
  {
   "cell_type": "code",
   "execution_count": 13,
   "metadata": {},
   "outputs": [],
   "source": [
    "tops = pd.read_csv(r'D:\\topsexport05292018.csv')"
   ]
  },
  {
   "cell_type": "code",
   "execution_count": 14,
   "metadata": {},
   "outputs": [
    {
     "data": {
      "text/plain": [
       "Index(['BELLE_FOURCHE', 'FOX_HILLS', 'GAMMON', 'GREENHORN',\n",
       "       'MITTEN_BLACK_SHALE', 'MOWRY', 'MUDDY', 'NIOBRARA', 'PARKMAN_BASE',\n",
       "       'PARKMAN_TOP', 'PIERRE', 'POOL_CREEK', 'RED_BIRD', 'SAGE_BREAKS',\n",
       "       'TEAPOT_BASE', 'TEAPOT_TOP', 'TECKLA_BASE', 'TECKLA_TOP', 'TURNER',\n",
       "       'WALL_CREEK'],\n",
       "      dtype='object', name='formation')"
      ]
     },
     "execution_count": 14,
     "metadata": {},
     "output_type": "execute_result"
    }
   ],
   "source": [
    "tops2 = tops.pivot_table('depth', 'formation', 'api').fillna(0).T\n",
    "tops2.columns"
   ]
  },
  {
   "cell_type": "code",
   "execution_count": 15,
   "metadata": {},
   "outputs": [],
   "source": [
    "tops2 = tops2[['MUDDY', 'MOWRY', 'BELLE_FOURCHE', 'GREENHORN',  'NIOBRARA', 'PARKMAN_BASE', 'PARKMAN_TOP',\n",
    "               'TECKLA_BASE', 'TECKLA_TOP','TEAPOT_BASE', 'TEAPOT_TOP', 'PIERRE', 'FOX_HILLS' ]]"
   ]
  },
  {
   "cell_type": "code",
   "execution_count": 16,
   "metadata": {},
   "outputs": [],
   "source": [
    "tops3 = tops2.diff(axis=1).abs().drop(columns=['MUDDY']).dropna()"
   ]
  },
  {
   "cell_type": "code",
   "execution_count": 17,
   "metadata": {},
   "outputs": [],
   "source": [
    "neigh = tops3.shift(10)\n",
    "logged = tops3.apply(np.log)\n",
    "powered= tops3.apply(lambda x: x**10)\n",
    "tops3 = pd.concat([tops3, neigh, logged, powered], axis=1, join_axes=[tops3.index]\n",
    "                               ).dropna().replace(-np.inf, 0)"
   ]
  },
  {
   "cell_type": "code",
   "execution_count": 18,
   "metadata": {},
   "outputs": [],
   "source": [
    "normalized_tops3=(tops3-tops3.min())/(tops3.max()-tops3.min()).replace(0,0.00001)\n",
    "real_data = normalized_tops3.values"
   ]
  },
  {
   "cell_type": "code",
   "execution_count": 19,
   "metadata": {},
   "outputs": [],
   "source": [
    "well_preds = model.predict(real_data)"
   ]
  },
  {
   "cell_type": "code",
   "execution_count": 20,
   "metadata": {},
   "outputs": [],
   "source": [
    "predictions = np.argmax(well_preds, axis=1)"
   ]
  },
  {
   "cell_type": "code",
   "execution_count": 21,
   "metadata": {},
   "outputs": [
    {
     "data": {
      "text/plain": [
       "(array([ 2.,  0.,  0.,  0.,  0., 85.,  0.,  0.,  0.,  7.]),\n",
       " array([0. , 0.2, 0.4, 0.6, 0.8, 1. , 1.2, 1.4, 1.6, 1.8, 2. ]),\n",
       " <a list of 10 Patch objects>)"
      ]
     },
     "execution_count": 21,
     "metadata": {},
     "output_type": "execute_result"
    },
    {
     "data": {
      "image/png": "[encoded data removed]",
      "text/plain": [
       "<Figure size 432x288 with 1 Axes>"
      ]
     },
     "metadata": {},
     "output_type": "display_data"
    }
   ],
   "source": [
    "plt.hist(predictions)"
   ]
  },
  {
   "cell_type": "code",
   "execution_count": null,
   "metadata": {},
   "outputs": [],
   "source": []
  },
  {
   "cell_type": "code",
   "execution_count": null,
   "metadata": {},
   "outputs": [],
   "source": []
  }
 ],
 "metadata": {
  "kernelspec": {
   "display_name": "Python 3",
   "language": "python",
   "name": "python3"
  },
  "language_info": {
   "codemirror_mode": {
    "name": "ipython",
    "version": 3
   },
   "file_extension": ".py",
   "mimetype": "text/x-python",
   "name": "python",
   "nbconvert_exporter": "python",
   "pygments_lexer": "ipython3",
   "version": "3.6.4"
  }
 },
 "nbformat": 4,
 "nbformat_minor": 2
}
