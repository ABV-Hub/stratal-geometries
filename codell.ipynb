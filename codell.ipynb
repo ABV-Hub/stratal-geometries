{
 "cells": [
  {
   "cell_type": "code",
   "execution_count": 25,
   "metadata": {},
   "outputs": [],
   "source": [
    "import pandas as pd\n",
    "import numpy as np\n",
    "import matplotlib.pyplot as plt\n",
    "import hypertools as hyp\n",
    "%matplotlib inline"
   ]
  },
  {
   "cell_type": "code",
   "execution_count": 30,
   "metadata": {},
   "outputs": [],
   "source": [
    "data = pd.read_csv(r'C:\\Users\\jesse.pisel\\Downloads\\wsgs-2017-ofr-02\\tables.csv')\n",
    "d2 = data.iloc[0:, 0:-3]\n",
    "d2=d2.dropna()"
   ]
  },
  {
   "cell_type": "code",
   "execution_count": 31,
   "metadata": {},
   "outputs": [
    {
     "data": {
      "image/png": "[encoded data removed]",
      "text/plain": [
       "<Figure size 432x288 with 1 Axes>"
      ]
     },
     "metadata": {},
     "output_type": "display_data"
    },
    {
     "data": {
      "text/plain": [
       "<hypertools.datageometry.DataGeometry at 0x1a5c69be128>"
      ]
     },
     "execution_count": 31,
     "metadata": {},
     "output_type": "execute_result"
    }
   ],
   "source": [
    "hyp.plot(d2, '.')"
   ]
  },
  {
   "cell_type": "code",
   "execution_count": 42,
   "metadata": {},
   "outputs": [],
   "source": [
    "xx = d2.drop(['api', 'company','3months', '6months', '9months', 'res', '12months', 'ip'\n",
    "       ], axis=1)\n",
    "yy = d2['12months'].values"
   ]
  },
  {
   "cell_type": "code",
   "execution_count": 43,
   "metadata": {},
   "outputs": [],
   "source": [
    "from sklearn.ensemble import RandomForestClassifier\n",
    "from sklearn.model_selection import train_test_split\n",
    "from sklearn.feature_selection import SelectFromModel\n",
    "from sklearn.metrics import accuracy_score\n",
    "X_train, X_test, y_train, y_test = train_test_split(xx, yy, test_size=0.1, random_state=86)"
   ]
  },
  {
   "cell_type": "code",
   "execution_count": 44,
   "metadata": {},
   "outputs": [
    {
     "data": {
      "text/plain": [
       "RandomForestRegressor(bootstrap=True, criterion='mse', max_depth=None,\n",
       "           max_features='auto', max_leaf_nodes=None,\n",
       "           min_impurity_decrease=0.0, min_impurity_split=None,\n",
       "           min_samples_leaf=1, min_samples_split=2,\n",
       "           min_weight_fraction_leaf=0.0, n_estimators=10, n_jobs=1,\n",
       "           oob_score=False, random_state=None, verbose=0, warm_start=False)"
      ]
     },
     "execution_count": 44,
     "metadata": {},
     "output_type": "execute_result"
    }
   ],
   "source": [
    "from sklearn.ensemble import RandomForestRegressor\n",
    "rf = RandomForestRegressor()\n",
    "rf.fit(X_train, y_train)"
   ]
  },
  {
   "cell_type": "code",
   "execution_count": 47,
   "metadata": {},
   "outputs": [
    {
     "data": {
      "text/plain": [
       "[('api.1', 0.002055057398817833),\n",
       " ('latitude', 0.009629608652840543),\n",
       " ('length', 0.01392868353748707),\n",
       " ('bhlong', 0.014551541000980644),\n",
       " ('gor', 0.01573770706939428),\n",
       " ('stages', 0.017025119831760516),\n",
       " ('year', 0.01795243873064916),\n",
       " ('longitude', 0.03462223621109773),\n",
       " ('az', 0.03486105051922976),\n",
       " ('slurry', 0.03675459965292295),\n",
       " ('bhlat', 0.10792580541638722),\n",
       " ('proppant', 0.6949561519784323)]"
      ]
     },
     "execution_count": 47,
     "metadata": {},
     "output_type": "execute_result"
    }
   ],
   "source": [
    "feat_labels = xx.columns.values\n",
    "feature = list(zip(feat_labels, rf.feature_importances_))\n",
    "sorted(feature, key=lambda tup: tup[1])\n"
   ]
  },
  {
   "cell_type": "code",
   "execution_count": 46,
   "metadata": {},
   "outputs": [
    {
     "name": "stdout",
     "output_type": "stream",
     "text": [
      "0.002055057398817833\n",
      "0.03486105051922976\n",
      "0.10792580541638722\n",
      "0.014551541000980644\n",
      "0.01573770706939428\n",
      "0.009629608652840543\n",
      "0.01392868353748707\n",
      "0.03462223621109773\n",
      "0.6949561519784323\n",
      "0.03675459965292295\n",
      "0.017025119831760516\n",
      "0.01795243873064916\n",
      "api.1\n",
      "az\n",
      "bhlat\n",
      "bhlong\n",
      "gor\n",
      "latitude\n",
      "length\n",
      "longitude\n",
      "proppant\n",
      "slurry\n",
      "stages\n",
      "year\n"
     ]
    }
   ],
   "source": [
    "a = np.array(sorted(feature))[:,0]\n",
    "b  = np.array(sorted(feature))[:,1]\n",
    "#print('\\n'.join(map(str, a)))\n",
    "print('\\n'.join(map(str, b)))\n",
    "print('\\n'.join(map(str, a)))"
   ]
  },
  {
   "cell_type": "code",
   "execution_count": null,
   "metadata": {},
   "outputs": [],
   "source": []
  }
 ],
 "metadata": {
  "kernelspec": {
   "display_name": "Python 3",
   "language": "python",
   "name": "python3"
  },
  "language_info": {
   "codemirror_mode": {
    "name": "ipython",
    "version": 3
   },
   "file_extension": ".py",
   "mimetype": "text/x-python",
   "name": "python",
   "nbconvert_exporter": "python",
   "pygments_lexer": "ipython3",
   "version": "3.6.4"
  }
 },
 "nbformat": 4,
 "nbformat_minor": 2
}
