{
 "cells": [
  {
   "cell_type": "code",
   "execution_count": 1,
   "metadata": {},
   "outputs": [],
   "source": [
    "import pandas as pd\n",
    "import numpy as np\n",
    "import matplotlib.pyplot as plt\n",
    "import hypertools as hyp\n",
    "%matplotlib notebook"
   ]
  },
  {
   "cell_type": "code",
   "execution_count": 348,
   "metadata": {},
   "outputs": [
    {
     "data": {
      "text/html": [
       "<div>\n",
       "<style scoped>\n",
       "    .dataframe tbody tr th:only-of-type {\n",
       "        vertical-align: middle;\n",
       "    }\n",
       "\n",
       "    .dataframe tbody tr th {\n",
       "        vertical-align: top;\n",
       "    }\n",
       "\n",
       "    .dataframe thead th {\n",
       "        text-align: right;\n",
       "    }\n",
       "</style>\n",
       "<table border=\"1\" class=\"dataframe\">\n",
       "  <thead>\n",
       "    <tr style=\"text-align: right;\">\n",
       "      <th></th>\n",
       "      <th>APINO</th>\n",
       "      <th>COMPANY</th>\n",
       "      <th>WELL_CLASS</th>\n",
       "      <th>HORIZ_DIR</th>\n",
       "      <th>Latitude</th>\n",
       "      <th>Longitude</th>\n",
       "      <th>IP_date_1st_prod</th>\n",
       "      <th>IP_date</th>\n",
       "      <th>IP_oil_volume_BBL</th>\n",
       "      <th>IP_gas_volume_MCF</th>\n",
       "      <th>...</th>\n",
       "      <th>Cumulative_Water_thru2016</th>\n",
       "      <th>Cumulative_Days_thru2016</th>\n",
       "      <th>BBLS_Oil_Day_thru2016</th>\n",
       "      <th>MCF_Day_thru2016</th>\n",
       "      <th>BBLS_Water_Day_thru2016</th>\n",
       "      <th>ProducingInterval_Length_ft</th>\n",
       "      <th>Cemented_Liner</th>\n",
       "      <th>SHLtoBHL_Lateral_length_ft</th>\n",
       "      <th>Length_Difference</th>\n",
       "      <th>Lateral_Azimuth</th>\n",
       "    </tr>\n",
       "  </thead>\n",
       "  <tbody>\n",
       "    <tr>\n",
       "      <th>0</th>\n",
       "      <td>561452</td>\n",
       "      <td>ABRAXAS PETROLEUM CORPORATION</td>\n",
       "      <td>O</td>\n",
       "      <td>H</td>\n",
       "      <td>43.53</td>\n",
       "      <td>-105.40</td>\n",
       "      <td>20120311.0</td>\n",
       "      <td>20120430.0</td>\n",
       "      <td>148.00</td>\n",
       "      <td>1640.00</td>\n",
       "      <td>...</td>\n",
       "      <td>48689.0</td>\n",
       "      <td>1685.0</td>\n",
       "      <td>50.76</td>\n",
       "      <td>1124.73</td>\n",
       "      <td>28.90</td>\n",
       "      <td>3583.0</td>\n",
       "      <td>Y</td>\n",
       "      <td>4390.4</td>\n",
       "      <td>-807.4</td>\n",
       "      <td>167.7</td>\n",
       "    </tr>\n",
       "    <tr>\n",
       "      <th>1</th>\n",
       "      <td>923003</td>\n",
       "      <td>ABRAXAS PETROLEUM CORPORATION</td>\n",
       "      <td>O</td>\n",
       "      <td>H</td>\n",
       "      <td>43.26</td>\n",
       "      <td>-104.91</td>\n",
       "      <td>20000828.0</td>\n",
       "      <td>20091118.0</td>\n",
       "      <td>207.00</td>\n",
       "      <td>100.00</td>\n",
       "      <td>...</td>\n",
       "      <td>270.0</td>\n",
       "      <td>4600.0</td>\n",
       "      <td>9.15</td>\n",
       "      <td>8.02</td>\n",
       "      <td>0.06</td>\n",
       "      <td>3985.0</td>\n",
       "      <td>Y then N</td>\n",
       "      <td>4524.3</td>\n",
       "      <td>-539.3</td>\n",
       "      <td>43.8</td>\n",
       "    </tr>\n",
       "    <tr>\n",
       "      <th>2</th>\n",
       "      <td>2720996</td>\n",
       "      <td>ABRAXAS PETROLEUM CORPORATION</td>\n",
       "      <td>O</td>\n",
       "      <td>H</td>\n",
       "      <td>43.28</td>\n",
       "      <td>-104.89</td>\n",
       "      <td>20000829.0</td>\n",
       "      <td>20000925.0</td>\n",
       "      <td>235.00</td>\n",
       "      <td>193.00</td>\n",
       "      <td>...</td>\n",
       "      <td>0.0</td>\n",
       "      <td>5131.0</td>\n",
       "      <td>19.84</td>\n",
       "      <td>21.49</td>\n",
       "      <td>0.00</td>\n",
       "      <td>3061.0</td>\n",
       "      <td>N</td>\n",
       "      <td>4000.9</td>\n",
       "      <td>-939.9</td>\n",
       "      <td>328.0</td>\n",
       "    </tr>\n",
       "    <tr>\n",
       "      <th>3</th>\n",
       "      <td>928810</td>\n",
       "      <td>ANADARKO E&amp;P ONSHORE LLC</td>\n",
       "      <td>O</td>\n",
       "      <td>H</td>\n",
       "      <td>42.92</td>\n",
       "      <td>-105.04</td>\n",
       "      <td>20130914.0</td>\n",
       "      <td>20130928.0</td>\n",
       "      <td>379.00</td>\n",
       "      <td>548.00</td>\n",
       "      <td>...</td>\n",
       "      <td>73931.0</td>\n",
       "      <td>1117.0</td>\n",
       "      <td>30.95</td>\n",
       "      <td>110.60</td>\n",
       "      <td>66.19</td>\n",
       "      <td>1166.0</td>\n",
       "      <td>N</td>\n",
       "      <td>3652.6</td>\n",
       "      <td>-2486.6</td>\n",
       "      <td>333.0</td>\n",
       "    </tr>\n",
       "    <tr>\n",
       "      <th>4</th>\n",
       "      <td>929130</td>\n",
       "      <td>ANADARKO E&amp;P ONSHORE LLC</td>\n",
       "      <td>O</td>\n",
       "      <td>H</td>\n",
       "      <td>42.92</td>\n",
       "      <td>-105.04</td>\n",
       "      <td>20151220.0</td>\n",
       "      <td>20160120.0</td>\n",
       "      <td>537.22</td>\n",
       "      <td>1491.45</td>\n",
       "      <td>...</td>\n",
       "      <td>46019.0</td>\n",
       "      <td>364.0</td>\n",
       "      <td>238.57</td>\n",
       "      <td>683.71</td>\n",
       "      <td>126.43</td>\n",
       "      <td>3886.0</td>\n",
       "      <td>Y</td>\n",
       "      <td>5432.7</td>\n",
       "      <td>-1546.7</td>\n",
       "      <td>175.8</td>\n",
       "    </tr>\n",
       "  </tbody>\n",
       "</table>\n",
       "<p>5 rows × 52 columns</p>\n",
       "</div>"
      ],
      "text/plain": [
       "     APINO                        COMPANY WELL_CLASS HORIZ_DIR  Latitude  \\\n",
       "0   561452  ABRAXAS PETROLEUM CORPORATION          O         H     43.53   \n",
       "1   923003  ABRAXAS PETROLEUM CORPORATION          O         H     43.26   \n",
       "2  2720996  ABRAXAS PETROLEUM CORPORATION          O         H     43.28   \n",
       "3   928810       ANADARKO E&P ONSHORE LLC          O         H     42.92   \n",
       "4   929130       ANADARKO E&P ONSHORE LLC          O         H     42.92   \n",
       "\n",
       "   Longitude  IP_date_1st_prod     IP_date  IP_oil_volume_BBL  \\\n",
       "0    -105.40        20120311.0  20120430.0             148.00   \n",
       "1    -104.91        20000828.0  20091118.0             207.00   \n",
       "2    -104.89        20000829.0  20000925.0             235.00   \n",
       "3    -105.04        20130914.0  20130928.0             379.00   \n",
       "4    -105.04        20151220.0  20160120.0             537.22   \n",
       "\n",
       "   IP_gas_volume_MCF       ...         Cumulative_Water_thru2016  \\\n",
       "0            1640.00       ...                           48689.0   \n",
       "1             100.00       ...                             270.0   \n",
       "2             193.00       ...                               0.0   \n",
       "3             548.00       ...                           73931.0   \n",
       "4            1491.45       ...                           46019.0   \n",
       "\n",
       "   Cumulative_Days_thru2016  BBLS_Oil_Day_thru2016  MCF_Day_thru2016  \\\n",
       "0                    1685.0                  50.76           1124.73   \n",
       "1                    4600.0                   9.15              8.02   \n",
       "2                    5131.0                  19.84             21.49   \n",
       "3                    1117.0                  30.95            110.60   \n",
       "4                     364.0                 238.57            683.71   \n",
       "\n",
       "   BBLS_Water_Day_thru2016  ProducingInterval_Length_ft  Cemented_Liner  \\\n",
       "0                    28.90                       3583.0               Y   \n",
       "1                     0.06                       3985.0        Y then N   \n",
       "2                     0.00                       3061.0               N   \n",
       "3                    66.19                       1166.0               N   \n",
       "4                   126.43                       3886.0               Y   \n",
       "\n",
       "   SHLtoBHL_Lateral_length_ft  Length_Difference  Lateral_Azimuth  \n",
       "0                      4390.4             -807.4            167.7  \n",
       "1                      4524.3             -539.3             43.8  \n",
       "2                      4000.9             -939.9            328.0  \n",
       "3                      3652.6            -2486.6            333.0  \n",
       "4                      5432.7            -1546.7            175.8  \n",
       "\n",
       "[5 rows x 52 columns]"
      ]
     },
     "execution_count": 348,
     "metadata": {},
     "output_type": "execute_result"
    }
   ],
   "source": [
    "data = pd.read_csv(r'C:\\Users\\jesse.pisel\\Downloads\\turner.csv')\n",
    "d2 = data.iloc[0:, 0:-3]\n",
    "d2.head()"
   ]
  },
  {
   "cell_type": "code",
   "execution_count": 3,
   "metadata": {},
   "outputs": [
    {
     "name": "stderr",
     "output_type": "stream",
     "text": [
      "C:\\Users\\jesse.pisel\\AppData\\Local\\Continuum\\anaconda3\\lib\\site-packages\\hypertools\\tools\\format_data.py:141: UserWarning: Missing data: Inexact solution computed with PPCA (see https://github.com/allentran/pca-magic for details)\n",
      "  warnings.warn('Missing data: Inexact solution computed with PPCA (see https://github.com/allentran/pca-magic for details)')\n"
     ]
    },
    {
     "data": {
      "image/png": "[encoded data removed]",
      "text/plain": [
       "<Figure size 432x288 with 1 Axes>"
      ]
     },
     "metadata": {},
     "output_type": "display_data"
    },
    {
     "data": {
      "text/plain": [
       "<hypertools.datageometry.DataGeometry at 0x18656b01048>"
      ]
     },
     "execution_count": 3,
     "metadata": {},
     "output_type": "execute_result"
    }
   ],
   "source": [
    "hyp.plot(d2, '.', hue=data.Prod_Download_Reservoir.values, legend=list(set(data.Prod_Download_Reservoir.values)))"
   ]
  },
  {
   "cell_type": "code",
   "execution_count": 4,
   "metadata": {},
   "outputs": [],
   "source": [
    "from sklearn.ensemble import RandomForestClassifier\n",
    "from sklearn.model_selection import train_test_split\n",
    "from sklearn.feature_selection import SelectFromModel\n",
    "from sklearn.metrics import accuracy_score"
   ]
  },
  {
   "cell_type": "code",
   "execution_count": 78,
   "metadata": {},
   "outputs": [],
   "source": [
    "d3 = d2.drop(['Cemented_Liner'], axis=1).fillna(0)"
   ]
  },
  {
   "cell_type": "code",
   "execution_count": 13,
   "metadata": {},
   "outputs": [],
   "source": [
    "X = d3.iloc[0:,6:].values\n",
    "from sklearn import preprocessing\n",
    "le = preprocessing.LabelEncoder()\n",
    "le.fit(data.Prod_Download_Reservoir.values)\n",
    "Y = le.transform(data.Prod_Download_Reservoir.values)"
   ]
  },
  {
   "cell_type": "code",
   "execution_count": 14,
   "metadata": {},
   "outputs": [],
   "source": [
    "X_train, X_test, y_train, y_test = train_test_split(X,Y, test_size=0.1, random_state=86)"
   ]
  },
  {
   "cell_type": "code",
   "execution_count": 15,
   "metadata": {},
   "outputs": [],
   "source": [
    "feat_labels = d3.columns[6:].values"
   ]
  },
  {
   "cell_type": "code",
   "execution_count": 22,
   "metadata": {},
   "outputs": [],
   "source": [
    "clf = RandomForestClassifier(n_estimators=10000, random_state=0, n_jobs=-1)\n",
    "\n",
    "# Train the classifier\n",
    "clf.fit(X_train, y_train)\n",
    "\n",
    "# Print the name and gini importance of each feature\n",
    "feature = list(zip(feat_labels, clf.feature_importances_))\n"
   ]
  },
  {
   "cell_type": "code",
   "execution_count": 17,
   "metadata": {},
   "outputs": [
    {
     "data": {
      "text/plain": [
       "0.8974358974358975"
      ]
     },
     "execution_count": 17,
     "metadata": {},
     "output_type": "execute_result"
    }
   ],
   "source": [
    "clf.score(X_test, y_test)"
   ]
  },
  {
   "cell_type": "code",
   "execution_count": 31,
   "metadata": {},
   "outputs": [
    {
     "data": {
      "text/plain": [
       "[('IP_Total_Fluid_gal', 0.0034302109981065613),\n",
       " ('IP_Total_Slurry_gal', 0.003597669748521163),\n",
       " ('First_Yr_GasProduced', 0.009718013940709471),\n",
       " ('First_12Months_OilProd', 0.009937425531435737),\n",
       " ('First_18Months_OilProd', 0.009984831799435635),\n",
       " ('First_9Months_OilProd', 0.010315144238219479),\n",
       " ('First_6Months_OilProd', 0.011675254572923944),\n",
       " ('First_Yr_OilProduced', 0.01241340473365199),\n",
       " ('Cumulative_Oil_thru2016', 0.012712772929419153),\n",
       " ('Cumulative_Gas_thru2016', 0.013406343870239524),\n",
       " ('BBLS_Oil_Day_thru2016', 0.013489642593657928),\n",
       " ('First_2.5-3.5_Months_OilProd', 0.014441888472461471),\n",
       " ('Cumulative_Days_thru2016', 0.014623812625318127),\n",
       " ('First_18Months_GasProd', 0.01463853271872074),\n",
       " ('First_12Months_GasProd', 0.015021648351773576),\n",
       " ('Cumulative_Days', 0.015442627302789768),\n",
       " ('Cumulative_Oil', 0.015803134868861965),\n",
       " ('IP_gas_gravity', 0.015877205195294515),\n",
       " ('Cumulative_Gas', 0.01628198768795399),\n",
       " ('First_9Months_GasProd', 0.01775451995281406),\n",
       " ('IP_gas_volume_MCF', 0.017766102368943847),\n",
       " ('BBLS_Oil_Day', 0.018243216330846367),\n",
       " ('IP_oil_volume_BBL', 0.018608532567216698),\n",
       " ('First_6Months_GasProd', 0.018614006835383338),\n",
       " ('Lateral_Azimuth', 0.019192216025716604),\n",
       " ('IP_date_1st_prod', 0.01963084386187187),\n",
       " ('First_2.5-3.5_Months_GasProd', 0.019889051285440558),\n",
       " ('Length_Difference', 0.019928500203426756),\n",
       " ('MCF_Day_thru2016', 0.020036958137472537),\n",
       " ('IP_date', 0.020353409296297562),\n",
       " ('Calculated_GOR_RT_ft3perbbl', 0.021894627172506485),\n",
       " ('BBLS_Water_Day', 0.024634129883788707),\n",
       " ('MCF_Day', 0.024861451575511773),\n",
       " ('IP_GOR', 0.026097842078508335),\n",
       " ('BBLS_Water_Day_thru2016', 0.026841007411233513),\n",
       " ('IP_Total_Fluid_BBL', 0.026959321820208805),\n",
       " ('Cumulative_Water_thru2016', 0.03316652451044757),\n",
       " ('Total_Proppant_lbs', 0.03316858458144735),\n",
       " ('Number_Fracs', 0.03384496094637595),\n",
       " ('IP_oil_gravity', 0.03561489409499818),\n",
       " ('Cumulative_Water', 0.04044299326138271),\n",
       " ('IP_water_volume_BBL', 0.04806463395950143),\n",
       " ('IP_Total_Slurry_BBL', 0.05176478893614404),\n",
       " ('SHLtoBHL_Lateral_length_ft', 0.060773207149139384),\n",
       " ('ProducingInterval_Length_ft', 0.06904212357388123)]"
      ]
     },
     "execution_count": 31,
     "metadata": {},
     "output_type": "execute_result"
    }
   ],
   "source": [
    "sorted(feature, key=lambda tup: tup[1])"
   ]
  },
  {
   "cell_type": "code",
   "execution_count": 349,
   "metadata": {},
   "outputs": [],
   "source": [
    "#d2 = data[data['Prod_Download_Reservoir'] == 'FRONTIER'].iloc[0:, 0:-3]\n",
    "d3 = d2.drop(['Cemented_Liner'], axis=1).fillna(0)"
   ]
  },
  {
   "cell_type": "code",
   "execution_count": 350,
   "metadata": {},
   "outputs": [],
   "source": [
    "from sklearn.ensemble import RandomForestRegressor"
   ]
  },
  {
   "cell_type": "code",
   "execution_count": 366,
   "metadata": {},
   "outputs": [],
   "source": [
    "xx = d3.drop(['APINO', 'COMPANY', 'WELL_CLASS', 'HORIZ_DIR', \n",
    "       'First_2.5-3.5_Months_OilProd', 'First_6Months_OilProd',\n",
    "       'First_9Months_OilProd', 'First_12Months_OilProd',\n",
    "       'First_18Months_OilProd', 'First_Yr_GasProduced',\n",
    "       'First_2.5-3.5_Months_GasProd', 'First_6Months_GasProd',\n",
    "       'First_9Months_GasProd', 'First_12Months_GasProd',\n",
    "       'First_18Months_GasProd', 'Cumulative_Oil', 'Cumulative_Gas',\n",
    "       'Cumulative_Water', 'Cumulative_Days', 'BBLS_Oil_Day', 'MCF_Day',\n",
    "       'BBLS_Water_Day', 'Cumulative_Oil_thru2016', 'Cumulative_Gas_thru2016',\n",
    "       'Cumulative_Water_thru2016', 'Cumulative_Days_thru2016',\n",
    "       'BBLS_Oil_Day_thru2016', 'MCF_Day_thru2016', 'BBLS_Water_Day_thru2016', 'First_Yr_OilProduced', \n",
    "        'Calculated_GOR_RT_ft3perbbl', 'IP_water_volume_BBL', 'IP_oil_volume_BBL', 'IP_gas_volume_MCF'\n",
    "       ], axis=1)\n",
    "yy = d3['First_6Months_OilProd'].values"
   ]
  },
  {
   "cell_type": "code",
   "execution_count": 367,
   "metadata": {},
   "outputs": [],
   "source": [
    "X_train, X_test, y_train, y_test = train_test_split(xx, yy, test_size=0.1, random_state=86)"
   ]
  },
  {
   "cell_type": "code",
   "execution_count": 368,
   "metadata": {},
   "outputs": [
    {
     "data": {
      "text/plain": [
       "RandomForestRegressor(bootstrap=True, criterion='mse', max_depth=None,\n",
       "           max_features='auto', max_leaf_nodes=None,\n",
       "           min_impurity_decrease=0.0, min_impurity_split=None,\n",
       "           min_samples_leaf=1, min_samples_split=2,\n",
       "           min_weight_fraction_leaf=0.0, n_estimators=10, n_jobs=1,\n",
       "           oob_score=False, random_state=None, verbose=0, warm_start=False)"
      ]
     },
     "execution_count": 368,
     "metadata": {},
     "output_type": "execute_result"
    }
   ],
   "source": [
    "rf = RandomForestRegressor()\n",
    "rf.fit(X_train, y_train)"
   ]
  },
  {
   "cell_type": "code",
   "execution_count": 369,
   "metadata": {},
   "outputs": [
    {
     "data": {
      "text/plain": [
       "[('IP_Total_Slurry_gal', 0.001589849782231749),\n",
       " ('IP_Total_Fluid_gal', 0.0016708913162018463),\n",
       " ('IP_Total_Fluid_BBL', 0.005379304565805268),\n",
       " ('Length_Difference', 0.02703427952329141),\n",
       " ('IP_gas_gravity', 0.02862222893154486),\n",
       " ('SHLtoBHL_Lateral_length_ft', 0.03428001572371959),\n",
       " ('IP_Total_Slurry_BBL', 0.03636133306384375),\n",
       " ('Lateral_Azimuth', 0.03984564527086541),\n",
       " ('Number_Fracs', 0.042821760583467774),\n",
       " ('ProducingInterval_Length_ft', 0.04656692335942088),\n",
       " ('IP_GOR', 0.04818703114956834),\n",
       " ('Latitude', 0.049633443496381685),\n",
       " ('IP_oil_gravity', 0.05297112092659402),\n",
       " ('IP_date', 0.08970001858013875),\n",
       " ('IP_date_1st_prod', 0.09963744000584747),\n",
       " ('Longitude', 0.18771003611285259),\n",
       " ('Total_Proppant_lbs', 0.20798867760822462)]"
      ]
     },
     "execution_count": 369,
     "metadata": {},
     "output_type": "execute_result"
    }
   ],
   "source": [
    "feat_labels = xx.columns.values\n",
    "feature = list(zip(feat_labels, rf.feature_importances_))\n",
    "sorted(feature, key=lambda tup: tup[1])"
   ]
  },
  {
   "cell_type": "code",
   "execution_count": 370,
   "metadata": {},
   "outputs": [
    {
     "name": "stdout",
     "output_type": "stream",
     "text": [
      "0.04818703114956834\n",
      "0.005379304565805268\n",
      "0.0016708913162018463\n",
      "0.03636133306384375\n",
      "0.001589849782231749\n",
      "0.08970001858013875\n",
      "0.09963744000584747\n",
      "0.02862222893154486\n",
      "0.05297112092659402\n",
      "0.03984564527086541\n",
      "0.049633443496381685\n",
      "0.02703427952329141\n",
      "0.18771003611285259\n",
      "0.042821760583467774\n",
      "0.04656692335942088\n",
      "0.03428001572371959\n",
      "0.20798867760822462\n"
     ]
    }
   ],
   "source": [
    "a = np.array(sorted(feature))[:,0]\n",
    "b  = np.array(sorted(feature))[:,1]\n",
    "#print('\\n'.join(map(str, a)))\n",
    "print('\\n'.join(map(str, b)))"
   ]
  },
  {
   "cell_type": "code",
   "execution_count": 371,
   "metadata": {
    "scrolled": true
   },
   "outputs": [
    {
     "name": "stdout",
     "output_type": "stream",
     "text": [
      "IP_GOR\n",
      "IP_Total_Fluid_BBL\n",
      "IP_Total_Fluid_gal\n",
      "IP_Total_Slurry_BBL\n",
      "IP_Total_Slurry_gal\n",
      "IP_date\n",
      "IP_date_1st_prod\n",
      "IP_gas_gravity\n",
      "IP_oil_gravity\n",
      "Lateral_Azimuth\n",
      "Latitude\n",
      "Length_Difference\n",
      "Longitude\n",
      "Number_Fracs\n",
      "ProducingInterval_Length_ft\n",
      "SHLtoBHL_Lateral_length_ft\n",
      "Total_Proppant_lbs\n"
     ]
    }
   ],
   "source": [
    "print('\\n'.join(map(str, a)))"
   ]
  },
  {
   "cell_type": "code",
   "execution_count": null,
   "metadata": {},
   "outputs": [],
   "source": []
  }
 ],
 "metadata": {
  "kernelspec": {
   "display_name": "Python 3",
   "language": "python",
   "name": "python3"
  },
  "language_info": {
   "codemirror_mode": {
    "name": "ipython",
    "version": 3
   },
   "file_extension": ".py",
   "mimetype": "text/x-python",
   "name": "python",
   "nbconvert_exporter": "python",
   "pygments_lexer": "ipython3",
   "version": "3.6.4"
  }
 },
 "nbformat": 4,
 "nbformat_minor": 2
}
