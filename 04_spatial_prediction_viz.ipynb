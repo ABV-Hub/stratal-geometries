{
 "cells": [
  {
   "cell_type": "markdown",
   "metadata": {},
   "source": [
    "# This notebook plots spatial predictions\n",
    "This notebook reads in the prediction shapefiles, along with `.tif` images of isochore thicknesses for the two formations and plots them along with the surface geology exposures of the Eastern Greater Green River Basin."
   ]
  },
  {
   "cell_type": "code",
   "execution_count": null,
   "metadata": {},
   "outputs": [],
   "source": [
    "import matplotlib.pyplot as plt\n",
    "from matplotlib.colors import LinearSegmentedColormap\n",
    "import rasterio\n",
    "import rasterio.plot\n",
    "from rasterio.warp import calculate_default_transform, reproject, Resampling\n",
    "import geopandas as gpd\n",
    "import seaborn as sns"
   ]
  },
  {
   "cell_type": "code",
   "execution_count": null,
   "metadata": {},
   "outputs": [],
   "source": [
    "sns.set()\n",
    "sns.set_style(\"darkgrid\", {\"legend.frameon\": True})\n",
    "%matplotlib inline"
   ]
  },
  {
   "cell_type": "code",
   "execution_count": null,
   "metadata": {},
   "outputs": [],
   "source": [
    "TFUWELLS = gpd.read_file(r\"predictions\\ftunion_KNN_predictions_prob.shp\")\n",
    "KLAWELLS = gpd.read_file(r\"predictions\\lance_KNN_predictions_prob.shp\")\n",
    "LANCE = gpd.read_file(r\"base_data\\shapefiles\\lance_outcrop.shp\")\n",
    "FTUN = gpd.read_file(r\"base_data\\shapefiles\\ftunion_outcrop.shp\")\n",
    "FAULTS = gpd.read_file(r\"base_data\\shapefiles\\simp_faults.shp\")\n",
    "SECTIONS = gpd.read_file(r\"base_data\\shapefiles\\crossection.shp\",)"
   ]
  },
  {
   "cell_type": "code",
   "execution_count": null,
   "metadata": {},
   "outputs": [],
   "source": [
    "\n",
    "DST_CRS = \"EPSG:4326\"\n",
    "\n",
    "with rasterio.open(r\"base_data\\lance2864.tif\") as src:\n",
    "    TRANSFORM, WIDTH, HEIGHT = calculate_default_transform(\n",
    "        src.crs, DST_CRS, src.width, src.height, *src.bounds\n",
    "    )\n",
    "    kwargs = src.meta.copy()\n",
    "    kwargs.update(\n",
    "        {\"crs\": DST_CRS, \"transform\": TRANSFORM, \"width\": WIDTH, \"height\": HEIGHT}\n",
    "    )\n",
    "\n",
    "    with rasterio.open(r\"base_data\\lance2864_reproject.tif\", \"w\", **kwargs) as dst:\n",
    "        for i in range(1, src.count + 1):\n",
    "            reproject(\n",
    "                source=rasterio.band(src, i),\n",
    "                destination=rasterio.band(dst, i),\n",
    "                src_transform=src.transform,\n",
    "                src_crs=src.crs,\n",
    "                dst_transform=TRANSFORM,\n",
    "                DST_CRS=DST_CRS,\n",
    "                resampling=Resampling.nearest,\n",
    "            )\n",
    "\n",
    "with rasterio.open(r\"base_data\\ftunion2864.tif\") as src:\n",
    "    TRANSFORM, WIDTH, HEIGHT = calculate_default_transform(\n",
    "        src.crs, DST_CRS, src.width, src.height, *src.bounds\n",
    "    )\n",
    "    kwargs = src.meta.copy()\n",
    "    kwargs.update(\n",
    "        {\"crs\": DST_CRS, \"transform\": TRANSFORM, \"width\": WIDTH, \"height\": HEIGHT}\n",
    "    )\n",
    "\n",
    "    with rasterio.open(r\"base_data\\ftunion2864_reproject.tif\", \"w\", **kwargs) as dst:\n",
    "        for i in range(1, src.count + 1):\n",
    "            reproject(\n",
    "                source=rasterio.band(src, i),\n",
    "                destination=rasterio.band(dst, i),\n",
    "                src_transform=src.transform,\n",
    "                src_crs=src.crs,\n",
    "                dst_transform=TRANSFORM,\n",
    "                DST_CRS=DST_CRS,\n",
    "                resampling=Resampling.nearest,\n",
    "            )"
   ]
  },
  {
   "cell_type": "code",
   "execution_count": null,
   "metadata": {},
   "outputs": [],
   "source": [
    "FU_BASE = rasterio.open(r\"base_data\\ftunion2864_reproject.tif\")\n",
    "LA_BASE = rasterio.open(r\"base_data\\lance2864_reproject.tif\")"
   ]
  },
  {
   "cell_type": "code",
   "execution_count": null,
   "metadata": {},
   "outputs": [],
   "source": [
    "%%capture\n",
    "TFUWELLS = TFUWELLS.to_crs(\"epsg:4326\")\n",
    "KLAWELLS = KLAWELLS.to_crs(\"epsg:4326\")\n",
    "LANCE = LANCE.to_crs(\"epsg:4326\")\n",
    "FTUN = FTUN.to_crs(\"epsg:4326\")\n",
    "FAULTS = FAULTS.to_crs(\"epsg:4326\")\n",
    "SECTIONS = SECTIONS.to_crs(\"epsg:4326\")"
   ]
  },
  {
   "cell_type": "code",
   "execution_count": null,
   "metadata": {},
   "outputs": [],
   "source": [
    "TRUNCATION_COLOR = \"#ffffbf\"\n",
    "ONLAP_COLOR = \"#2c7bb6\"\n",
    "HORIZ_COLOR = \"#d7191c\"\n",
    "\n",
    "truncCmap = LinearSegmentedColormap.from_list(\"mycmap\", [ONLAP_COLOR, TRUNCATION_COLOR])\n",
    "onlapCmap = LinearSegmentedColormap.from_list(\"mycmap\", [TRUNCATION_COLOR, ONLAP_COLOR])\n",
    "horizCmap = LinearSegmentedColormap.from_list(\"mycmap\", [ONLAP_COLOR, HORIZ_COLOR])\n"
   ]
  },
  {
   "cell_type": "code",
   "execution_count": null,
   "metadata": {
    "lines_to_next_cell": 2
   },
   "outputs": [],
   "source": [
    "FTHORIZ = TFUWELLS[(TFUWELLS.horiz_prob > 0.0)]\n",
    "LAHORIZ = KLAWELLS[(KLAWELLS.horiz_prob > 0.0)]"
   ]
  },
  {
   "cell_type": "code",
   "execution_count": null,
   "metadata": {
    "lines_to_next_cell": 2
   },
   "outputs": [],
   "source": [
    "fig, ax = plt.subplots(figsize=(10, 10))\n",
    "rasterio.plot.show(FU_BASE, ax=ax, cmap=\"gray\", zorder=1)\n",
    "\n",
    "TFUWELLS.plot(ax=ax, column=\"trunc_prob\", cmap=truncCmap, vmin=0, vmax=1, zorder=4)\n",
    "FTHORIZ.plot(ax=ax, column=\"horiz_prob\", cmap=horizCmap, vmin=0, vmax=1, zorder=5)\n",
    "\n",
    "kwarg2s = {\"facecolor\": \"#957F56\", \"edgecolor\": \"black\", \"linewidth\": 0.5, \"hatch\": \"\"}\n",
    "FTUN.plot(ax=ax, zorder=3, label=\"Fort Union Outcrop\", alpha=0.8, **kwarg2s)\n",
    "kwarg3s = {\"facecolor\": \"#A6C551\", \"edgecolor\": \"black\", \"linewidth\": 0.5, \"hatch\": \"\"}\n",
    "LANCE.plot(ax=ax, **kwarg3s, zorder=3, alpha=0.9)\n",
    "\n",
    "plt.title(\"Fort Union Predictions\", size=\"xx-large\")\n",
    "plt.xlim(-108.88, -107.35)\n",
    "plt.ylim(40.97, 42.3)\n",
    "plt.xlabel(\"Longitude\")\n",
    "plt.ylabel(\"Latitude\")\n",
    "# plt.savefig('fortunion.pdf', bbox_inches='tight')"
   ]
  },
  {
   "cell_type": "code",
   "execution_count": null,
   "metadata": {},
   "outputs": [],
   "source": [
    "fig, ax = plt.subplots(figsize=(10, 10))\n",
    "rasterio.plot.show(LA_BASE, ax=ax, cmap=\"gray\", zorder=1)\n",
    "\n",
    "KLAWELLS.plot(ax=ax, column=\"trunc_prob\", cmap=truncCmap, vmin=0, vmax=1, zorder=4)\n",
    "LAHORIZ.plot(ax=ax, column=\"horiz_prob\", cmap=horizCmap, vmin=0, vmax=1, zorder=5)\n",
    "LANCE.plot(ax=ax, color=\"#A6C551\", edgecolor=\"black\", zorder=3, alpha=0.9)\n",
    "plt.legend()\n",
    "plt.title(\"Lance Formation Predictions\", size=\"xx-large\")\n",
    "plt.xlim(-108.88, -107.35)\n",
    "plt.ylim(40.97, 42.3)\n",
    "plt.xlabel(\"Easting (m)\")\n",
    "plt.ylabel(\"Northing (m)\")\n",
    "# plt.savefig('lance_prob.pdf', bbox_inches='tight')"
   ]
  }
 ],
 "metadata": {
  "jupytext": {
   "formats": "ipynb,py:light"
  },
  "kernelspec": {
   "display_name": "Python 3",
   "language": "python",
   "name": "python3"
  },
  "language_info": {
   "codemirror_mode": {
    "name": "ipython",
    "version": 3
   },
   "file_extension": ".py",
   "mimetype": "text/x-python",
   "name": "python",
   "nbconvert_exporter": "python",
   "pygments_lexer": "ipython3",
   "version": "3.6.7"
  }
 },
 "nbformat": 4,
 "nbformat_minor": 4
}
