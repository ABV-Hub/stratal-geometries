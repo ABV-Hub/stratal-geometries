{
 "cells": [
  {
   "cell_type": "markdown",
   "metadata": {},
   "source": [
    "# Grid Search for optimal parameters\n",
    "This notebook conducts a grid search for the optimal KNN parameters along with the optimal number of adjacent wells in the training dataset."
   ]
  },
  {
   "cell_type": "code",
   "execution_count": null,
   "metadata": {},
   "outputs": [],
   "source": [
    "import pandas as pd\n",
    "import matplotlib.pyplot as plt\n",
    "import numpy as np\n",
    "from sklearn.decomposition import PCA\n",
    "from sklearn.manifold import TSNE\n",
    "import matplotlib.pyplot as plt\n",
    "from mpl_toolkits.mplot3d import Axes3D \n",
    "import seaborn as sns; sns.set()\n",
    "from scipy.spatial.distance import pdist, squareform\n",
    "from sklearn.model_selection import train_test_split\n",
    "from sklearn.model_selection import cross_val_score\n",
    "from sklearn.model_selection import GridSearchCV\n",
    "\n",
    "import glob\n",
    "import warnings\n",
    "from sklearn.neighbors import KNeighborsClassifier\n",
    "\n",
    "warnings.filterwarnings('ignore')\n",
    "%matplotlib inline"
   ]
  },
  {
   "cell_type": "code",
   "execution_count": null,
   "metadata": {},
   "outputs": [],
   "source": [
    "# point this to the directory with the generated training data \n",
    "# with the different number of adjacent wells\n",
    "training_files = glob.glob(r\"F:\\Geology\\WSGS\\Projects\\jupyter\\*.csv\")"
   ]
  },
  {
   "cell_type": "code",
   "execution_count": null,
   "metadata": {},
   "outputs": [],
   "source": [
    "accuracy_measured = [] # for the cross-validation accuracy\n",
    "num_neighbors = [] #the number of adjacent wells\n",
    "grid_params = {\n",
    "    \"n_neighbors\": [5,10,20,40,80],\n",
    "    \"weights\": [\"uniform\", \"distance\"],\n",
    "    \"metric\": [\"euclidean\", \"manhattan\"],\n",
    "    \"algorithm\": [\"ball_tree\", 'kd_tree', 'brute'],\n",
    "    \"leaf_size\": [10,30],\n",
    "}\n",
    "\n",
    "for file in training_files:\n",
    "    print(f'reading {file[-15:]}')\n",
    "    no_of_neighbors = int(file[33:-13])\n",
    "    dataset = pd.read_csv(file, index_col=[0])\n",
    "    data_subset0 = dataset.drop(['class'], axis=1)\n",
    "    \n",
    "    X_train, X_test, y_train, y_test = train_test_split(\n",
    "        dataset.drop('class', axis=1),\n",
    "        dataset['class'],\n",
    "        test_size=0.2, \n",
    "        random_state=86,\n",
    "    )\n",
    "    gs = GridSearchCV(\n",
    "        KNeighborsClassifier(), grid_params, verbose=8, cv=5, n_jobs=7\n",
    "    )\n",
    "    gs_results = gs.fit(X_train, y_train)\n",
    "    neigh = KNeighborsClassifier(**gs.best_params_)\n",
    "    \n",
    "    cved = cross_val_score(neigh, dataset.drop('class', axis=1),\n",
    "        dataset['class'], cv=10, scoring='accuracy')\n",
    "    accuracy_measured.append(cved)\n",
    "    num_neighbors.append(file[-16:-13])"
   ]
  },
  {
   "cell_type": "code",
   "execution_count": null,
   "metadata": {},
   "outputs": [],
   "source": [
    "mean_accuracy = []\n",
    "for i in enumerate(accuracy_measured):\n",
    "    plt.plot(accuracy_measured[i[0]], label=str(num_neighbors[i[0]])+' Neighbors')\n",
    "    mean_accuracy.append(accuracy_measured[i[0]].mean().round(4))\n",
    "    plt.legend()\n",
    "plt.xlabel('Fold Number')\n",
    "plt.ylabel('Accuracy')"
   ]
  },
  {
   "cell_type": "code",
   "execution_count": null,
   "metadata": {},
   "outputs": [],
   "source": [
    "plt.plot(num_neighbors, mean_accuracy)\n",
    "plt.xlabel('number of adjacent wells')\n",
    "plt.ylabel('mean cross-validated accuracy')"
   ]
  }
 ],
 "metadata": {
  "jupytext": {
   "formats": "ipynb,py:light"
  },
  "kernelspec": {
   "display_name": "Python 3",
   "language": "python",
   "name": "python3"
  },
  "language_info": {
   "codemirror_mode": {
    "name": "ipython",
    "version": 3
   },
   "file_extension": ".py",
   "mimetype": "text/x-python",
   "name": "python",
   "nbconvert_exporter": "python",
   "pygments_lexer": "ipython3",
   "version": "3.6.7"
  }
 },
 "nbformat": 4,
 "nbformat_minor": 4
}
