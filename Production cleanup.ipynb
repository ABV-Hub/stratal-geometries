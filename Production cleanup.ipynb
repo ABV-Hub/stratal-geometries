{
 "cells": [
  {
   "cell_type": "code",
   "execution_count": 24,
   "metadata": {},
   "outputs": [],
   "source": [
    "import numpy as np\n",
    "import pandas as pd\n",
    "import glob\n",
    "import matplotlib.pyplot as plt\n",
    "%matplotlib inline\n",
    "import time\n",
    "from tqdm import tqdm\n",
    "import seaborn as sns\n",
    "from IPython import display\n"
   ]
  },
  {
   "cell_type": "code",
   "execution_count": null,
   "metadata": {},
   "outputs": [],
   "source": [
    "data = pd.read_csv(r'C:\\Users\\jesse.pisel\\Downloads\\TTL_Prod041018\\Counties35-45_041018.csv')"
   ]
  },
  {
   "cell_type": "code",
   "execution_count": null,
   "metadata": {},
   "outputs": [],
   "source": [
    "data.columns\n",
    "#5800 cubic feet of gas is 1 boe"
   ]
  },
  {
   "cell_type": "code",
   "execution_count": null,
   "metadata": {},
   "outputs": [],
   "source": [
    "#D2 = data[['APINO', 'YR','JAN_OIL','FEB_OIL', 'MAR_OIL','APR_OIL', 'MAY_OIL','JUN_OIL', 'JUL_OIL','AUG_OIL','SEP_OIL','OCT_OIL',\n",
    "      #'NOV_OIL','DEC_OIL']]\n",
    "#D2 = data[['APINO', 'YR','JAN_GAS','FEB_GAS', 'MAR_GAS','APR_GAS', 'MAY_GAS','JUN_GAS', 'JUL_GAS','AUG_GAS','SEP_GAS','OCT_GAS',\n",
    "      #'NOV_GAS','DEC_GAS']]\n",
    "D2 = data[['APINO', 'YR','JAN_WATER','FEB_WATER', 'MAR_WATER','APR_WATER', 'MAY_WATER','JUN_WATER', 'JUL_WATER','AUG_WATER',\n",
    "           'SEP_WATER','OCT_WATER', 'NOV_WATER','DEC_WATER']]"
   ]
  },
  {
   "cell_type": "code",
   "execution_count": null,
   "metadata": {},
   "outputs": [],
   "source": [
    "masterDF = pd.DataFrame()\n",
    "dfList = []\n",
    "APIS = []\n",
    "for well in D2.APINO.unique()[0:]:\n",
    "    d3 = D2[D2['APINO'] == well][['JAN_WATER','FEB_WATER', 'MAR_WATER','APR_WATER', 'MAY_WATER','JUN_WATER', 'JUL_WATER','AUG_WATER',\n",
    "           'SEP_WATER','OCT_WATER', 'NOV_WATER','DEC_WATER']].stack()\n",
    "    #print(str(D2[D2['APINO'] == well].YR.min()))\n",
    "    ind = pd.date_range(str(D2[D2['APINO'] == well].YR.min()), periods=len(D2[D2['APINO'] == well])*12, freq='M')\n",
    "    ts = pd.Series(d3.values, index=ind)\n",
    "    dfList.append(ts.to_frame(name=str(well)))\n",
    "    APIS.append(well)\n",
    "    #masterDF = pd.concat([masterDF, ts.to_frame(name=str(well))])\n",
    "masterDF =  pd.concat(dfList, axis=1)"
   ]
  },
  {
   "cell_type": "code",
   "execution_count": null,
   "metadata": {},
   "outputs": [],
   "source": [
    "masterDF = pd.concat(dfList, axis=1).fillna(0)"
   ]
  },
  {
   "cell_type": "code",
   "execution_count": null,
   "metadata": {},
   "outputs": [],
   "source": [
    "well_locs = pd.read_csv(r'd:\\wells.csv')"
   ]
  },
  {
   "cell_type": "code",
   "execution_count": null,
   "metadata": {},
   "outputs": [],
   "source": [
    "coords = []\n",
    "for well in APIS:\n",
    "    coords.append(well_locs[well_locs['APINO'] == well][['latitude', 'longitude']].values)"
   ]
  },
  {
   "cell_type": "code",
   "execution_count": null,
   "metadata": {},
   "outputs": [],
   "source": [
    "for i in tqdm(range(484)):\n",
    "    plt.clf()\n",
    "    plt.scatter(np.vstack(coords)[0:,1], np.vstack(coords)[0:,0], s=200*(masterDF.iloc[i].values/np.max(np.max(masterDF))),\n",
    "                alpha=0.5, c='g')\n",
    "    display.clear_output(wait=True)\n",
    "    time.sleep(0.01)\n",
    "    plt.xlim(np.max(np.vstack(coords)[0:,1]),np.min(np.vstack(coords)[0:,1]))\n",
    "    plt.ylim(np.min(np.vstack(coords)[0:,0]),np.max(np.vstack(coords)[0:,0]))\n",
    "    plt.title(masterDF.index[i])\n",
    "    plt.savefig('D:/fun/'+str(i)+'.png')"
   ]
  },
  {
   "cell_type": "code",
   "execution_count": null,
   "metadata": {},
   "outputs": [],
   "source": [
    "masterDF.iloc[0:484,0:].to_csv('C:\\\\Users\\\\jesse.pisel\\\\Downloads\\\\TTL_Prod041018\\\\35to45ts_water.csv')"
   ]
  },
  {
   "cell_type": "markdown",
   "metadata": {},
   "source": [
    "# Now let's visualized the cleaned data"
   ]
  },
  {
   "cell_type": "code",
   "execution_count": 2,
   "metadata": {},
   "outputs": [],
   "source": [
    "ts1 = pd.read_csv(r'C:\\Users\\jesse.pisel\\Downloads\\TTL_Prod041018\\timeseries\\1to5ts.csv', index_col=[0])\n",
    "ts2 = pd.read_csv(r'C:\\Users\\jesse.pisel\\Downloads\\TTL_Prod041018\\timeseries\\7to17ts.csv', index_col=[0])\n",
    "ts3 = pd.read_csv(r'C:\\Users\\jesse.pisel\\Downloads\\TTL_Prod041018\\timeseries\\19to33ts.csv', index_col=[0])\n",
    "ts4 = pd.read_csv(r'C:\\Users\\jesse.pisel\\Downloads\\TTL_Prod041018\\timeseries\\35to45ts.csv', index_col=[0])"
   ]
  },
  {
   "cell_type": "code",
   "execution_count": 3,
   "metadata": {},
   "outputs": [],
   "source": [
    "bigTSoil = pd.concat([ts1, ts2, ts3, ts4], axis=1)"
   ]
  },
  {
   "cell_type": "code",
   "execution_count": 4,
   "metadata": {},
   "outputs": [
    {
     "data": {
      "text/plain": [
       "numpy.ndarray"
      ]
     },
     "execution_count": 4,
     "metadata": {},
     "output_type": "execute_result"
    }
   ],
   "source": [
    "APIS = bigTSoil.columns.values\n",
    "type(APIS)"
   ]
  },
  {
   "cell_type": "code",
   "execution_count": 5,
   "metadata": {},
   "outputs": [
    {
     "name": "stderr",
     "output_type": "stream",
     "text": [
      "C:\\Users\\jesse.pisel\\AppData\\Local\\Continuum\\anaconda3\\lib\\site-packages\\IPython\\core\\interactiveshell.py:2728: DtypeWarning: Columns (22,23) have mixed types. Specify dtype option on import or set low_memory=False.\n",
      "  interactivity=interactivity, compiler=compiler, result=result)\n"
     ]
    }
   ],
   "source": [
    "well_locs = pd.read_csv(r'd:\\wells.csv')\n",
    "coords = []\n",
    "for well in APIS:\n",
    "    coords.append(well_locs[well_locs['APINO'] == int(well)][['latitude', 'longitude']].values)"
   ]
  },
  {
   "cell_type": "code",
   "execution_count": 6,
   "metadata": {},
   "outputs": [],
   "source": [
    "ts1g = pd.read_csv(r'C:\\Users\\jesse.pisel\\Downloads\\TTL_Prod041018\\timeseries\\1to5ts_gas.csv', index_col=[0])\n",
    "ts2g = pd.read_csv(r'C:\\Users\\jesse.pisel\\Downloads\\TTL_Prod041018\\timeseries\\7to17ts_gas.csv', index_col=[0])\n",
    "ts3g = pd.read_csv(r'C:\\Users\\jesse.pisel\\Downloads\\TTL_Prod041018\\timeseries\\19to33ts_gas.csv', index_col=[0])\n",
    "ts4g = pd.read_csv(r'C:\\Users\\jesse.pisel\\Downloads\\TTL_Prod041018\\timeseries\\35to45ts_gas.csv', index_col=[0])\n",
    "bigTSgas = pd.concat([ts1g, ts2g, ts3g, ts4g], axis=1)"
   ]
  },
  {
   "cell_type": "code",
   "execution_count": 7,
   "metadata": {},
   "outputs": [],
   "source": [
    "ts1w = pd.read_csv(r'C:\\Users\\jesse.pisel\\Downloads\\TTL_Prod041018\\timeseries\\1to5ts_water.csv', index_col=[0])\n",
    "ts2w = pd.read_csv(r'C:\\Users\\jesse.pisel\\Downloads\\TTL_Prod041018\\timeseries\\7to17ts_water.csv', index_col=[0])\n",
    "ts3w = pd.read_csv(r'C:\\Users\\jesse.pisel\\Downloads\\TTL_Prod041018\\timeseries\\19to33ts_water.csv', index_col=[0])\n",
    "ts4w = pd.read_csv(r'C:\\Users\\jesse.pisel\\Downloads\\TTL_Prod041018\\timeseries\\35to45ts_water.csv', index_col=[0])\n",
    "bigTSwater = pd.concat([ts1w, ts2w, ts3w, ts4w], axis=1)"
   ]
  },
  {
   "cell_type": "code",
   "execution_count": 20,
   "metadata": {},
   "outputs": [
    {
     "name": "stderr",
     "output_type": "stream",
     "text": [
      "100%|██████████████████████████████████████████████████████████████████████████████| 484/484 [1:36:34<00:00, 11.97s/it]\n"
     ]
    },
    {
     "data": {
      "image/png": "[encoded data removed]",
      "text/plain": [
       "<Figure size 432x288 with 1 Axes>"
      ]
     },
     "metadata": {},
     "output_type": "display_data"
    }
   ],
   "source": [
    "%matplotlib inline\n",
    "for i in tqdm(range(484)):\n",
    "    plt.rcParams['axes.facecolor'] = '#303030'\n",
    "    plt.clf()\n",
    "    plt.scatter(np.vstack(coords)[0:,1], np.vstack(coords)[0:,0], s=200*(bigTSoil.iloc[i].values/np.max(np.max(bigTSoil))),\n",
    "                alpha=0.4, c='g', linewidths=0)\n",
    "    plt.scatter(np.vstack(coords)[0:,1], np.vstack(coords)[0:,0], s=100*(bigTSoil.iloc[i].values/np.max(np.max(bigTSoil))),\n",
    "                alpha=0.1, c='w', linewidths=0)\n",
    "    plt.scatter(np.vstack(coords)[0:,1], np.vstack(coords)[0:,0], s=200*(bigTSgas.iloc[i].values/np.max(np.max(bigTSgas))),\n",
    "                alpha=0.4, c='r', linewidths=0)\n",
    "    plt.scatter(np.vstack(coords)[0:,1], np.vstack(coords)[0:,0], s=100*(bigTSgas.iloc[i].values/np.max(np.max(bigTSgas))),\n",
    "                alpha=0.1, c='w', linewidths=0)\n",
    "    plt.scatter(np.vstack(coords)[0:,1], np.vstack(coords)[0:,0], s=200*(bigTSwater.iloc[i].values/np.max(np.max(bigTSwater))),\n",
    "                alpha=0.1, c='b', linewidths=0)\n",
    "    plt.scatter(np.vstack(coords)[0:,1], np.vstack(coords)[0:,0], s=100*(bigTSwater.iloc[i].values/np.max(np.max(bigTSwater))),\n",
    "                alpha=0.1, c='w', linewidths=0)\n",
    "    display.clear_output(wait=True)\n",
    "    plt.xlim(np.min(np.vstack(coords)[0:,1]), np.max(np.vstack(coords)[0:,1]))\n",
    "    plt.ylim(np.min(np.vstack(coords)[0:,0]),np.max(np.vstack(coords)[0:,0]))\n",
    "    plt.title(bigTSwater.index[i])\n",
    "    \n",
    "    plt.savefig('D:/fun/ongw'+str(i)+'.png', dpi=250)"
   ]
  },
  {
   "cell_type": "code",
   "execution_count": 8,
   "metadata": {},
   "outputs": [],
   "source": [
    "import cartopy\n",
    "import cartopy.crs as ccrs\n"
   ]
  },
  {
   "cell_type": "code",
   "execution_count": 9,
   "metadata": {},
   "outputs": [],
   "source": [
    "import cartopy.io.img_tiles as cimgt\n"
   ]
  },
  {
   "cell_type": "code",
   "execution_count": 10,
   "metadata": {},
   "outputs": [],
   "source": [
    "mapbox = cimgt.MapboxTiles('pk.eyJ1IjoiamVzc2VwaXNlbCIsImEiOiJjamdmaHlxajkybnhmMnFtcXppaW90bDVjIn0.i2qzLErAxTjsmwl127P-jQ',\n",
    "                           'mapbox.dark')"
   ]
  },
  {
   "cell_type": "code",
   "execution_count": 14,
   "metadata": {},
   "outputs": [
    {
     "name": "stderr",
     "output_type": "stream",
     "text": [
      "  0%|                                                                                          | 0/484 [00:00<?, ?it/s]C:\\Users\\jesse.pisel\\AppData\\Local\\Continuum\\anaconda3\\lib\\site-packages\\matplotlib\\cbook\\deprecation.py:107: MatplotlibDeprecationWarning: Adding an axes using the same arguments as a previous axes currently reuses the earlier instance.  In a future version, a new instance will always be created and returned.  Meanwhile, this warning can be suppressed, and the future behavior ensured, by passing a unique label to each axes instance.\n",
      "  warnings.warn(message, mplDeprecation, stacklevel=1)\n",
      "100%|██████████████████████████████████████████████████████████████████████████████| 484/484 [2:09:28<00:00, 16.05s/it]\n"
     ]
    },
    {
     "data": {
      "text/plain": [
       "<Figure size 432x288 with 0 Axes>"
      ]
     },
     "metadata": {},
     "output_type": "display_data"
    }
   ],
   "source": [
    "# Create a GeoAxes in the tile's projection.\n",
    "ax = plt.axes(projection=mapbox.crs)\n",
    "\n",
    "# Limit the extent of the map to a small longitude/latitude range.\n",
    "ax.set_extent([np.min(np.vstack(coords)[0:,1]), np.max(np.vstack(coords)[0:,1]), np.min(np.vstack(coords)[0:,0]),np.max(np.vstack(coords)[0:,0])])\n",
    "# Add the Stamen data at zoom level 8.\n",
    "ax.add_image(mapbox, 8)\n",
    "\n",
    "for i in tqdm(range(484)):\n",
    "    ax = plt.axes(projection=mapbox.crs)\n",
    "\n",
    "    # Limit the extent of the map to a small longitude/latitude range.\n",
    "    ax.set_extent([np.min(np.vstack(coords)[0:,1]), np.max(np.vstack(coords)[0:,1]), np.min(np.vstack(coords)[0:,0]),np.max(np.vstack(coords)[0:,0])])\n",
    "    # Add the Stamen data at zoom level 8.\n",
    "    ax.add_image(mapbox, 8)\n",
    "    \n",
    "    plt.scatter(np.vstack(coords)[0:,1], np.vstack(coords)[0:,0], s=200*(bigTSoil.iloc[i].values/np.max(np.max(bigTSoil))),\n",
    "                alpha=0.4, c='g', linewidths=0,transform=ccrs.Geodetic())\n",
    "    plt.scatter(np.vstack(coords)[0:,1], np.vstack(coords)[0:,0], s=100*(bigTSoil.iloc[i].values/np.max(np.max(bigTSoil))),\n",
    "                alpha=0.1, c='w', linewidths=0,transform=ccrs.Geodetic())\n",
    "    plt.scatter(np.vstack(coords)[0:,1], np.vstack(coords)[0:,0], s=200*(bigTSgas.iloc[i].values/np.max(np.max(bigTSgas))),\n",
    "                alpha=0.4, c='r', linewidths=0,transform=ccrs.Geodetic())\n",
    "    plt.scatter(np.vstack(coords)[0:,1], np.vstack(coords)[0:,0], s=100*(bigTSgas.iloc[i].values/np.max(np.max(bigTSgas))),\n",
    "                alpha=0.1, c='w', linewidths=0,transform=ccrs.Geodetic())\n",
    "    plt.scatter(np.vstack(coords)[0:,1], np.vstack(coords)[0:,0], s=200*(bigTSwater.iloc[i].values/np.max(np.max(bigTSwater))),\n",
    "                alpha=0.1, c='b', linewidths=0,transform=ccrs.Geodetic())\n",
    "    plt.scatter(np.vstack(coords)[0:,1], np.vstack(coords)[0:,0], s=100*(bigTSwater.iloc[i].values/np.max(np.max(bigTSwater))),\n",
    "                alpha=0.1, c='w', linewidths=0,transform=ccrs.Geodetic())\n",
    "    \n",
    "    plt.title(bigTSwater.index[i])\n",
    "    plt.savefig('D:/fun/withMap'+str(i)+'.png', dpi=250)\n",
    "    plt.clf()\n"
   ]
  },
  {
   "cell_type": "code",
   "execution_count": 13,
   "metadata": {},
   "outputs": [
    {
     "data": {
      "text/plain": [
       "<matplotlib.collections.PathCollection at 0x279bc15a5f8>"
      ]
     },
     "execution_count": 13,
     "metadata": {},
     "output_type": "execute_result"
    },
    {
     "data": {
      "image/png": "[encoded data removed]",
      "text/plain": [
       "<Figure size 432x288 with 1 Axes>"
      ]
     },
     "metadata": {},
     "output_type": "display_data"
    }
   ],
   "source": [
    "plt.scatter(np.vstack(coords)[0:,1], np.vstack(coords)[0:,0], s=200*(bigTSoil.iloc[125].values/np.max(np.max(bigTSoil))),\n",
    "                alpha=0.4, c='g', linewidths=0)"
   ]
  },
  {
   "cell_type": "code",
   "execution_count": 27,
   "metadata": {},
   "outputs": [],
   "source": [
    "oilcs = bigTSoil.cumsum()\n",
    "gascs = bigTSgas.cumsum()\n",
    "watercs = bigTSwater.cumsum()"
   ]
  },
  {
   "cell_type": "code",
   "execution_count": 31,
   "metadata": {},
   "outputs": [
    {
     "name": "stderr",
     "output_type": "stream",
     "text": [
      "  0%|                                                                                          | 0/484 [00:00<?, ?it/s]C:\\Users\\jesse.pisel\\AppData\\Local\\Continuum\\anaconda3\\lib\\site-packages\\matplotlib\\cbook\\deprecation.py:107: MatplotlibDeprecationWarning: Adding an axes using the same arguments as a previous axes currently reuses the earlier instance.  In a future version, a new instance will always be created and returned.  Meanwhile, this warning can be suppressed, and the future behavior ensured, by passing a unique label to each axes instance.\n",
      "  warnings.warn(message, mplDeprecation, stacklevel=1)\n",
      "100%|██████████████████████████████████████████████████████████████████████████████| 484/484 [1:45:12<00:00, 13.04s/it]\n"
     ]
    },
    {
     "data": {
      "text/plain": [
       "<Figure size 432x288 with 0 Axes>"
      ]
     },
     "metadata": {},
     "output_type": "display_data"
    }
   ],
   "source": [
    "# Create a GeoAxes in the tile's projection.\n",
    "ax = plt.axes(projection=mapbox.crs)\n",
    "\n",
    "# Limit the extent of the map to a small longitude/latitude range.\n",
    "ax.set_extent([np.min(np.vstack(coords)[0:,1]), np.max(np.vstack(coords)[0:,1]), np.min(np.vstack(coords)[0:,0]),np.max(np.vstack(coords)[0:,0])])\n",
    "# Add the Stamen data at zoom level 8.\n",
    "ax.add_image(mapbox, 8)\n",
    "\n",
    "for i in tqdm(range(484)):\n",
    "    ax = plt.axes(projection=mapbox.crs)\n",
    "\n",
    "    # Limit the extent of the map to a small longitude/latitude range.\n",
    "    ax.set_extent([np.min(np.vstack(coords)[0:,1]), np.max(np.vstack(coords)[0:,1]), np.min(np.vstack(coords)[0:,0]),np.max(np.vstack(coords)[0:,0])])\n",
    "    # Add the Stamen data at zoom level 8.\n",
    "    ax.add_image(mapbox, 8)\n",
    "    \n",
    "    plt.scatter(np.vstack(coords)[0:,1], np.vstack(coords)[0:,0], s=200*(oilcs.iloc[i].values/np.max(np.max(oilcs))),\n",
    "                alpha=0.4, c='g', linewidths=0,transform=ccrs.Geodetic())\n",
    "    plt.scatter(np.vstack(coords)[0:,1], np.vstack(coords)[0:,0], s=100*(oilcs.iloc[i].values/np.max(np.max(oilcs))),\n",
    "                alpha=0.1, c='w', linewidths=0,transform=ccrs.Geodetic())\n",
    "    plt.scatter(np.vstack(coords)[0:,1], np.vstack(coords)[0:,0], s=200*(gascs.iloc[i].values/np.max(np.max(gascs))),\n",
    "                alpha=0.4, c='r', linewidths=0,transform=ccrs.Geodetic())\n",
    "    plt.scatter(np.vstack(coords)[0:,1], np.vstack(coords)[0:,0], s=100*(gascs.iloc[i].values/np.max(np.max(gascs))),\n",
    "                alpha=0.1, c='w', linewidths=0,transform=ccrs.Geodetic())\n",
    "    plt.scatter(np.vstack(coords)[0:,1], np.vstack(coords)[0:,0], s=200*(watercs.iloc[i].values/np.max(np.max(watercs))),\n",
    "                alpha=0.1, c='b', linewidths=0,transform=ccrs.Geodetic())\n",
    "    plt.scatter(np.vstack(coords)[0:,1], np.vstack(coords)[0:,0], s=100*(watercs.iloc[i].values/np.max(np.max(watercs))),\n",
    "                alpha=0.1, c='w', linewidths=0,transform=ccrs.Geodetic())\n",
    "    \n",
    "    plt.title(bigTSwater.index[i])\n",
    "    plt.savefig('D:/fun/cumulative'+str(i)+'.png', dpi=250)\n",
    "    plt.clf()"
   ]
  },
  {
   "cell_type": "code",
   "execution_count": 29,
   "metadata": {},
   "outputs": [
    {
     "data": {
      "text/plain": [
       "<matplotlib.collections.PathCollection at 0x279bbec81d0>"
      ]
     },
     "execution_count": 29,
     "metadata": {},
     "output_type": "execute_result"
    },
    {
     "data": {
      "image/png": "[encoded data removed]",
      "text/plain": [
       "<Figure size 432x288 with 1 Axes>"
      ]
     },
     "metadata": {},
     "output_type": "display_data"
    }
   ],
   "source": [
    "plt.scatter(np.vstack(coords)[0:,1], np.vstack(coords)[0:,0], s=200*(watercs.iloc[i].values/np.max(np.max(watercs))),\n",
    "                alpha=0.1, c='b', linewidths=0)"
   ]
  },
  {
   "cell_type": "code",
   "execution_count": 36,
   "metadata": {},
   "outputs": [
    {
     "data": {
      "text/plain": [
       "76953"
      ]
     },
     "execution_count": 36,
     "metadata": {},
     "output_type": "execute_result"
    }
   ],
   "source": [
    "len(coords)"
   ]
  },
  {
   "cell_type": "code",
   "execution_count": 22,
   "metadata": {},
   "outputs": [
    {
     "data": {
      "text/plain": [
       "[<matplotlib.lines.Line2D at 0x1ba8b6d1f60>]"
      ]
     },
     "execution_count": 22,
     "metadata": {},
     "output_type": "execute_result"
    },
    {
     "data": {
      "image/png": "[encoded data removed]",
      "text/plain": [
       "<Figure size 432x288 with 1 Axes>"
      ]
     },
     "metadata": {},
     "output_type": "display_data"
    }
   ],
   "source": [
    "plt.plot(well_locs.COMPLETED[:100], well_locs.TD[:100], marker='o',linestyle='', label=well_locs.BOTFORM[0:100])"
   ]
  },
  {
   "cell_type": "code",
   "execution_count": 42,
   "metadata": {},
   "outputs": [],
   "source": [
    "from sklearn import preprocessing"
   ]
  },
  {
   "cell_type": "code",
   "execution_count": 63,
   "metadata": {},
   "outputs": [],
   "source": [
    "le = preprocessing.LabelEncoder()\n",
    "le.fit(well_locs.BOTFORM[0:50000].values.astype(str))\n",
    "classed = le.transform(well_locs.BOTFORM[0:50000].values.astype(str))"
   ]
  },
  {
   "cell_type": "code",
   "execution_count": null,
   "metadata": {},
   "outputs": [
    {
     "data": {
      "text/plain": [
       "<matplotlib.collections.PathCollection at 0x1ba9ad1cbe0>"
      ]
     },
     "execution_count": 64,
     "metadata": {},
     "output_type": "execute_result"
    }
   ],
   "source": [
    "plt.scatter(well_locs.COMPLETED[:50000], well_locs.TD[:50000], c=classed, cmap='viridis')"
   ]
  },
  {
   "cell_type": "code",
   "execution_count": 51,
   "metadata": {},
   "outputs": [
    {
     "data": {
      "text/plain": [
       "array([12, 19,  2, 11,  7, 15,  0,  6,  3, 17, 17, 19,  1, 12, 16,  3, 19,\n",
       "       17, 17, 19, 11, 17, 12, 16,  8, 19, 17, 12,  1, 19, 19,  1, 12,  4,\n",
       "       19, 19, 18, 12, 12, 12, 11, 12, 17, 19,  1,  1, 12, 17, 19, 19, 16,\n",
       "       19,  0,  0, 19, 14,  8,  0, 17, 19, 19,  8,  8, 19, 14, 19,  1,  1,\n",
       "       14, 14, 19, 19, 17, 10, 19, 19, 13,  1, 19,  3,  0,  0,  9, 17,  8,\n",
       "       17, 17, 17, 17,  0,  0,  5, 19, 19, 16,  0,  0,  1,  3, 19],\n",
       "      dtype=int64)"
      ]
     },
     "execution_count": 51,
     "metadata": {},
     "output_type": "execute_result"
    }
   ],
   "source": [
    "classed"
   ]
  },
  {
   "cell_type": "code",
   "execution_count": null,
   "metadata": {},
   "outputs": [],
   "source": []
  }
 ],
 "metadata": {
  "kernelspec": {
   "display_name": "Python 3",
   "language": "python",
   "name": "python3"
  },
  "language_info": {
   "codemirror_mode": {
    "name": "ipython",
    "version": 3
   },
   "file_extension": ".py",
   "mimetype": "text/x-python",
   "name": "python",
   "nbconvert_exporter": "python",
   "pygments_lexer": "ipython3",
   "version": "3.6.4"
  }
 },
 "nbformat": 4,
 "nbformat_minor": 2
}
