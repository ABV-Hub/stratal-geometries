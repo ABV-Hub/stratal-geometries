{
 "cells": [
  {
   "cell_type": "code",
   "execution_count": 433,
   "metadata": {},
   "outputs": [],
   "source": [
    "import numpy as np\n",
    "import pandas as pd\n",
    "import glob\n",
    "import matplotlib.pyplot as plt\n",
    "%matplotlib inline\n",
    "import time\n",
    "from tqdm import tqdm\n",
    "\n",
    "from IPython import display\n"
   ]
  },
  {
   "cell_type": "code",
   "execution_count": 423,
   "metadata": {},
   "outputs": [],
   "source": [
    "data = pd.read_csv(r'C:\\Users\\jesse.pisel\\Downloads\\TTL_Prod041018\\Counties35-45_041018.csv')"
   ]
  },
  {
   "cell_type": "code",
   "execution_count": 424,
   "metadata": {},
   "outputs": [
    {
     "data": {
      "text/plain": [
       "Index(['APINO', 'COMPANY', 'YR', 'JAN_OIL', 'JAN_GAS', 'JAN_WATER', 'JAN_DAYS',\n",
       "       'FEB_OIL', 'FEB_GAS', 'FEB_WATER', 'FEB_DAYS', 'MAR_OIL', 'MAR_GAS',\n",
       "       'MAR_WATER', 'MAR_DAYS', 'APR_OIL', 'APR_GAS', 'APR_WATER', 'APR_DAYS',\n",
       "       'MAY_OIL', 'MAY_GAS', 'MAY_WATER', 'MAY_DAYS', 'JUN_OIL', 'JUN_GAS',\n",
       "       'JUN_WATER', 'JUN_DAYS', 'JUL_OIL', 'JUL_GAS', 'JUL_WATER', 'JUL_DAYS',\n",
       "       'AUG_OIL', 'AUG_GAS', 'AUG_WATER', 'AUG_DAYS', 'SEP_OIL', 'SEP_GAS',\n",
       "       'SEP_WATER', 'SEP_DAYS', 'OCT_OIL', 'OCT_GAS', 'OCT_WATER', 'OCT_DAYS',\n",
       "       'NOV_OIL', 'NOV_GAS', 'NOV_WATER', 'NOV_DAYS', 'DEC_OIL', 'DEC_GAS',\n",
       "       'DEC_WATER', 'DEC_DAYS', 'API_RES', 'ResCode', 'Reservoir'],\n",
       "      dtype='object')"
      ]
     },
     "execution_count": 424,
     "metadata": {},
     "output_type": "execute_result"
    }
   ],
   "source": [
    "data.columns"
   ]
  },
  {
   "cell_type": "code",
   "execution_count": 425,
   "metadata": {},
   "outputs": [],
   "source": [
    "D2 = data[['APINO', 'YR','JAN_OIL','FEB_OIL', 'MAR_OIL','APR_OIL', 'MAY_OIL','JUN_OIL', 'JUL_OIL','AUG_OIL','SEP_OIL','OCT_OIL',\n",
    "      'NOV_OIL','DEC_OIL']]"
   ]
  },
  {
   "cell_type": "code",
   "execution_count": 426,
   "metadata": {},
   "outputs": [],
   "source": [
    "masterDF = pd.DataFrame()\n",
    "dfList = []\n",
    "APIS = []\n",
    "for well in D2.APINO.unique()[0:]:\n",
    "    d3 = D2[D2['APINO'] == well][['JAN_OIL','FEB_OIL', 'MAR_OIL','APR_OIL', 'MAY_OIL','JUN_OIL', 'JUL_OIL','AUG_OIL','SEP_OIL','OCT_OIL',\n",
    "      'NOV_OIL','DEC_OIL']].stack()\n",
    "    #print(str(D2[D2['APINO'] == well].YR.min()))\n",
    "    ind = pd.date_range(str(D2[D2['APINO'] == well].YR.min()), periods=len(D2[D2['APINO'] == well])*12, freq='M')\n",
    "    ts = pd.Series(d3.values, index=ind)\n",
    "    dfList.append(ts.to_frame(name=str(well)))\n",
    "    APIS.append(well)\n",
    "    #masterDF = pd.concat([masterDF, ts.to_frame(name=str(well))])\n",
    "masterDF =  pd.concat(dfList, axis=1)"
   ]
  },
  {
   "cell_type": "code",
   "execution_count": 427,
   "metadata": {},
   "outputs": [],
   "source": [
    "masterDF = pd.concat(dfList, axis=1).fillna(0)"
   ]
  },
  {
   "cell_type": "code",
   "execution_count": 498,
   "metadata": {},
   "outputs": [
    {
     "name": "stderr",
     "output_type": "stream",
     "text": [
      "C:\\Users\\jesse.pisel\\AppData\\Local\\Continuum\\anaconda3\\lib\\site-packages\\IPython\\core\\interactiveshell.py:2728: DtypeWarning: Columns (22,23) have mixed types. Specify dtype option on import or set low_memory=False.\n",
      "  interactivity=interactivity, compiler=compiler, result=result)\n"
     ]
    }
   ],
   "source": [
    "well_locs = pd.read_csv(r'd:\\wells.csv')"
   ]
  },
  {
   "cell_type": "code",
   "execution_count": 402,
   "metadata": {},
   "outputs": [],
   "source": [
    "coords = []\n",
    "for well in APIS:\n",
    "    coords.append(well_locs[well_locs['APINO'] == well][['latitude', 'longitude']].values)"
   ]
  },
  {
   "cell_type": "code",
   "execution_count": 390,
   "metadata": {},
   "outputs": [
    {
     "name": "stderr",
     "output_type": "stream",
     "text": [
      "100%|████████████████████████████████████████████████████████████████████████████████| 484/484 [13:54<00:00,  1.72s/it]\n"
     ]
    },
    {
     "data": {
      "image/png": "[encoded data removed]",
      "text/plain": [
       "<Figure size 432x288 with 1 Axes>"
      ]
     },
     "metadata": {},
     "output_type": "display_data"
    }
   ],
   "source": [
    "for i in tqdm(range(484)):\n",
    "    plt.clf()\n",
    "    plt.scatter(np.vstack(coords)[0:,1], np.vstack(coords)[0:,0], s=200*(masterDF.iloc[i].values/np.max(np.max(masterDF))),\n",
    "                alpha=0.5, c='g')\n",
    "    display.clear_output(wait=True)\n",
    "    time.sleep(0.01)\n",
    "    plt.xlim(np.max(np.vstack(coords)[0:,1]),np.min(np.vstack(coords)[0:,1]))\n",
    "    plt.ylim(np.min(np.vstack(coords)[0:,0]),np.max(np.vstack(coords)[0:,0]))\n",
    "    plt.title(masterDF.index[i])\n",
    "    plt.savefig('D:/fun/'+str(i)+'.png')"
   ]
  },
  {
   "cell_type": "code",
   "execution_count": 428,
   "metadata": {},
   "outputs": [],
   "source": [
    "masterDF.iloc[0:484,0:].to_csv('C:\\\\Users\\\\jesse.pisel\\\\Downloads\\\\TTL_Prod041018\\\\35to45ts.csv')"
   ]
  },
  {
   "cell_type": "code",
   "execution_count": 436,
   "metadata": {},
   "outputs": [],
   "source": [
    "path = r'C:\\\\Users\\\\jesse.pisel\\\\Downloads\\\\TTL_Prod041018\\\\timeseries\\\\'\n",
    "allFiles=glob.glob(path+\"*.csv\")\n",
    "frame=pd.DataFrame\n",
    "listed=[]\n",
    "for file in allFiles:\n",
    "    df = pd.read_csv(file, index_col=[0])\n",
    "    listed.append(df)\n",
    "frame = pd.concat(listed)"
   ]
  },
  {
   "cell_type": "code",
   "execution_count": 452,
   "metadata": {},
   "outputs": [],
   "source": [
    "ts1 = pd.read_csv(r'C:\\Users\\jesse.pisel\\Downloads\\TTL_Prod041018\\timeseries\\1to5ts.csv', index_col=[0])\n",
    "ts2 = pd.read_csv(r'C:\\Users\\jesse.pisel\\Downloads\\TTL_Prod041018\\timeseries\\7to17ts.csv', index_col=[0])\n",
    "ts3 = pd.read_csv(r'C:\\Users\\jesse.pisel\\Downloads\\TTL_Prod041018\\timeseries\\19to33ts.csv', index_col=[0])\n",
    "ts4 = pd.read_csv(r'C:\\Users\\jesse.pisel\\Downloads\\TTL_Prod041018\\timeseries\\35to45ts.csv', index_col=[0])"
   ]
  },
  {
   "cell_type": "code",
   "execution_count": 469,
   "metadata": {},
   "outputs": [],
   "source": [
    "bigTS = pd.concat([ts1, ts2, ts3, ts4], axis=1)"
   ]
  },
  {
   "cell_type": "code",
   "execution_count": 490,
   "metadata": {},
   "outputs": [
    {
     "data": {
      "text/plain": [
       "numpy.ndarray"
      ]
     },
     "execution_count": 490,
     "metadata": {},
     "output_type": "execute_result"
    }
   ],
   "source": [
    "APIS = bigTS.columns.values\n",
    "type(APIS)"
   ]
  },
  {
   "cell_type": "code",
   "execution_count": 499,
   "metadata": {},
   "outputs": [],
   "source": [
    "coords = []\n",
    "for well in APIS:\n",
    "    coords.append(well_locs[well_locs['APINO'] == int(well)][['latitude', 'longitude']].values)"
   ]
  },
  {
   "cell_type": "code",
   "execution_count": null,
   "metadata": {},
   "outputs": [
    {
     "name": "stderr",
     "output_type": "stream",
     "text": [
      "\r",
      " 96%|████████████████████████████████████████████████████████████████████████████▋   | 464/484 [18:49<00:48,  2.43s/it]"
     ]
    }
   ],
   "source": [
    "for i in tqdm(range(484)):\n",
    "    plt.clf()\n",
    "    plt.scatter(np.vstack(coords)[0:,1], np.vstack(coords)[0:,0], s=200*(bigTS.iloc[i].values/np.max(np.max(bigTS))),\n",
    "                alpha=0.5, c='g', linewidths=0)\n",
    "    display.clear_output(wait=True)\n",
    "    time.sleep(0.01)\n",
    "    plt.xlim(np.min(np.vstack(coords)[0:,1]), np.max(np.vstack(coords)[0:,1]))\n",
    "    plt.ylim(np.min(np.vstack(coords)[0:,0]),np.max(np.vstack(coords)[0:,0]))\n",
    "    plt.title(masterDF.index[i])\n",
    "    \n",
    "    plt.savefig('D:/fun/'+str(i)+'.png', dpi=100)"
   ]
  },
  {
   "cell_type": "code",
   "execution_count": null,
   "metadata": {},
   "outputs": [],
   "source": []
  }
 ],
 "metadata": {
  "kernelspec": {
   "display_name": "Python 3",
   "language": "python",
   "name": "python3"
  },
  "language_info": {
   "codemirror_mode": {
    "name": "ipython",
    "version": 3
   },
   "file_extension": ".py",
   "mimetype": "text/x-python",
   "name": "python",
   "nbconvert_exporter": "python",
   "pygments_lexer": "ipython3",
   "version": "3.6.4"
  }
 },
 "nbformat": 4,
 "nbformat_minor": 2
}
