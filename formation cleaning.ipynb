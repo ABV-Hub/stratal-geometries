{
 "cells": [
  {
   "cell_type": "code",
   "execution_count": 1,
   "metadata": {},
   "outputs": [],
   "source": [
    "import numpy as np\n",
    "import pandas as pd\n",
    "import matplotlib.pyplot as plt\n",
    "import geopandas as gpd\n",
    "from tqdm import tqdm\n",
    "import networkx as nx\n",
    "\n",
    "%matplotlib inline"
   ]
  },
  {
   "cell_type": "code",
   "execution_count": 2,
   "metadata": {},
   "outputs": [
    {
     "name": "stderr",
     "output_type": "stream",
     "text": [
      "C:\\Users\\jesse.pisel\\AppData\\Local\\Continuum\\anaconda3\\lib\\site-packages\\IPython\\core\\interactiveshell.py:2728: DtypeWarning: Columns (22,23) have mixed types. Specify dtype option on import or set low_memory=False.\n",
      "  interactivity=interactivity, compiler=compiler, result=result)\n"
     ]
    }
   ],
   "source": [
    "well_locs = pd.read_csv(r'd:\\wells.csv')\n"
   ]
  },
  {
   "cell_type": "code",
   "execution_count": 3,
   "metadata": {},
   "outputs": [
    {
     "data": {
      "text/plain": [
       "Index(['OBJECTID', 'APINO', 'COMPANY', 'WN', 'UNIT_LEASE', 'LEASE_NO',\n",
       "       'FIELD_NAME', 'HORIZ_DIR', 'LAND_TYPE', 'COUNTY', 'COUNTYTXT', 'SEC',\n",
       "       'TWP', 'T_DIR', 'RGE', 'R_DIR', 'QTR1', 'QTR2', 'longitude', 'latitude',\n",
       "       'FOOT1', 'FOOT2', 'ELEV', 'ELEVKB', 'BSEC', 'BTWP', 'BT_DIR', 'BRGE',\n",
       "       'BR_DIR', 'BQTR1', 'BQTR2', 'BFOOT1', 'BFOOT2', 'bottom longitude',\n",
       "       'bottom latitude', 'BOTFORM', 'WELL_CLASS', 'TD', 'PB', 'RN',\n",
       "       'COAL_BED', 'STATUS', 'STATUSDATE', 'CAPINO', 'FIRSTSPUD', 'SPUD',\n",
       "       'FIRSTCOMP', 'COMPLETED', 'Excluded_Corrected', 'Data_source'],\n",
       "      dtype='object')"
      ]
     },
     "execution_count": 3,
     "metadata": {},
     "output_type": "execute_result"
    }
   ],
   "source": [
    "well_locs.columns"
   ]
  },
  {
   "cell_type": "code",
   "execution_count": 4,
   "metadata": {},
   "outputs": [
    {
     "data": {
      "text/plain": [
       "122067"
      ]
     },
     "execution_count": 4,
     "metadata": {},
     "output_type": "execute_result"
    }
   ],
   "source": [
    "well_locs.shape[0]"
   ]
  },
  {
   "cell_type": "code",
   "execution_count": 202,
   "metadata": {
    "scrolled": true
   },
   "outputs": [],
   "source": [
    "texts = well_locs['BOTFORM'].fillna('none').values[0:60000]"
   ]
  },
  {
   "cell_type": "code",
   "execution_count": 189,
   "metadata": {},
   "outputs": [],
   "source": [
    "import jellyfish"
   ]
  },
  {
   "cell_type": "code",
   "execution_count": 203,
   "metadata": {},
   "outputs": [
    {
     "name": "stderr",
     "output_type": "stream",
     "text": [
      "100%|████████████████████████████████████████████████████████████████████████████| 60000/60000 [58:59<00:00, 16.95it/s]\n"
     ]
    }
   ],
   "source": [
    "bigD = []\n",
    "\n",
    "for i in tqdm(range(60000)):\n",
    "    differences = []\n",
    "    for j in range(60000):\n",
    "        differences.append(jellyfish.damerau_levenshtein_distance(texts[i], texts[j]))\n",
    "    bigD.append(differences)"
   ]
  },
  {
   "cell_type": "code",
   "execution_count": null,
   "metadata": {},
   "outputs": [],
   "source": [
    "dist = np.asarray(bigD)"
   ]
  },
  {
   "cell_type": "code",
   "execution_count": null,
   "metadata": {},
   "outputs": [],
   "source": [
    "from sklearn.cluster import DBSCAN"
   ]
  },
  {
   "cell_type": "code",
   "execution_count": null,
   "metadata": {},
   "outputs": [],
   "source": [
    "clustering = DBSCAN(eps=2, min_samples=2, metric='precomputed').fit(dist)"
   ]
  },
  {
   "cell_type": "code",
   "execution_count": null,
   "metadata": {},
   "outputs": [],
   "source": [
    "res = pd.DataFrame()\n",
    "res['cluster'] = clustering.labels_\n",
    "res['fm'] = texts\n",
    "res['api'] = well_locs.APINO\n"
   ]
  },
  {
   "cell_type": "code",
   "execution_count": null,
   "metadata": {},
   "outputs": [],
   "source": [
    "for i in range(0, res.cluster.unique().shape[0]-1):\n",
    "    res.loc[res[res['cluster'] == i].index, 'fm'] = res[res['cluster'] == i]['fm'].values[0]"
   ]
  },
  {
   "cell_type": "code",
   "execution_count": null,
   "metadata": {},
   "outputs": [],
   "source": [
    "res.fm.unique().shape"
   ]
  },
  {
   "cell_type": "code",
   "execution_count": null,
   "metadata": {},
   "outputs": [],
   "source": [
    "res.cluster.unique().shape"
   ]
  },
  {
   "cell_type": "code",
   "execution_count": null,
   "metadata": {},
   "outputs": [],
   "source": [
    "res[res['cluster']==-1]"
   ]
  },
  {
   "cell_type": "code",
   "execution_count": null,
   "metadata": {},
   "outputs": [],
   "source": []
  }
 ],
 "metadata": {
  "kernelspec": {
   "display_name": "Python 3",
   "language": "python",
   "name": "python3"
  },
  "language_info": {
   "codemirror_mode": {
    "name": "ipython",
    "version": 3
   },
   "file_extension": ".py",
   "mimetype": "text/x-python",
   "name": "python",
   "nbconvert_exporter": "python",
   "pygments_lexer": "ipython3",
   "version": "3.6.4"
  }
 },
 "nbformat": 4,
 "nbformat_minor": 2
}
